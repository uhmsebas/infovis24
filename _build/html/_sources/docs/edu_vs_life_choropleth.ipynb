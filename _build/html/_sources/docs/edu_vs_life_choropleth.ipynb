{
 "cells": [
  {
   "cell_type": "code",
   "execution_count": 5,
   "metadata": {},
   "outputs": [],
   "source": [
    "import pandas as pd\n",
    "import geopandas as gpd\n",
    "import plotly.graph_objects as go\n",
    "\n",
    "import warnings\n",
    "warnings.filterwarnings(\"ignore\", category=FutureWarning) "
   ]
  },
  {
   "cell_type": "code",
   "execution_count": 6,
   "metadata": {},
   "outputs": [
    {
     "data": {
      "application/vnd.plotly.v1+json": {
       "config": {
        "plotlyServerURL": "https://plot.ly"
       },
       "data": [
        {
         "colorscale": [
          [
           0,
           "#d3d3d3"
          ],
          [
           1,
           "#d3d3d3"
          ]
         ],
         "geo": "geo",
         "hoverinfo": "text",
         "locations": [
          "TZA",
          "TZA",
          "UZB",
          "UZB",
          "SDN",
          "SDN",
          "ZAF",
          "ZAF",
          "LSO",
          "LSO",
          "BLZ",
          "ZWE",
          "ZWE",
          "NAM",
          "NAM",
          "SEN",
          "SEN",
          "MLI",
          "MLI",
          "MRT",
          "MRT",
          "BEN",
          "BEN",
          "CMR",
          "CMR",
          "TGO",
          "TGO",
          "GHA",
          "GHA",
          "GIN",
          "GIN",
          "BFA",
          "BFA",
          "MOZ",
          "MOZ",
          "AGO",
          "AGO",
          "MDG",
          "MDG",
          "BGD",
          "BGD",
          "BTN",
          "BTN",
          "NPL",
          "NPL",
          "PAK",
          "PAK",
          "TJK",
          "UGA",
          "UGA",
          "RWA",
          "RWA"
         ],
         "name": "Low Education_Low Education & L.E",
         "showscale": false,
         "text": [
          "<b>Tanzania</b><br>Bi-Class: low_low<br>Education: 0.0429554444600016<br>Life Expectancy: 0.4838709677419355",
          "<b>Tanzania</b><br>Bi-Class: low_low<br>Education: 0.019033279807185<br>Life Expectancy: 0.4838709677419355",
          "<b>Uzbekistan</b><br>Bi-Class: low_low<br>Education: 0.082561008118408<br>Life Expectancy: 0.6280834914611007",
          "<b>Uzbekistan</b><br>Bi-Class: low_low<br>Education: 0.0491431924345567<br>Life Expectancy: 0.6280834914611007",
          "<b>Sudan</b><br>Bi-Class: low_low<br>Education: 0.136286422174565<br>Life Expectancy: 0.5275142314990511",
          "<b>Sudan</b><br>Bi-Class: low_low<br>Education: 0.1516640780324839<br>Life Expectancy: 0.5275142314990511",
          "<b>South Africa</b><br>Bi-Class: low_low<br>Education: 0.1225852045505339<br>Life Expectancy: 0.5047438330170777",
          "<b>South Africa</b><br>Bi-Class: low_low<br>Education: 0.1750268776321636<br>Life Expectancy: 0.5047438330170777",
          "<b>Lesotho</b><br>Bi-Class: low_low<br>Education: 0.0713882706626454<br>Life Expectancy: 0.3301707779886149",
          "<b>Lesotho</b><br>Bi-Class: low_low<br>Education: 0.1010163371329613<br>Life Expectancy: 0.3301707779886149",
          "<b>Belize</b><br>Bi-Class: low_low<br>Education: 0.1477110359519486<br>Life Expectancy: 0.6584440227703985",
          "<b>Zimbabwe</b><br>Bi-Class: low_low<br>Education: 0.073675371654576<br>Life Expectancy: 0.5825426944971537",
          "<b>Zimbabwe</b><br>Bi-Class: low_low<br>Education: 0.0523326775260862<br>Life Expectancy: 0.5825426944971537",
          "<b>Namibia</b><br>Bi-Class: low_low<br>Education: 0.1238787806882098<br>Life Expectancy: 0.5597722960151803",
          "<b>Namibia</b><br>Bi-Class: low_low<br>Education: 0.1652874497097364<br>Life Expectancy: 0.5597722960151803",
          "<b>Senegal</b><br>Bi-Class: low_low<br>Education: 0.1075314864980735<br>Life Expectancy: 0.5768500948766604",
          "<b>Senegal</b><br>Bi-Class: low_low<br>Education: 0.0627146773216105<br>Life Expectancy: 0.5768500948766604",
          "<b>Mali</b><br>Bi-Class: low_low<br>Education: 0.0697728293540529<br>Life Expectancy: 0.4155597722960151",
          "<b>Mali</b><br>Bi-Class: low_low<br>Education: 0.0287389899847963<br>Life Expectancy: 0.4155597722960151",
          "<b>Mauritania</b><br>Bi-Class: low_low<br>Education: 0.0690706712080675<br>Life Expectancy: 0.50853889943074",
          "<b>Mauritania</b><br>Bi-Class: low_low<br>Education: 0.0263880904646068<br>Life Expectancy: 0.50853889943074",
          "<b>Benin</b><br>Bi-Class: low_low<br>Education: 0.1808579787911265<br>Life Expectancy: 0.4497153700189753",
          "<b>Benin</b><br>Bi-Class: low_low<br>Education: 0.0687993767438197<br>Life Expectancy: 0.4497153700189753",
          "<b>Cameroon</b><br>Bi-Class: low_low<br>Education: 0.1432800427699559<br>Life Expectancy: 0.398481973434535",
          "<b>Cameroon</b><br>Bi-Class: low_low<br>Education: 0.109915189597274<br>Life Expectancy: 0.398481973434535",
          "<b>Togo</b><br>Bi-Class: low_low<br>Education: 0.129631783716724<br>Life Expectancy: 0.4478178368121441",
          "<b>Togo</b><br>Bi-Class: low_low<br>Education: 0.0508784564499512<br>Life Expectancy: 0.4478178368121441",
          "<b>Ghana</b><br>Bi-Class: low_low<br>Education: 0.1353462026436556<br>Life Expectancy: 0.4952561669829223",
          "<b>Ghana</b><br>Bi-Class: low_low<br>Education: 0.0850480907610208<br>Life Expectancy: 0.4952561669829223",
          "<b>Guinea</b><br>Bi-Class: low_low<br>Education: 0.1195664478039127<br>Life Expectancy: 0.430740037950664",
          "<b>Guinea</b><br>Bi-Class: low_low<br>Education: 0.0512519680485061<br>Life Expectancy: 0.430740037950664",
          "<b>Burkina Faso</b><br>Bi-Class: low_low<br>Education: 0.0499831019701665<br>Life Expectancy: 0.4478178368121441",
          "<b>Burkina Faso</b><br>Bi-Class: low_low<br>Education: 0.0237877162782199<br>Life Expectancy: 0.4478178368121441",
          "<b>Mozambique</b><br>Bi-Class: low_low<br>Education: 0.0557201583218933<br>Life Expectancy: 0.4041745730550286",
          "<b>Mozambique</b><br>Bi-Class: low_low<br>Education: 0.0366653926630026<br>Life Expectancy: 0.4041745730550286",
          "<b>Angola</b><br>Bi-Class: low_low<br>Education: 0.0824890333227074<br>Life Expectancy: 0.3055028462998103",
          "<b>Angola</b><br>Bi-Class: low_low<br>Education: 0.0661709057502096<br>Life Expectancy: 0.3055028462998103",
          "<b>Madagascar</b><br>Bi-Class: low_low<br>Education: 0.0344864587638545<br>Life Expectancy: 0.554079696394687",
          "<b>Madagascar</b><br>Bi-Class: low_low<br>Education: 0.0330576885365878<br>Life Expectancy: 0.554079696394687",
          "<b>Bangladesh</b><br>Bi-Class: low_low<br>Education: 0.1295062592947477<br>Life Expectancy: 0.6736242884250474",
          "<b>Bangladesh</b><br>Bi-Class: low_low<br>Education: 0.0936506983391888<br>Life Expectancy: 0.6736242884250474",
          "<b>Bhutan</b><br>Bi-Class: low_low<br>Education: 0.0918238719495647<br>Life Expectancy: 0.6356736242884251",
          "<b>Bhutan</b><br>Bi-Class: low_low<br>Education: 0.0757253096659088<br>Life Expectancy: 0.6356736242884251",
          "<b>Nepal</b><br>Bi-Class: low_low<br>Education: 0.148035880042473<br>Life Expectancy: 0.6242884250474383",
          "<b>Nepal</b><br>Bi-Class: low_low<br>Education: 0.118562591299908<br>Life Expectancy: 0.6242884250474383",
          "<b>Pakistan</b><br>Bi-Class: low_low<br>Education: 0.0727439076254759<br>Life Expectancy: 0.5711574952561671",
          "<b>Pakistan</b><br>Bi-Class: low_low<br>Education: 0.0721819872424909<br>Life Expectancy: 0.5711574952561671",
          "<b>Tajikistan</b><br>Bi-Class: low_low<br>Education: 0.1318299742033341<br>Life Expectancy: 0.6337760910815939",
          "<b>Uganda</b><br>Bi-Class: low_low<br>Education: 0.0370618766177895<br>Life Expectancy: 0.4933586337760911",
          "<b>Uganda</b><br>Bi-Class: low_low<br>Education: 0.0274265729686776<br>Life Expectancy: 0.4933586337760911",
          "<b>Rwanda</b><br>Bi-Class: low_low<br>Education: 0.0651992814715873<br>Life Expectancy: 0.5654648956356736",
          "<b>Rwanda</b><br>Bi-Class: low_low<br>Education: 0.0511335520537411<br>Life Expectancy: 0.5654648956356736"
         ],
         "type": "choropleth",
         "z": [
          0.0429554444600016,
          0.019033279807185,
          0.082561008118408,
          0.0491431924345567,
          0.136286422174565,
          0.1516640780324839,
          0.1225852045505339,
          0.1750268776321636,
          0.0713882706626454,
          0.1010163371329613,
          0.1477110359519486,
          0.073675371654576,
          0.0523326775260862,
          0.1238787806882098,
          0.1652874497097364,
          0.1075314864980735,
          0.0627146773216105,
          0.0697728293540529,
          0.0287389899847963,
          0.0690706712080675,
          0.0263880904646068,
          0.1808579787911265,
          0.0687993767438197,
          0.1432800427699559,
          0.109915189597274,
          0.129631783716724,
          0.0508784564499512,
          0.1353462026436556,
          0.0850480907610208,
          0.1195664478039127,
          0.0512519680485061,
          0.0499831019701665,
          0.0237877162782199,
          0.0557201583218933,
          0.0366653926630026,
          0.0824890333227074,
          0.0661709057502096,
          0.0344864587638545,
          0.0330576885365878,
          0.1295062592947477,
          0.0936506983391888,
          0.0918238719495647,
          0.0757253096659088,
          0.148035880042473,
          0.118562591299908,
          0.0727439076254759,
          0.0721819872424909,
          0.1318299742033341,
          0.0370618766177895,
          0.0274265729686776,
          0.0651992814715873,
          0.0511335520537411
         ]
        },
        {
         "colorscale": [
          [
           0,
           "#c098b9"
          ],
          [
           1,
           "#c098b9"
          ]
         ],
         "geo": "geo",
         "hoverinfo": "text",
         "locations": [
          "NIC",
          "NIC",
          "HND",
          "GTM",
          "GTM",
          "JAM",
          "LKA",
          "LKA",
          "AZE",
          "AZE",
          "MAR"
         ],
         "name": "Low Education_Medium Education & L.E",
         "showscale": false,
         "text": [
          "<b>Nicaragua</b><br>Bi-Class: low_medium<br>Education: 0.1198048480606435<br>Life Expectancy: 0.730550284629981",
          "<b>Nicaragua</b><br>Bi-Class: low_medium<br>Education: 0.1485372211793673<br>Life Expectancy: 0.730550284629981",
          "<b>Honduras</b><br>Bi-Class: low_medium<br>Education: 0.1333498851852569<br>Life Expectancy: 0.7267552182163186",
          "<b>Guatemala</b><br>Bi-Class: low_medium<br>Education: 0.1571664420155096<br>Life Expectancy: 0.6755218216318786",
          "<b>Guatemala</b><br>Bi-Class: low_medium<br>Education: 0.1656974057890446<br>Life Expectancy: 0.6755218216318786",
          "<b>Jamaica</b><br>Bi-Class: low_medium<br>Education: 0.1300870225263603<br>Life Expectancy: 0.7571157495256167",
          "<b>Sri Lanka</b><br>Bi-Class: low_medium<br>Education: 0.1156152261742494<br>Life Expectancy: 0.7324478178368123",
          "<b>Sri Lanka</b><br>Bi-Class: low_medium<br>Education: 0.1785008810691607<br>Life Expectancy: 0.7324478178368123",
          "<b>Azerbaijan</b><br>Bi-Class: low_medium<br>Education: 0.1669446274157914<br>Life Expectancy: 0.6907020872865275",
          "<b>Azerbaijan</b><br>Bi-Class: low_medium<br>Education: 0.1859035278165752<br>Life Expectancy: 0.6907020872865275",
          "<b>Morocco</b><br>Bi-Class: low_medium<br>Education: 0.1815655746475066<br>Life Expectancy: 0.7210626185958253"
         ],
         "type": "choropleth",
         "z": [
          0.1198048480606435,
          0.1485372211793673,
          0.1333498851852569,
          0.1571664420155096,
          0.1656974057890446,
          0.1300870225263603,
          0.1156152261742494,
          0.1785008810691607,
          0.1669446274157914,
          0.1859035278165752,
          0.1815655746475066
         ]
        },
        {
         "colorscale": [
          [
           0,
           "#ad5b9c"
          ],
          [
           1,
           "#ad5b9c"
          ]
         ],
         "geo": "geo",
         "hoverinfo": "text",
         "locations": [
          "QAT"
         ],
         "name": "Low Education_High Education & L.E",
         "showscale": false,
         "text": [
          "<b>Qatar</b><br>Bi-Class: low_high<br>Education: 0.0560207848993126<br>Life Expectancy: 0.7950664136622392"
         ],
         "type": "choropleth",
         "z": [
          0.0560207848993126
         ]
        },
        {
         "colorscale": [
          [
           0,
           "#97c5c5"
          ],
          [
           1,
           "#97c5c5"
          ]
         ],
         "geo": "geo",
         "hoverinfo": "text",
         "locations": [
          "IDN",
          "IDN",
          "BLZ",
          "MNG",
          "IND",
          "IND",
          "TJK",
          "PHL",
          "PHL"
         ],
         "name": "Medium Education_Low Education & L.E",
         "showscale": false,
         "text": [
          "<b>Indonesia</b><br>Bi-Class: medium_low<br>Education: 0.2329072067970666<br>Life Expectancy: 0.6223908918406071",
          "<b>Indonesia</b><br>Bi-Class: medium_low<br>Education: 0.2690226509057842<br>Life Expectancy: 0.6223908918406071",
          "<b>Belize</b><br>Bi-Class: medium_low<br>Education: 0.2446500448436246<br>Life Expectancy: 0.6584440227703985",
          "<b>Mongolia</b><br>Bi-Class: medium_low<br>Education: 0.4118306068297132<br>Life Expectancy: 0.6166982922201139",
          "<b>India</b><br>Bi-Class: medium_low<br>Education: 0.2088198519891678<br>Life Expectancy: 0.6072106261859582",
          "<b>India</b><br>Bi-Class: medium_low<br>Education: 0.1915242447484484<br>Life Expectancy: 0.6072106261859582",
          "<b>Tajikistan</b><br>Bi-Class: medium_low<br>Education: 0.2425588748021702<br>Life Expectancy: 0.6337760910815939",
          "<b>Philippines</b><br>Bi-Class: medium_low<br>Education: 0.2466504130022307<br>Life Expectancy: 0.6110056925996206",
          "<b>Philippines</b><br>Bi-Class: medium_low<br>Education: 0.3109408727949748<br>Life Expectancy: 0.6110056925996206"
         ],
         "type": "choropleth",
         "z": [
          0.2329072067970666,
          0.2690226509057842,
          0.2446500448436246,
          0.4118306068297132,
          0.2088198519891678,
          0.1915242447484484,
          0.2425588748021702,
          0.2466504130022307,
          0.3109408727949748
         ]
        },
        {
         "colorscale": [
          [
           0,
           "#898ead"
          ],
          [
           1,
           "#898ead"
          ]
         ],
         "geo": "geo",
         "hoverinfo": "text",
         "locations": [
          "KAZ",
          "BRA",
          "BRA",
          "COL",
          "COL",
          "HND",
          "SLV",
          "SLV",
          "JAM",
          "LBN",
          "LBN",
          "TUN",
          "TUN",
          "DZA",
          "DZA",
          "THA",
          "VNM",
          "VNM",
          "IRN",
          "ARM",
          "ARM",
          "HUN",
          "MDA",
          "MDA",
          "ROU",
          "GEO",
          "GEO",
          "MYS",
          "MYS",
          "SAU",
          "SAU",
          "MAR",
          "MKD",
          "MKD",
          "SRB",
          "MNE"
         ],
         "name": "Medium Education_Medium Education & L.E",
         "showscale": false,
         "text": [
          "<b>Kazakhstan</b><br>Bi-Class: medium_medium<br>Education: 0.3918080114683665<br>Life Expectancy: 0.6774193548387097",
          "<b>Brazil</b><br>Bi-Class: medium_medium<br>Education: 0.3107357529020065<br>Life Expectancy: 0.7343453510436433",
          "<b>Brazil</b><br>Bi-Class: medium_medium<br>Education: 0.420762763300007<br>Life Expectancy: 0.7343453510436433",
          "<b>Colombia</b><br>Bi-Class: medium_medium<br>Education: 0.3923261228193478<br>Life Expectancy: 0.730550284629981",
          "<b>Colombia</b><br>Bi-Class: medium_medium<br>Education: 0.4448456418477551<br>Life Expectancy: 0.730550284629981",
          "<b>Honduras</b><br>Bi-Class: medium_medium<br>Education: 0.1860058355793891<br>Life Expectancy: 0.7267552182163186",
          "<b>El Salvador</b><br>Bi-Class: medium_medium<br>Education: 0.2134505903996519<br>Life Expectancy: 0.7058823529411764",
          "<b>El Salvador</b><br>Bi-Class: medium_medium<br>Education: 0.2493533333438075<br>Life Expectancy: 0.7058823529411764",
          "<b>Jamaica</b><br>Bi-Class: medium_medium<br>Education: 0.2975554679337696<br>Life Expectancy: 0.7571157495256167",
          "<b>Lebanon</b><br>Bi-Class: medium_medium<br>Education: 0.3541907505560825<br>Life Expectancy: 0.7324478178368123",
          "<b>Lebanon</b><br>Bi-Class: medium_medium<br>Education: 0.4399546026049078<br>Life Expectancy: 0.7324478178368123",
          "<b>Tunisia</b><br>Bi-Class: medium_medium<br>Education: 0.2110905137580795<br>Life Expectancy: 0.7400379506641366",
          "<b>Tunisia</b><br>Bi-Class: medium_medium<br>Education: 0.3335496116969914<br>Life Expectancy: 0.7400379506641366",
          "<b>Algeria</b><br>Bi-Class: medium_medium<br>Education: 0.2306877855976987<br>Life Expectancy: 0.7457305502846299",
          "<b>Algeria</b><br>Bi-Class: medium_medium<br>Education: 0.3574825985756035<br>Life Expectancy: 0.7457305502846299",
          "<b>Thailand</b><br>Bi-Class: medium_medium<br>Education: 0.3494089383655075<br>Life Expectancy: 0.7324478178368123",
          "<b>Vietnam</b><br>Bi-Class: medium_medium<br>Education: 0.2358499380477806<br>Life Expectancy: 0.7533206831119545",
          "<b>Vietnam</b><br>Bi-Class: medium_medium<br>Education: 0.2070845131067459<br>Life Expectancy: 0.7533206831119545",
          "<b>Iran</b><br>Bi-Class: medium_medium<br>Education: 0.4572299090601541<br>Life Expectancy: 0.7438330170777989",
          "<b>Armenia</b><br>Bi-Class: medium_medium<br>Education: 0.3197012921856789<br>Life Expectancy: 0.730550284629981",
          "<b>Armenia</b><br>Bi-Class: medium_medium<br>Education: 0.3648859230666322<br>Life Expectancy: 0.730550284629981",
          "<b>Hungary</b><br>Bi-Class: medium_medium<br>Education: 0.411615178929214<br>Life Expectancy: 0.7495256166982922",
          "<b>Moldova</b><br>Bi-Class: medium_medium<br>Education: 0.2973117954621778<br>Life Expectancy: 0.6793168880455407",
          "<b>Moldova</b><br>Bi-Class: medium_medium<br>Education: 0.3843336972741011<br>Life Expectancy: 0.6793168880455407",
          "<b>Romania</b><br>Bi-Class: medium_medium<br>Education: 0.3770183218381488<br>Life Expectancy: 0.7343453510436433",
          "<b>Georgia</b><br>Bi-Class: medium_medium<br>Education: 0.2834671010911287<br>Life Expectancy: 0.7229601518026567",
          "<b>Georgia</b><br>Bi-Class: medium_medium<br>Education: 0.367680401842069<br>Life Expectancy: 0.7229601518026567",
          "<b>Malaysia</b><br>Bi-Class: medium_medium<br>Education: 0.2677141959315504<br>Life Expectancy: 0.7343453510436433",
          "<b>Malaysia</b><br>Bi-Class: medium_medium<br>Education: 0.3646126505367192<br>Life Expectancy: 0.7343453510436433",
          "<b>Saudi Arabia</b><br>Bi-Class: medium_medium<br>Education: 0.3012130137984307<br>Life Expectancy: 0.7248576850094877",
          "<b>Saudi Arabia</b><br>Bi-Class: medium_medium<br>Education: 0.4423712787190218<br>Life Expectancy: 0.7248576850094877",
          "<b>Morocco</b><br>Bi-Class: medium_medium<br>Education: 0.1889131192629226<br>Life Expectancy: 0.7210626185958253",
          "<b>North Macedonia</b><br>Bi-Class: medium_medium<br>Education: 0.2825091183729312<br>Life Expectancy: 0.7476280834914613",
          "<b>North Macedonia</b><br>Bi-Class: medium_medium<br>Education: 0.3544459289076399<br>Life Expectancy: 0.7476280834914613",
          "<b>Serbia</b><br>Bi-Class: medium_medium<br>Education: 0.4025466541391135<br>Life Expectancy: 0.7457305502846299",
          "<b>Montenegro</b><br>Bi-Class: medium_medium<br>Education: 0.425611561778051<br>Life Expectancy: 0.7552182163187855"
         ],
         "type": "choropleth",
         "z": [
          0.3918080114683665,
          0.3107357529020065,
          0.420762763300007,
          0.3923261228193478,
          0.4448456418477551,
          0.1860058355793891,
          0.2134505903996519,
          0.2493533333438075,
          0.2975554679337696,
          0.3541907505560825,
          0.4399546026049078,
          0.2110905137580795,
          0.3335496116969914,
          0.2306877855976987,
          0.3574825985756035,
          0.3494089383655075,
          0.2358499380477806,
          0.2070845131067459,
          0.4572299090601541,
          0.3197012921856789,
          0.3648859230666322,
          0.411615178929214,
          0.2973117954621778,
          0.3843336972741011,
          0.3770183218381488,
          0.2834671010911287,
          0.367680401842069,
          0.2677141959315504,
          0.3646126505367192,
          0.3012130137984307,
          0.4423712787190218,
          0.1889131192629226,
          0.2825091183729312,
          0.3544459289076399,
          0.4025466541391135,
          0.425611561778051
         ]
        },
        {
         "colorscale": [
          [
           0,
           "#7c5592"
          ],
          [
           1,
           "#7c5592"
          ]
         ],
         "geo": "geo",
         "hoverinfo": "text",
         "locations": [
          "CAN",
          "MEX",
          "MEX",
          "CRI",
          "CRI",
          "FRA",
          "ISR",
          "QAT",
          "OMN",
          "OMN",
          "SWE",
          "HRV",
          "CHE",
          "CHE",
          "ITA",
          "GBR",
          "CZE",
          "CYP",
          "CYP"
         ],
         "name": "Medium Education_High Education & L.E",
         "showscale": false,
         "text": [
          "<b>Canada</b><br>Bi-Class: medium_high<br>Education: 0.4627433376017213<br>Life Expectancy: 0.870967741935484",
          "<b>Mexico</b><br>Bi-Class: medium_high<br>Education: 0.2520873353227697<br>Life Expectancy: 0.7666034155597723",
          "<b>Mexico</b><br>Bi-Class: medium_high<br>Education: 0.2470655703697421<br>Life Expectancy: 0.7666034155597723",
          "<b>Costa Rica</b><br>Bi-Class: medium_high<br>Education: 0.3491823513375904<br>Life Expectancy: 0.8216318785578747",
          "<b>Costa Rica</b><br>Bi-Class: medium_high<br>Education: 0.4430241191959502<br>Life Expectancy: 0.8216318785578747",
          "<b>France</b><br>Bi-Class: medium_high<br>Education: 0.4404468020837478<br>Life Expectancy: 0.8747628083491463",
          "<b>Israel</b><br>Bi-Class: medium_high<br>Education: 0.438477090002583<br>Life Expectancy: 0.8766603415559773",
          "<b>Qatar</b><br>Bi-Class: medium_high<br>Education: 0.3577619235136077<br>Life Expectancy: 0.7950664136622392",
          "<b>Oman</b><br>Bi-Class: medium_high<br>Education: 0.2381148153537512<br>Life Expectancy: 0.7647058823529411",
          "<b>Oman</b><br>Bi-Class: medium_high<br>Education: 0.3511110835723031<br>Life Expectancy: 0.7647058823529411",
          "<b>Sweden</b><br>Bi-Class: medium_high<br>Education: 0.4265505676750455<br>Life Expectancy: 0.8747628083491463",
          "<b>Croatia</b><br>Bi-Class: medium_high<br>Education: 0.4634416341852533<br>Life Expectancy: 0.7912713472485768",
          "<b>Switzerland</b><br>Bi-Class: medium_high<br>Education: 0.4601124945054611<br>Life Expectancy: 0.8937381404174574",
          "<b>Switzerland</b><br>Bi-Class: medium_high<br>Education: 0.4664075032877332<br>Life Expectancy: 0.8937381404174574",
          "<b>Italy</b><br>Bi-Class: medium_high<br>Education: 0.4204370996125536<br>Life Expectancy: 0.8804554079696396",
          "<b>United Kingdom</b><br>Bi-Class: medium_high<br>Education: 0.4055847738631829<br>Life Expectancy: 0.8519924098671727",
          "<b>Czechia</b><br>Bi-Class: medium_high<br>Education: 0.4557399764120583<br>Life Expectancy: 0.8064516129032258",
          "<b>Cyprus</b><br>Bi-Class: medium_high<br>Education: 0.3427311778173799<br>Life Expectancy: 0.9240986717267552",
          "<b>Cyprus</b><br>Bi-Class: medium_high<br>Education: 0.4426339910577338<br>Life Expectancy: 0.9240986717267552"
         ],
         "type": "choropleth",
         "z": [
          0.4627433376017213,
          0.2520873353227697,
          0.2470655703697421,
          0.3491823513375904,
          0.4430241191959502,
          0.4404468020837478,
          0.438477090002583,
          0.3577619235136077,
          0.2381148153537512,
          0.3511110835723031,
          0.4265505676750455,
          0.4634416341852533,
          0.4601124945054611,
          0.4664075032877332,
          0.4204370996125536,
          0.4055847738631829,
          0.4557399764120583,
          0.3427311778173799,
          0.4426339910577338
         ]
        },
        {
         "colorscale": [
          [
           0,
           "#52b6b6"
          ],
          [
           1,
           "#52b6b6"
          ]
         ],
         "geo": "geo",
         "hoverinfo": "text",
         "locations": [
          "MNG",
          "UKR",
          "UKR"
         ],
         "name": "High Education_Low Education & L.E",
         "showscale": false,
         "text": [
          "<b>Mongolia</b><br>Bi-Class: high_low<br>Education: 0.5865965068709913<br>Life Expectancy: 0.6166982922201139",
          "<b>Ukraine</b><br>Bi-Class: high_low<br>Education: 0.6134921475102856<br>Life Expectancy: 0.6641366223908918",
          "<b>Ukraine</b><br>Bi-Class: high_low<br>Education: 0.7351982565321327<br>Life Expectancy: 0.6641366223908918"
         ],
         "type": "choropleth",
         "z": [
          0.5865965068709913,
          0.6134921475102856,
          0.7351982565321327
         ]
        },
        {
         "colorscale": [
          [
           0,
           "#4a839f"
          ],
          [
           1,
           "#4a839f"
          ]
         ],
         "geo": "geo",
         "hoverinfo": "text",
         "locations": [
          "KAZ",
          "ARG",
          "ARG",
          "RUS",
          "RUS",
          "THA",
          "IRN",
          "BLR",
          "BLR",
          "HUN",
          "ROU",
          "LTU",
          "LTU",
          "BGR",
          "BGR",
          "SRB",
          "MNE"
         ],
         "name": "High Education_Medium Education & L.E",
         "showscale": false,
         "text": [
          "<b>Kazakhstan</b><br>Bi-Class: high_medium<br>Education: 0.4894832233015419<br>Life Expectancy: 0.6774193548387097",
          "<b>Argentina</b><br>Bi-Class: high_medium<br>Education: 0.4962838918660644<br>Life Expectancy: 0.7590132827324478",
          "<b>Argentina</b><br>Bi-Class: high_medium<br>Education: 0.8103767305359393<br>Life Expectancy: 0.7590132827324478",
          "<b>Russia</b><br>Bi-Class: high_medium<br>Education: 0.6074763060512239<br>Life Expectancy: 0.7343453510436433",
          "<b>Russia</b><br>Bi-Class: high_medium<br>Education: 0.7493302511497655<br>Life Expectancy: 0.7343453510436433",
          "<b>Thailand</b><br>Bi-Class: high_medium<br>Education: 0.4826567059107956<br>Life Expectancy: 0.7324478178368123",
          "<b>Iran</b><br>Bi-Class: high_medium<br>Education: 0.4761515335621458<br>Life Expectancy: 0.7438330170777989",
          "<b>Belarus</b><br>Bi-Class: high_medium<br>Education: 0.7232588728374019<br>Life Expectancy: 0.683111954459203",
          "<b>Belarus</b><br>Bi-Class: high_medium<br>Education: 0.9545658333771116<br>Life Expectancy: 0.683111954459203",
          "<b>Hungary</b><br>Bi-Class: high_medium<br>Education: 0.5350695197236356<br>Life Expectancy: 0.7495256166982922",
          "<b>Romania</b><br>Bi-Class: high_medium<br>Education: 0.4734983722110487<br>Life Expectancy: 0.7343453510436433",
          "<b>Lithuania</b><br>Bi-Class: high_medium<br>Education: 0.491195834130662<br>Life Expectancy: 0.7077798861480076",
          "<b>Lithuania</b><br>Bi-Class: high_medium<br>Education: 0.7284616741428683<br>Life Expectancy: 0.7077798861480076",
          "<b>Bulgaria</b><br>Bi-Class: high_medium<br>Education: 0.4765585264833256<br>Life Expectancy: 0.7248576850094877",
          "<b>Bulgaria</b><br>Bi-Class: high_medium<br>Education: 0.6058077327955598<br>Life Expectancy: 0.7248576850094877",
          "<b>Serbia</b><br>Bi-Class: high_medium<br>Education: 0.5357553332154793<br>Life Expectancy: 0.7457305502846299",
          "<b>Montenegro</b><br>Bi-Class: high_medium<br>Education: 0.5160626256180665<br>Life Expectancy: 0.7552182163187855"
         ],
         "type": "choropleth",
         "z": [
          0.4894832233015419,
          0.4962838918660644,
          0.8103767305359393,
          0.6074763060512239,
          0.7493302511497655,
          0.4826567059107956,
          0.4761515335621458,
          0.7232588728374019,
          0.9545658333771116,
          0.5350695197236356,
          0.4734983722110487,
          0.491195834130662,
          0.7284616741428683,
          0.4765585264833256,
          0.6058077327955598,
          0.5357553332154793,
          0.5160626256180665
         ]
        },
        {
         "colorscale": [
          [
           0,
           "#004529"
          ],
          [
           1,
           "#004529"
          ]
         ],
         "geo": "geo",
         "hoverinfo": "text",
         "locations": [
          "CAN",
          "USA",
          "USA",
          "CHL",
          "CHL",
          "NOR",
          "NOR",
          "FRA",
          "ISR",
          "SWE",
          "POL",
          "POL",
          "AUT",
          "AUT",
          "EST",
          "EST",
          "DEU",
          "DEU",
          "GRC",
          "GRC",
          "ALB",
          "ALB",
          "HRV",
          "BEL",
          "BEL",
          "ESP",
          "ESP",
          "IRL",
          "IRL",
          "NZL",
          "NZL",
          "ITA",
          "DNK",
          "DNK",
          "GBR",
          "ISL",
          "ISL",
          "SVN",
          "SVN",
          "FIN",
          "FIN",
          "CZE",
          "JPN",
          "JPN"
         ],
         "name": "High Education_High Education & L.E",
         "showscale": false,
         "text": [
          "<b>Canada</b><br>Bi-Class: high_high<br>Education: 0.6270047790332433<br>Life Expectancy: 0.870967741935484",
          "<b>United States of America</b><br>Bi-Class: high_high<br>Education: 0.6193525177365021<br>Life Expectancy: 0.8159392789373814",
          "<b>United States of America</b><br>Bi-Class: high_high<br>Education: 0.8510270359759226<br>Life Expectancy: 0.8159392789373814",
          "<b>Chile</b><br>Bi-Class: high_high<br>Education: 0.6244225443394661<br>Life Expectancy: 0.9240986717267552",
          "<b>Chile</b><br>Bi-Class: high_high<br>Education: 0.6946253084330641<br>Life Expectancy: 0.9240986717267552",
          "<b>Norway</b><br>Bi-Class: high_high<br>Education: 0.5021427489902586<br>Life Expectancy: 0.8633776091081593",
          "<b>Norway</b><br>Bi-Class: high_high<br>Education: 0.7562554669245414<br>Life Expectancy: 0.8633776091081593",
          "<b>France</b><br>Bi-Class: high_high<br>Education: 0.5485440084664348<br>Life Expectancy: 0.8747628083491463",
          "<b>Israel</b><br>Bi-Class: high_high<br>Education: 0.5883732038753703<br>Life Expectancy: 0.8766603415559773",
          "<b>Sweden</b><br>Bi-Class: high_high<br>Education: 0.6644571433479993<br>Life Expectancy: 0.8747628083491463",
          "<b>Poland</b><br>Bi-Class: high_high<br>Education: 0.4757679621993611<br>Life Expectancy: 0.7817836812144212",
          "<b>Poland</b><br>Bi-Class: high_high<br>Education: 0.7394368966194748<br>Life Expectancy: 0.7817836812144212",
          "<b>Austria</b><br>Bi-Class: high_high<br>Education: 0.6074597880208088<br>Life Expectancy: 0.857685009487666",
          "<b>Austria</b><br>Bi-Class: high_high<br>Education: 0.7314520681073017<br>Life Expectancy: 0.857685009487666",
          "<b>Estonia</b><br>Bi-Class: high_high<br>Education: 0.499986200332234<br>Life Expectancy: 0.7836812144212522",
          "<b>Estonia</b><br>Bi-Class: high_high<br>Education: 0.7535068540541716<br>Life Expectancy: 0.7836812144212522",
          "<b>Germany</b><br>Bi-Class: high_high<br>Education: 0.519627683121583<br>Life Expectancy: 0.8481973434535104",
          "<b>Germany</b><br>Bi-Class: high_high<br>Education: 0.4839606215789605<br>Life Expectancy: 0.8481973434535104",
          "<b>Greece</b><br>Bi-Class: high_high<br>Education: 0.9367322237984044<br>Life Expectancy: 0.8481973434535104",
          "<b>Greece</b><br>Bi-Class: high_high<br>Education: 0.967814302505253<br>Life Expectancy: 0.8481973434535104",
          "<b>Albania</b><br>Bi-Class: high_high<br>Education: 0.4688057384709432<br>Life Expectancy: 0.7874762808349145",
          "<b>Albania</b><br>Bi-Class: high_high<br>Education: 0.611354449581629<br>Life Expectancy: 0.7874762808349145",
          "<b>Croatia</b><br>Bi-Class: high_high<br>Education: 0.6301365849908928<br>Life Expectancy: 0.7912713472485768",
          "<b>Belgium</b><br>Bi-Class: high_high<br>Education: 0.5151456857922376<br>Life Expectancy: 0.8500948766603416",
          "<b>Belgium</b><br>Bi-Class: high_high<br>Education: 0.6719256257948854<br>Life Expectancy: 0.8500948766603416",
          "<b>Spain</b><br>Bi-Class: high_high<br>Education: 0.6372533973093085<br>Life Expectancy: 0.8823529411764706",
          "<b>Spain</b><br>Bi-Class: high_high<br>Education: 0.7723400566567045<br>Life Expectancy: 0.8823529411764706",
          "<b>Ireland</b><br>Bi-Class: high_high<br>Education: 0.5774090774802645<br>Life Expectancy: 0.8557874762808351",
          "<b>Ireland</b><br>Bi-Class: high_high<br>Education: 0.605903499544421<br>Life Expectancy: 0.8557874762808351",
          "<b>New Zealand</b><br>Bi-Class: high_high<br>Education: 0.5459246397271811<br>Life Expectancy: 0.859582542694497",
          "<b>New Zealand</b><br>Bi-Class: high_high<br>Education: 0.78491626716529<br>Life Expectancy: 0.859582542694497",
          "<b>Italy</b><br>Bi-Class: high_high<br>Education: 0.5880644680167977<br>Life Expectancy: 0.8804554079696396",
          "<b>Denmark</b><br>Bi-Class: high_high<br>Education: 0.5603292448925908<br>Life Expectancy: 0.9430740037950665",
          "<b>Denmark</b><br>Bi-Class: high_high<br>Education: 0.7709111839798221<br>Life Expectancy: 0.9430740037950665",
          "<b>United Kingdom</b><br>Bi-Class: high_high<br>Education: 0.5381419994728072<br>Life Expectancy: 0.8519924098671727",
          "<b>Iceland</b><br>Bi-Class: high_high<br>Education: 0.4741821051876103<br>Life Expectancy: 0.8804554079696396",
          "<b>Iceland</b><br>Bi-Class: high_high<br>Education: 0.8297117786427046<br>Life Expectancy: 0.8804554079696396",
          "<b>Slovenia</b><br>Bi-Class: high_high<br>Education: 0.5978375309362736<br>Life Expectancy: 0.9810246679316889",
          "<b>Slovenia</b><br>Bi-Class: high_high<br>Education: 0.8597863835860291<br>Life Expectancy: 0.9810246679316889",
          "<b>Finland</b><br>Bi-Class: high_high<br>Education: 0.6822669846157655<br>Life Expectancy: 0.8500948766603416",
          "<b>Finland</b><br>Bi-Class: high_high<br>Education: 0.8267231499639681<br>Life Expectancy: 0.8500948766603416",
          "<b>Czechia</b><br>Bi-Class: high_high<br>Education: 0.6423998986103416<br>Life Expectancy: 0.8064516129032258",
          "<b>Japan</b><br>Bi-Class: high_high<br>Education: 0.540356046007698<br>Life Expectancy: 0.8994307400379506",
          "<b>Japan</b><br>Bi-Class: high_high<br>Education: 0.4949406355453061<br>Life Expectancy: 0.8994307400379506"
         ],
         "type": "choropleth",
         "z": [
          0.6270047790332433,
          0.6193525177365021,
          0.8510270359759226,
          0.6244225443394661,
          0.6946253084330641,
          0.5021427489902586,
          0.7562554669245414,
          0.5485440084664348,
          0.5883732038753703,
          0.6644571433479993,
          0.4757679621993611,
          0.7394368966194748,
          0.6074597880208088,
          0.7314520681073017,
          0.499986200332234,
          0.7535068540541716,
          0.519627683121583,
          0.4839606215789605,
          0.9367322237984044,
          0.967814302505253,
          0.4688057384709432,
          0.611354449581629,
          0.6301365849908928,
          0.5151456857922376,
          0.6719256257948854,
          0.6372533973093085,
          0.7723400566567045,
          0.5774090774802645,
          0.605903499544421,
          0.5459246397271811,
          0.78491626716529,
          0.5880644680167977,
          0.5603292448925908,
          0.7709111839798221,
          0.5381419994728072,
          0.4741821051876103,
          0.8297117786427046,
          0.5978375309362736,
          0.8597863835860291,
          0.6822669846157655,
          0.8267231499639681,
          0.6423998986103416,
          0.540356046007698,
          0.4949406355453061
         ]
        }
       ],
       "layout": {
        "annotations": [
         {
          "align": "left",
          "font": {
           "size": 10
          },
          "showarrow": false,
          "text": "The data, sourced from 2010, is presented using a gradient of three different colors layered over eachother.<br>This results in 9 different colors, each one corresponding to a specific education level and life expectancy. Each<br>country is assigned a color according to these two factors. The two variables are normalized to prevent biases introduced<br>by the size of each country<br><br><b>Example:</b> Ukraine has a light blue color. Looking up the color in the legend, the country appears to have<br>a high level of education, but low life expectancy.",
          "x": 0.04,
          "xanchor": "left",
          "xref": "paper",
          "y": -0.3,
          "yanchor": "bottom",
          "yref": "paper"
         }
        ],
        "autosize": false,
        "geo": {
         "bgcolor": "#a8d5f2",
         "coastlinecolor": "black",
         "countrycolor": "black",
         "lakecolor": "#FFFFFF",
         "projection": {
          "type": "natural earth"
         },
         "showcoastlines": true,
         "showcountries": true
        },
        "height": 570,
        "images": [
         {
          "sizex": 0.45,
          "sizey": 0.45,
          "source": "bivar_choro_legend.png",
          "x": 0.77,
          "xref": "paper",
          "y": 0.1,
          "yref": "paper"
         }
        ],
        "legend": {
         "title": {
          "text": "Categories"
         },
         "traceorder": "normal",
         "x": 0.85,
         "xanchor": "left",
         "y": 0.95,
         "yanchor": "top"
        },
        "margin": {
         "autoexpand": true,
         "b": 135,
         "l": 10,
         "pad": 4,
         "r": 10,
         "t": 75
        },
        "paper_bgcolor": "#cff8d6",
        "plot_bgcolor": "#cff8d6",
        "template": {
         "data": {
          "bar": [
           {
            "error_x": {
             "color": "#2a3f5f"
            },
            "error_y": {
             "color": "#2a3f5f"
            },
            "marker": {
             "line": {
              "color": "#E5ECF6",
              "width": 0.5
             },
             "pattern": {
              "fillmode": "overlay",
              "size": 10,
              "solidity": 0.2
             }
            },
            "type": "bar"
           }
          ],
          "barpolar": [
           {
            "marker": {
             "line": {
              "color": "#E5ECF6",
              "width": 0.5
             },
             "pattern": {
              "fillmode": "overlay",
              "size": 10,
              "solidity": 0.2
             }
            },
            "type": "barpolar"
           }
          ],
          "carpet": [
           {
            "aaxis": {
             "endlinecolor": "#2a3f5f",
             "gridcolor": "white",
             "linecolor": "white",
             "minorgridcolor": "white",
             "startlinecolor": "#2a3f5f"
            },
            "baxis": {
             "endlinecolor": "#2a3f5f",
             "gridcolor": "white",
             "linecolor": "white",
             "minorgridcolor": "white",
             "startlinecolor": "#2a3f5f"
            },
            "type": "carpet"
           }
          ],
          "choropleth": [
           {
            "colorbar": {
             "outlinewidth": 0,
             "ticks": ""
            },
            "type": "choropleth"
           }
          ],
          "contour": [
           {
            "colorbar": {
             "outlinewidth": 0,
             "ticks": ""
            },
            "colorscale": [
             [
              0,
              "#0d0887"
             ],
             [
              0.1111111111111111,
              "#46039f"
             ],
             [
              0.2222222222222222,
              "#7201a8"
             ],
             [
              0.3333333333333333,
              "#9c179e"
             ],
             [
              0.4444444444444444,
              "#bd3786"
             ],
             [
              0.5555555555555556,
              "#d8576b"
             ],
             [
              0.6666666666666666,
              "#ed7953"
             ],
             [
              0.7777777777777778,
              "#fb9f3a"
             ],
             [
              0.8888888888888888,
              "#fdca26"
             ],
             [
              1,
              "#f0f921"
             ]
            ],
            "type": "contour"
           }
          ],
          "contourcarpet": [
           {
            "colorbar": {
             "outlinewidth": 0,
             "ticks": ""
            },
            "type": "contourcarpet"
           }
          ],
          "heatmap": [
           {
            "colorbar": {
             "outlinewidth": 0,
             "ticks": ""
            },
            "colorscale": [
             [
              0,
              "#0d0887"
             ],
             [
              0.1111111111111111,
              "#46039f"
             ],
             [
              0.2222222222222222,
              "#7201a8"
             ],
             [
              0.3333333333333333,
              "#9c179e"
             ],
             [
              0.4444444444444444,
              "#bd3786"
             ],
             [
              0.5555555555555556,
              "#d8576b"
             ],
             [
              0.6666666666666666,
              "#ed7953"
             ],
             [
              0.7777777777777778,
              "#fb9f3a"
             ],
             [
              0.8888888888888888,
              "#fdca26"
             ],
             [
              1,
              "#f0f921"
             ]
            ],
            "type": "heatmap"
           }
          ],
          "heatmapgl": [
           {
            "colorbar": {
             "outlinewidth": 0,
             "ticks": ""
            },
            "colorscale": [
             [
              0,
              "#0d0887"
             ],
             [
              0.1111111111111111,
              "#46039f"
             ],
             [
              0.2222222222222222,
              "#7201a8"
             ],
             [
              0.3333333333333333,
              "#9c179e"
             ],
             [
              0.4444444444444444,
              "#bd3786"
             ],
             [
              0.5555555555555556,
              "#d8576b"
             ],
             [
              0.6666666666666666,
              "#ed7953"
             ],
             [
              0.7777777777777778,
              "#fb9f3a"
             ],
             [
              0.8888888888888888,
              "#fdca26"
             ],
             [
              1,
              "#f0f921"
             ]
            ],
            "type": "heatmapgl"
           }
          ],
          "histogram": [
           {
            "marker": {
             "pattern": {
              "fillmode": "overlay",
              "size": 10,
              "solidity": 0.2
             }
            },
            "type": "histogram"
           }
          ],
          "histogram2d": [
           {
            "colorbar": {
             "outlinewidth": 0,
             "ticks": ""
            },
            "colorscale": [
             [
              0,
              "#0d0887"
             ],
             [
              0.1111111111111111,
              "#46039f"
             ],
             [
              0.2222222222222222,
              "#7201a8"
             ],
             [
              0.3333333333333333,
              "#9c179e"
             ],
             [
              0.4444444444444444,
              "#bd3786"
             ],
             [
              0.5555555555555556,
              "#d8576b"
             ],
             [
              0.6666666666666666,
              "#ed7953"
             ],
             [
              0.7777777777777778,
              "#fb9f3a"
             ],
             [
              0.8888888888888888,
              "#fdca26"
             ],
             [
              1,
              "#f0f921"
             ]
            ],
            "type": "histogram2d"
           }
          ],
          "histogram2dcontour": [
           {
            "colorbar": {
             "outlinewidth": 0,
             "ticks": ""
            },
            "colorscale": [
             [
              0,
              "#0d0887"
             ],
             [
              0.1111111111111111,
              "#46039f"
             ],
             [
              0.2222222222222222,
              "#7201a8"
             ],
             [
              0.3333333333333333,
              "#9c179e"
             ],
             [
              0.4444444444444444,
              "#bd3786"
             ],
             [
              0.5555555555555556,
              "#d8576b"
             ],
             [
              0.6666666666666666,
              "#ed7953"
             ],
             [
              0.7777777777777778,
              "#fb9f3a"
             ],
             [
              0.8888888888888888,
              "#fdca26"
             ],
             [
              1,
              "#f0f921"
             ]
            ],
            "type": "histogram2dcontour"
           }
          ],
          "mesh3d": [
           {
            "colorbar": {
             "outlinewidth": 0,
             "ticks": ""
            },
            "type": "mesh3d"
           }
          ],
          "parcoords": [
           {
            "line": {
             "colorbar": {
              "outlinewidth": 0,
              "ticks": ""
             }
            },
            "type": "parcoords"
           }
          ],
          "pie": [
           {
            "automargin": true,
            "type": "pie"
           }
          ],
          "scatter": [
           {
            "fillpattern": {
             "fillmode": "overlay",
             "size": 10,
             "solidity": 0.2
            },
            "type": "scatter"
           }
          ],
          "scatter3d": [
           {
            "line": {
             "colorbar": {
              "outlinewidth": 0,
              "ticks": ""
             }
            },
            "marker": {
             "colorbar": {
              "outlinewidth": 0,
              "ticks": ""
             }
            },
            "type": "scatter3d"
           }
          ],
          "scattercarpet": [
           {
            "marker": {
             "colorbar": {
              "outlinewidth": 0,
              "ticks": ""
             }
            },
            "type": "scattercarpet"
           }
          ],
          "scattergeo": [
           {
            "marker": {
             "colorbar": {
              "outlinewidth": 0,
              "ticks": ""
             }
            },
            "type": "scattergeo"
           }
          ],
          "scattergl": [
           {
            "marker": {
             "colorbar": {
              "outlinewidth": 0,
              "ticks": ""
             }
            },
            "type": "scattergl"
           }
          ],
          "scattermapbox": [
           {
            "marker": {
             "colorbar": {
              "outlinewidth": 0,
              "ticks": ""
             }
            },
            "type": "scattermapbox"
           }
          ],
          "scatterpolar": [
           {
            "marker": {
             "colorbar": {
              "outlinewidth": 0,
              "ticks": ""
             }
            },
            "type": "scatterpolar"
           }
          ],
          "scatterpolargl": [
           {
            "marker": {
             "colorbar": {
              "outlinewidth": 0,
              "ticks": ""
             }
            },
            "type": "scatterpolargl"
           }
          ],
          "scatterternary": [
           {
            "marker": {
             "colorbar": {
              "outlinewidth": 0,
              "ticks": ""
             }
            },
            "type": "scatterternary"
           }
          ],
          "surface": [
           {
            "colorbar": {
             "outlinewidth": 0,
             "ticks": ""
            },
            "colorscale": [
             [
              0,
              "#0d0887"
             ],
             [
              0.1111111111111111,
              "#46039f"
             ],
             [
              0.2222222222222222,
              "#7201a8"
             ],
             [
              0.3333333333333333,
              "#9c179e"
             ],
             [
              0.4444444444444444,
              "#bd3786"
             ],
             [
              0.5555555555555556,
              "#d8576b"
             ],
             [
              0.6666666666666666,
              "#ed7953"
             ],
             [
              0.7777777777777778,
              "#fb9f3a"
             ],
             [
              0.8888888888888888,
              "#fdca26"
             ],
             [
              1,
              "#f0f921"
             ]
            ],
            "type": "surface"
           }
          ],
          "table": [
           {
            "cells": {
             "fill": {
              "color": "#EBF0F8"
             },
             "line": {
              "color": "white"
             }
            },
            "header": {
             "fill": {
              "color": "#C8D4E3"
             },
             "line": {
              "color": "white"
             }
            },
            "type": "table"
           }
          ]
         },
         "layout": {
          "annotationdefaults": {
           "arrowcolor": "#2a3f5f",
           "arrowhead": 0,
           "arrowwidth": 1
          },
          "autotypenumbers": "strict",
          "coloraxis": {
           "colorbar": {
            "outlinewidth": 0,
            "ticks": ""
           }
          },
          "colorscale": {
           "diverging": [
            [
             0,
             "#8e0152"
            ],
            [
             0.1,
             "#c51b7d"
            ],
            [
             0.2,
             "#de77ae"
            ],
            [
             0.3,
             "#f1b6da"
            ],
            [
             0.4,
             "#fde0ef"
            ],
            [
             0.5,
             "#f7f7f7"
            ],
            [
             0.6,
             "#e6f5d0"
            ],
            [
             0.7,
             "#b8e186"
            ],
            [
             0.8,
             "#7fbc41"
            ],
            [
             0.9,
             "#4d9221"
            ],
            [
             1,
             "#276419"
            ]
           ],
           "sequential": [
            [
             0,
             "#0d0887"
            ],
            [
             0.1111111111111111,
             "#46039f"
            ],
            [
             0.2222222222222222,
             "#7201a8"
            ],
            [
             0.3333333333333333,
             "#9c179e"
            ],
            [
             0.4444444444444444,
             "#bd3786"
            ],
            [
             0.5555555555555556,
             "#d8576b"
            ],
            [
             0.6666666666666666,
             "#ed7953"
            ],
            [
             0.7777777777777778,
             "#fb9f3a"
            ],
            [
             0.8888888888888888,
             "#fdca26"
            ],
            [
             1,
             "#f0f921"
            ]
           ],
           "sequentialminus": [
            [
             0,
             "#0d0887"
            ],
            [
             0.1111111111111111,
             "#46039f"
            ],
            [
             0.2222222222222222,
             "#7201a8"
            ],
            [
             0.3333333333333333,
             "#9c179e"
            ],
            [
             0.4444444444444444,
             "#bd3786"
            ],
            [
             0.5555555555555556,
             "#d8576b"
            ],
            [
             0.6666666666666666,
             "#ed7953"
            ],
            [
             0.7777777777777778,
             "#fb9f3a"
            ],
            [
             0.8888888888888888,
             "#fdca26"
            ],
            [
             1,
             "#f0f921"
            ]
           ]
          },
          "colorway": [
           "#636efa",
           "#EF553B",
           "#00cc96",
           "#ab63fa",
           "#FFA15A",
           "#19d3f3",
           "#FF6692",
           "#B6E880",
           "#FF97FF",
           "#FECB52"
          ],
          "font": {
           "color": "#2a3f5f"
          },
          "geo": {
           "bgcolor": "white",
           "lakecolor": "white",
           "landcolor": "#E5ECF6",
           "showlakes": true,
           "showland": true,
           "subunitcolor": "white"
          },
          "hoverlabel": {
           "align": "left"
          },
          "hovermode": "closest",
          "mapbox": {
           "style": "light"
          },
          "paper_bgcolor": "white",
          "plot_bgcolor": "#E5ECF6",
          "polar": {
           "angularaxis": {
            "gridcolor": "white",
            "linecolor": "white",
            "ticks": ""
           },
           "bgcolor": "#E5ECF6",
           "radialaxis": {
            "gridcolor": "white",
            "linecolor": "white",
            "ticks": ""
           }
          },
          "scene": {
           "xaxis": {
            "backgroundcolor": "#E5ECF6",
            "gridcolor": "white",
            "gridwidth": 2,
            "linecolor": "white",
            "showbackground": true,
            "ticks": "",
            "zerolinecolor": "white"
           },
           "yaxis": {
            "backgroundcolor": "#E5ECF6",
            "gridcolor": "white",
            "gridwidth": 2,
            "linecolor": "white",
            "showbackground": true,
            "ticks": "",
            "zerolinecolor": "white"
           },
           "zaxis": {
            "backgroundcolor": "#E5ECF6",
            "gridcolor": "white",
            "gridwidth": 2,
            "linecolor": "white",
            "showbackground": true,
            "ticks": "",
            "zerolinecolor": "white"
           }
          },
          "shapedefaults": {
           "line": {
            "color": "#2a3f5f"
           }
          },
          "ternary": {
           "aaxis": {
            "gridcolor": "white",
            "linecolor": "white",
            "ticks": ""
           },
           "baxis": {
            "gridcolor": "white",
            "linecolor": "white",
            "ticks": ""
           },
           "bgcolor": "#E5ECF6",
           "caxis": {
            "gridcolor": "white",
            "linecolor": "white",
            "ticks": ""
           }
          },
          "title": {
           "x": 0.05
          },
          "xaxis": {
           "automargin": true,
           "gridcolor": "white",
           "linecolor": "white",
           "ticks": "",
           "title": {
            "standoff": 15
           },
           "zerolinecolor": "white",
           "zerolinewidth": 2
          },
          "yaxis": {
           "automargin": true,
           "gridcolor": "white",
           "linecolor": "white",
           "ticks": "",
           "title": {
            "standoff": 15
           },
           "zerolinecolor": "white",
           "zerolinewidth": 2
          }
         }
        },
        "title": {
         "text": "Impact of education on life expectancy<br><sup>Countries with high education levels generally have high life expectancy</sup>",
         "x": 0.5,
         "y": 0.93
        },
        "width": 780
       }
      }
     },
     "metadata": {},
     "output_type": "display_data"
    }
   ],
   "source": [
    "data = pd.read_csv('datasets/Normalized_Dataset_EDU.csv')\n",
    "\n",
    "# Convert the 'Value' and 'Life expectancy' columns to numeric\n",
    "data['Value'] = pd.to_numeric(data['Value'], errors='coerce')\n",
    "data['Life expectancy'] = pd.to_numeric(data['Life expectancy'], errors='coerce')\n",
    "\n",
    "# Load the dataset with country borders\n",
    "border = gpd.read_file(gpd.datasets.get_path('naturalearth_lowres'))\n",
    "border = border[border['name'] != 'Antarctica']\n",
    "\n",
    "# Merge the non-spatial data with the spatial GeoDataFrame based on the country name\n",
    "merged_data = border.merge(data, left_on='name', right_on='Country')\n",
    "\n",
    "# Ensure the GeoDataFrame has a CRS set\n",
    "if merged_data.crs is None:\n",
    "    merged_data = merged_data.set_crs('EPSG:4326')\n",
    "\n",
    "# Add the 'Bi_Class' column for bivariate choropleth\n",
    "merged_data['Bi_Class'] = pd.qcut(merged_data['Value'], 3, labels=['low', 'medium', 'high']).astype(str) + \\\n",
    "                          pd.qcut(merged_data['Life expectancy'], 3, labels=['_low', '_medium', '_high']).astype(str)\n",
    "\n",
    "# Define bivariate colors\n",
    "ordered_categories = ['low_low', 'low_medium', 'low_high',\n",
    "                      'medium_low', 'medium_medium', 'medium_high',\n",
    "                      'high_low', 'high_medium', 'high_high']\n",
    "\n",
    "# Colors are formatted as: life expectancy | education\n",
    "category_colors = {\n",
    "    'low_low': '#d3d3d3',  # low | low\n",
    "    'low_medium': '#c098b9',  # medium | low\n",
    "    'low_high': '#ad5b9c',  # high | low\n",
    "    'medium_low': '#97c5c5',  # low | medium\n",
    "    'medium_medium': '#898ead',  # medium | medium\n",
    "    'medium_high': '#7c5592',  # high | medium\n",
    "    'high_low': '#52b6b6',  # low | high\n",
    "    'high_medium': '#4a839f',  # medium | high\n",
    "    'high_high': '#004529'  # high | high\n",
    "}\n",
    "merged_data['color'] = merged_data['Bi_Class'].map(category_colors)\n",
    "\n",
    "# Prepare the data for Plotly\n",
    "merged_data['iso_a3'] = merged_data['iso_a3'].apply(lambda x: x if x != -99 else None)\n",
    "\n",
    "fig = go.Figure()\n",
    "\n",
    "# Add choropleth traces in the order of the categories\n",
    "for category in ordered_categories:\n",
    "    subset = merged_data[merged_data['Bi_Class'] == category]\n",
    "    fig.add_trace(go.Choropleth(\n",
    "        locations=subset['iso_a3'],\n",
    "        z=subset['Value'],\n",
    "        text=subset.apply(lambda row: f\"<b>{row['name']}</b><br>Bi-Class: {row['Bi_Class']}<br>Education: {row['Value']}<br>Life Expectancy: {row['Life expectancy']}\", axis=1),\n",
    "        hoverinfo='text',\n",
    "        geo='geo',\n",
    "        colorscale=[[0, category_colors[category]], [1, category_colors[category]]],\n",
    "        showscale=False,\n",
    "\n",
    "        # Update category names\n",
    "        name=category\n",
    "        .replace('_low', '_Low Education & L.E')\n",
    "        .replace('_medium', '_Medium Education & L.E')\n",
    "        .replace('_high', '_High Education & L.E')\n",
    "        .replace('low', 'Low Education')\n",
    "        .replace('medium', 'Medium Education')\n",
    "        .replace('high', 'High Education')\n",
    "    ))\n",
    "\n",
    "fig.update_geos(\n",
    "    showcountries=True,\n",
    "    countrycolor=\"black\",\n",
    "    showcoastlines=True,\n",
    "    coastlinecolor=\"black\",\n",
    "    projection_type=\"natural earth\"\n",
    ")\n",
    "\n",
    "fig.update_layout(\n",
    "    title_text='Impact of education on life expectancy<br><sup>Countries with high education levels generally have high life expectancy</sup>',\n",
    "    title_x=0.5, title_y=0.93,\n",
    "    plot_bgcolor='#cff8d6',\n",
    "    paper_bgcolor='#cff8d6',\n",
    "    margin = dict(\n",
    "                l=10,\n",
    "                r=10,\n",
    "                b=135,\n",
    "                t=75,\n",
    "                pad=4,\n",
    "                autoexpand=True\n",
    "            ),  \n",
    "    autosize=False,\n",
    "    width=780,\n",
    "    height=570,\n",
    "    legend=dict(\n",
    "        title=\"Categories\",\n",
    "        traceorder='normal',\n",
    "        x=0.85, \n",
    "        y=0.95,\n",
    "        xanchor='left',\n",
    "        yanchor='top'\n",
    "    ),\n",
    "    geo=dict(\n",
    "        lakecolor='#FFFFFF',\n",
    "        bgcolor='#a8d5f2'\n",
    "    )\n",
    ")\n",
    "\n",
    "# Add bivariate legend\n",
    "fig.add_layout_image(\n",
    "    dict(\n",
    "        source='bivar_choro_legend.png',\n",
    "        xref='paper', yref='paper',\n",
    "        x=0.77, y=0.1,\n",
    "        sizex=0.45, sizey=0.45\n",
    "    )\n",
    ")\n",
    "\n",
    "fig.add_annotation(x=0.04, y=-0.3,\n",
    "                   showarrow=False,\n",
    "                   xref='paper', yref='paper',\n",
    "                   xanchor='left', yanchor='bottom',\n",
    "                   align='left',\n",
    "                   text='The data, sourced from 2010, is presented using a gradient of three different colors layered over eachother.<br>' +\n",
    "                   'This results in 9 different colors, each one corresponding to a specific education level and life expectancy. Each<br>' +\n",
    "                   'country is assigned a color according to these two factors. The two variables are normalized to prevent biases introduced<br>' +\n",
    "                   'by the size of each country<br><br>' +\n",
    "                   '<b>Example:</b> Ukraine has a light blue color. Looking up the color in the legend, the country appears to have<br>' + \n",
    "                   'a high level of education, but low life expectancy.',\n",
    "      font=dict(\n",
    "          size=12\n",
    "      ))\n",
    "\n",
    "fig.show()"
   ]
  }
 ],
 "metadata": {
  "kernelspec": {
   "display_name": "jupyterbook",
   "language": "python",
   "name": "python3"
  },
  "language_info": {
   "codemirror_mode": {
    "name": "ipython",
    "version": 3
   },
   "file_extension": ".py",
   "mimetype": "text/x-python",
   "name": "python",
   "nbconvert_exporter": "python",
   "pygments_lexer": "ipython3",
   "version": "3.10.14"
  }
 },
 "nbformat": 4,
 "nbformat_minor": 2
}
