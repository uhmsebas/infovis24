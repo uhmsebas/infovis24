{
 "cells": [
  {
   "cell_type": "code",
   "execution_count": 18,
   "metadata": {},
   "outputs": [],
   "source": [
    "import plotly.graph_objects as go\n",
    "import pandas as pd"
   ]
  },
  {
   "cell_type": "code",
   "execution_count": 19,
   "metadata": {},
   "outputs": [
    {
     "data": {
      "application/vnd.plotly.v1+json": {
       "config": {
        "plotlyServerURL": "https://plot.ly"
       },
       "data": [
        {
         "line": {
          "color": "#c098b9"
         },
         "marker": {
          "color": "#714674"
         },
         "name": "1905",
         "type": "box",
         "y": [
          null,
          null,
          null,
          null,
          null,
          null,
          null,
          null,
          null,
          null,
          39.7,
          null,
          null,
          null,
          57,
          null,
          null,
          null,
          null,
          null,
          null,
          null,
          50.03,
          null,
          null,
          null,
          null,
          null,
          null,
          null,
          null,
          null,
          null,
          null,
          43.3,
          null,
          null,
          null,
          null,
          null,
          null,
          null,
          null,
          null,
          null,
          null,
          null,
          null,
          null,
          null,
          null,
          null,
          null,
          34.158,
          null,
          45,
          null,
          null,
          54.37,
          null,
          null,
          null,
          null,
          null,
          null,
          null,
          50.83,
          null,
          null,
          null,
          null,
          null,
          null,
          null,
          null,
          null,
          46.05,
          48.38,
          null,
          null,
          null,
          null,
          null,
          45.45,
          null,
          null,
          null,
          null,
          null,
          null,
          null,
          null,
          null,
          null,
          null,
          null,
          null,
          null,
          null,
          null,
          null,
          49.45,
          23.98,
          null,
          null,
          null,
          null,
          null,
          null,
          43.99,
          37.6,
          39.222,
          null,
          null,
          null,
          null,
          null,
          null,
          null,
          null,
          null,
          null,
          null,
          null,
          null,
          null,
          null,
          null,
          null,
          null,
          null,
          null,
          null,
          null,
          null,
          null,
          46.208,
          null,
          null,
          null,
          null,
          null,
          null,
          null,
          null,
          null,
          null,
          null,
          null,
          26.8,
          null,
          null,
          null,
          null,
          null,
          null,
          null,
          null,
          null,
          null,
          null,
          null,
          null,
          null,
          52.1,
          null,
          null,
          null,
          null,
          null,
          null,
          null,
          null,
          null,
          null,
          null,
          55.09,
          null,
          null,
          null,
          null,
          null,
          null,
          null,
          null,
          null,
          null,
          null,
          null,
          null,
          null,
          null,
          null,
          null,
          null,
          null,
          null,
          null,
          null,
          null,
          null,
          null,
          null,
          null,
          null,
          null,
          49.71,
          null,
          null,
          null,
          null,
          null,
          null,
          null,
          null,
          null,
          null,
          null,
          null,
          null,
          null,
          null,
          null,
          null,
          null,
          54.42,
          49.69,
          null,
          null,
          null,
          null,
          null,
          null,
          null,
          null,
          null,
          null,
          null,
          null,
          null,
          null,
          null,
          null,
          null,
          49.92,
          50.3,
          null,
          null,
          null,
          null,
          null,
          null,
          null,
          null,
          null,
          null,
          null,
          null,
          null
         ]
        },
        {
         "line": {
          "color": "#ad5b9c"
         },
         "marker": {
          "color": "#432371"
         },
         "name": "1950",
         "type": "box",
         "y": [
          27.7275,
          37.6235,
          44.7355,
          42.3596,
          60.9554,
          58.116535,
          64.5863,
          36.349,
          55.2621,
          57.1374,
          61.226,
          59.2626,
          57.1739,
          42.024,
          69,
          64.8131,
          53.4364,
          60.0029,
          38.0779,
          38.1802,
          55.2382,
          59.4863,
          66.3066,
          50.4255,
          34.9513,
          54.6874,
          30.0681,
          40.6261,
          60.6977,
          48.9475,
          44.9449,
          48.1155,
          44.717,
          50.0215,
          61.4912,
          33.1172,
          40.5788,
          38.9368,
          34.457,
          68.2145,
          47.2954,
          53.956,
          35.3891,
          36.206,
          53.1764,
          43.7383,
          48.219,
          36.5489,
          40.0627,
          36.9466,
          53.7513,
          32.1051,
          58.767,
          60.1082,
          61.1354,
          56.9498,
          64.4058,
          38.3077,
          70.3084,
          40.5665,
          46.1962,
          44.2981,
          29.0466,
          49.2006,
          35.3675,
          42.3969,
          null,
          39.3245,
          33.3531,
          67.0801,
          42.9727,
          36.3529,
          62.8339,
          49.054,
          59.8176,
          49.5294,
          64.2015,
          66.3819,
          49.1754,
          51.9433,
          39.6288,
          31.7573,
          57.7415,
          66.7975,
          43.1088,
          67.9963,
          66.4479,
          45.8721,
          52.8365,
          49.7056,
          55.9411,
          39.4245,
          70.2148,
          35.5446,
          35.6206,
          49.5414,
          37.4789,
          61.5421,
          42.735,
          59.3227,
          62.1384,
          71.2223,
          41.7232,
          39.4044,
          38.9616,
          38.9793,
          65.5775,
          61.4161,
          68.1852,
          65.7249,
          56.8025,
          59.2323,
          70.0073,
          39.9604,
          56.0542,
          38.9024,
          45.671,
          57.8986,
          48.4674,
          52.4668,
          39.4836,
          38.6957,
          48.5587,
          68.6354,
          36.7606,
          61.0348,
          44.8309,
          41.2643,
          40.297,
          41.9655,
          38.4917,
          33.5863,
          62.3037,
          66.1172,
          31.5921,
          41.1291,
          66.3693,
          59.7969,
          39.6461,
          32.7459,
          46.9976,
          37.3562,
          28.1697,
          61.5844,
          52.0572,
          54.1602,
          38.7429,
          52.4424,
          42.9045,
          43.9656,
          49.3581,
          43.5208,
          56.1392,
          66.4679,
          39.5683,
          59.4447,
          48.0431,
          63.5226,
          39.1012,
          37.2587,
          35.4352,
          41.5307,
          56.6585,
          37.6845,
          71.4403,
          48.6332,
          69.2532,
          41.0262,
          36.2515,
          35.8097,
          54.556,
          51.0482,
          13.8211,
          50.2435,
          68.0427,
          58.8505,
          71.5879,
          61.3765,
          29.6701,
          34.9568,
          52.9168,
          45.7871,
          54.975,
          39.1269,
          58.5262,
          46.2426,
          53.3617,
          59.1411,
          58.4793,
          60.5124,
          52.7016,
          46.7738,
          62.2481,
          57.2141,
          43.3431,
          53.9543,
          65.9547,
          54.4274,
          45.6369,
          63.5656,
          59.3458,
          51.4259,
          47.7278,
          68.7406,
          40.0701,
          40.9858,
          null,
          36.4332,
          57.7185,
          50.8792,
          29.5691,
          50.7019,
          59.788,
          60.7756,
          57.8161,
          48.8265,
          40.0295,
          41.4044,
          43.4715,
          21.312,
          31.2475,
          61.7542,
          54.7737,
          46.7712,
          50.4352,
          71.1394,
          68.9133,
          44.1443,
          55.6661,
          50.9382,
          41.2958,
          43.1669,
          40.9162,
          54.9828,
          54.0267,
          55.8928,
          37.6049,
          47.7487,
          49.7023,
          48.2064,
          36.8019,
          39.3299,
          62.2255,
          41.074,
          68.631,
          68.0594,
          57.0164,
          45.9866,
          65.6173,
          54.7736,
          44.5499,
          51.1246,
          49.2069,
          43.7299,
          34.8811,
          46.4643,
          31.6624,
          45.1225,
          49.6439
         ]
        },
        {
         "line": {
          "color": "#52b6b6"
         },
         "marker": {
          "color": "#0C63E7"
         },
         "name": "1995",
         "type": "box",
         "y": [
          52.5442,
          52.1161,
          74.3616,
          67.4544,
          71.1018,
          71.9336,
          78.9616,
          45.8491,
          74.4342,
          73.6363,
          73.1333,
          69.3108,
          73.3493,
          65.6966,
          78.2619,
          76.7766,
          62.3052,
          70.7628,
          73.7988,
          59.4673,
          73.2983,
          68.7966,
          76.8385,
          69.8874,
          55.2947,
          76.137,
          59.5164,
          59.5337,
          75.4433,
          70.2839,
          55.0594,
          67.9191,
          74.2401,
          72.8161,
          71.0024,
          49.4459,
          44.0593,
          56.3076,
          53.2218,
          78.0194,
          64.0928,
          72.2916,
          47.35,
          46.7106,
          74.6085,
          70.008,
          69.9325,
          58.0146,
          53.644,
          68.2777,
          76.5519,
          51.6104,
          73.1864,
          74.6231,
          72.7456,
          75.1329,
          73.1775,
          50.411,
          75.2856,
          56.3016,
          71.5203,
          68.9884,
          48.0238,
          71.0408,
          66.312,
          66.3297,
          null,
          51.5915,
          54.9137,
          68.7257,
          56.1477,
          48.3016,
          72.1867,
          62.411,
          76.3566,
          66.2856,
          76.6039,
          77.8713,
          72.3731,
          76.0084,
          60.704,
          55.464,
          68.8509,
          76.5619,
          56.5652,
          76.5559,
          77.8214,
          65.5895,
          72.1095,
          75.7963,
          73.2898,
          64.1954,
          78.3558,
          49.8658,
          48.9516,
          63.1358,
          55.5471,
          76.2362,
          67.139,
          79.1505,
          69.9689,
          78.2237,
          60.5962,
          65.2375,
          67.7846,
          66.4641,
          75.4783,
          73.2639,
          77.6352,
          78.1161,
          71.5487,
          79.6702,
          77.3293,
          70.8699,
          63.7216,
          55.617,
          63.0135,
          72.4414,
          75.5368,
          63.927,
          51.9796,
          56.3851,
          69.4126,
          67.015,
          52.1806,
          72.0432,
          56.7232,
          63.025,
          60.9079,
          65.0858,
          43.9166,
          71.0895,
          77.5759,
          69.3271,
          50.1269,
          60.4107,
          76.7049,
          79.3491,
          54.9612,
          43.6414,
          72.3838,
          67.476,
          47.8157,
          77.0909,
          62.774,
          76.2821,
          60.259,
          70.5263,
          73.6679,
          71.6457,
          68.5528,
          63.977,
          65.0985,
          78.7799,
          60.6125,
          74.1951,
          74.1805,
          73.942,
          64.7358,
          46.04,
          58.259,
          58.634,
          61.3214,
          59.3175,
          77.5454,
          70.7483,
          76.7886,
          65.6078,
          45.7738,
          45.487,
          66.4671,
          72.0176,
          60.8944,
          71.6738,
          76.0639,
          73.1886,
          77.7967,
          74.2723,
          71.9901,
          59.8784,
          63.2213,
          69.6619,
          72.3847,
          61.0491,
          69.0092,
          67.6445,
          68.2231,
          71.9193,
          75.5501,
          74.3635,
          74.2499,
          74.3593,
          69.5602,
          64.101,
          39.9692,
          75.8595,
          73.167,
          67.1523,
          71.0024,
          75.8207,
          73.3991,
          72.0974,
          69.2984,
          79.606,
          61.0556,
          71.0109,
          null,
          56.8385,
          71.7694,
          68.5282,
          42.7157,
          75.9757,
          72.4064,
          72.255,
          74.5783,
          66.7833,
          66.3807,
          50.6005,
          62.2616,
          73.9409,
          30.9483,
          78.2029,
          72.2601,
          51.991,
          65.3371,
          78.8214,
          78.5648,
          70.4163,
          74.6447,
          59.3379,
          50.7858,
          70.9475,
          54.0366,
          70.5562,
          68.1699,
          69.17,
          71.9876,
          69.6094,
          63.684,
          68.3079,
          63.098,
          46.5674,
          66.8275,
          72.6945,
          76.6164,
          75.8536,
          71.9653,
          68.8939,
          73.896,
          64.6463,
          67.8853,
          72.1429,
          71.3837,
          71.1319,
          60.148,
          64.8766,
          60.4532,
          45.5534,
          50.531
         ]
        },
        {
         "line": {
          "color": "#4a839f"
         },
         "marker": {
          "color": "#0D41E1"
         },
         "name": "2021",
         "type": "box",
         "y": [
          61.9824,
          61.6609,
          76.4626,
          76.3767,
          72.5398,
          74.189156,
          80.3684,
          61.6434,
          76.6138,
          78.4968,
          75.3899,
          72.0431,
          74.6265,
          72.5321,
          84.5265,
          81.5797,
          69.3658,
          71.5983,
          78.7605,
          72.3811,
          77.5714,
          72.438,
          81.8787,
          70.4697,
          59.821,
          79.2801,
          71.815,
          63.6304,
          75.0859,
          75.3003,
          61.1409,
          72.7504,
          74.4941,
          74.6424,
          71.798,
          59.2696,
          61.6627,
          69.5835,
          60.3334,
          82.6565,
          74.0518,
          75.1267,
          53.8947,
          52.5254,
          78.9435,
          78.2107,
          72.8296,
          63.4174,
          63.5187,
          74.7598,
          77.0232,
          58.5983,
          77.5804,
          73.6829,
          75.4398,
          81.2033,
          77.7283,
          59.193,
          81.3753,
          62.3049,
          72.814,
          72.6146,
          67.7369,
          73.67,
          70.2207,
          70.7479,
          null,
          60.5943,
          66.5358,
          77.1436,
          57.0657,
          64.9748,
          77.0336,
          78.6204,
          79.2589,
          67.114,
          82.0381,
          82.4988,
          74.8873,
          79.4856,
          65.821,
          62.083,
          71.694,
          80.6301,
          63.7954,
          79.3291,
          80.1106,
          72.3542,
          74.9362,
          80.535,
          76.6564,
          69.2368,
          82.2318,
          58.8922,
          59.6523,
          65.6734,
          63.1924,
          80.2685,
          70.1229,
          85.4734,
          74.5301,
          82.6782,
          67.2398,
          67.5703,
          73.8749,
          70.3779,
          81.9976,
          80.5253,
          82.255,
          82.8502,
          70.5003,
          84.7839,
          80.6555,
          74.2563,
          69.3622,
          61.427,
          67.4172,
          76.8062,
          78.6729,
          69.9774,
          63.7099,
          68.0608,
          72.1639,
          73.5786,
          64.0715,
          75.0472,
          53.062,
          69.5611,
          67.1767,
          70.738,
          60.7472,
          71.9112,
          83.2575,
          73.7201,
          62.4518,
          66.4477,
          82.6287,
          85.3994,
          64.4853,
          62.9044,
          74.8839,
          79.9182,
          58.9414,
          83.7769,
          65.2688,
          80.6912,
          64.3636,
          73.5552,
          74.2286,
          70.2127,
          70.71,
          70.1139,
          68.8459,
          85.9463,
          70.9754,
          76.3426,
          75.593,
          78.065,
          74.0419,
          59.3247,
          65.6716,
          59.269,
          63.617,
          68.4495,
          81.6873,
          79.0196,
          82.4513,
          73.8368,
          61.5763,
          52.676,
          70.819,
          70.5838,
          73.2845,
          73.8415,
          77.7299,
          77.1871,
          83.2339,
          79.4444,
          72.5406,
          66.0979,
          66.0204,
          73.4727,
          76.2233,
          65.3506,
          70.2617,
          72.3769,
          69.2664,
          76.4572,
          81.0443,
          80.1618,
          79.2716,
          81.6104,
          74.1847,
          69.419,
          66.0722,
          80.4292,
          76.8406,
          71.6822,
          71.1114,
          80.3788,
          77.1925,
          69.6291,
          72.7675,
          80.8786,
          67.5912,
          76.936,
          null,
          67.0926,
          74.1923,
          71.2945,
          60.0624,
          82.7545,
          73.9724,
          74.9101,
          80.6904,
          70.8139,
          70.3477,
          55.2803,
          62.341,
          83.6978,
          54.9752,
          83.01,
          76.3991,
          65.2667,
          70.2743,
          82.9833,
          83.9872,
          72.0627,
          81.0073,
          71.5942,
          66.2007,
          78.7154,
          61.6194,
          75.2279,
          70.9857,
          72.9709,
          73.7719,
          76.0324,
          69.2644,
          74.5874,
          64.5466,
          62.7048,
          71.624,
          78.7104,
          80.7422,
          77.1982,
          74.7241,
          75.2817,
          75.4356,
          70.8616,
          70.449,
          70.5536,
          73.6181,
          78.4396,
          70.7804,
          71.0479,
          63.7534,
          61.2234,
          59.2531
         ]
        }
       ],
       "layout": {
        "annotations": [
         {
          "align": "left",
          "font": {
           "size": 10
          },
          "showarrow": false,
          "text": "A box plot containing the life expectancy records of four different timestamps. Hovering over the boxes reveals<br>a detailed breakdown of them. These details include the maximum, median and minimum life expectancy values of each timeframe<br><br><b>Important:</b> Due to a lack of data, the year 1905 only contains records of 25 countries, whereas the other years each have 257 records.",
          "x": -0.08,
          "xanchor": "left",
          "xref": "paper",
          "y": -0.55,
          "yanchor": "bottom",
          "yref": "paper"
         }
        ],
        "height": 490,
        "margin": {
         "b": 155,
         "l": 90,
         "r": 70,
         "t": 100
        },
        "paper_bgcolor": "#cff8d6",
        "plot_bgcolor": "#cff8d6",
        "showlegend": false,
        "template": {
         "data": {
          "bar": [
           {
            "error_x": {
             "color": "#2a3f5f"
            },
            "error_y": {
             "color": "#2a3f5f"
            },
            "marker": {
             "line": {
              "color": "#E5ECF6",
              "width": 0.5
             },
             "pattern": {
              "fillmode": "overlay",
              "size": 10,
              "solidity": 0.2
             }
            },
            "type": "bar"
           }
          ],
          "barpolar": [
           {
            "marker": {
             "line": {
              "color": "#E5ECF6",
              "width": 0.5
             },
             "pattern": {
              "fillmode": "overlay",
              "size": 10,
              "solidity": 0.2
             }
            },
            "type": "barpolar"
           }
          ],
          "carpet": [
           {
            "aaxis": {
             "endlinecolor": "#2a3f5f",
             "gridcolor": "white",
             "linecolor": "white",
             "minorgridcolor": "white",
             "startlinecolor": "#2a3f5f"
            },
            "baxis": {
             "endlinecolor": "#2a3f5f",
             "gridcolor": "white",
             "linecolor": "white",
             "minorgridcolor": "white",
             "startlinecolor": "#2a3f5f"
            },
            "type": "carpet"
           }
          ],
          "choropleth": [
           {
            "colorbar": {
             "outlinewidth": 0,
             "ticks": ""
            },
            "type": "choropleth"
           }
          ],
          "contour": [
           {
            "colorbar": {
             "outlinewidth": 0,
             "ticks": ""
            },
            "colorscale": [
             [
              0,
              "#0d0887"
             ],
             [
              0.1111111111111111,
              "#46039f"
             ],
             [
              0.2222222222222222,
              "#7201a8"
             ],
             [
              0.3333333333333333,
              "#9c179e"
             ],
             [
              0.4444444444444444,
              "#bd3786"
             ],
             [
              0.5555555555555556,
              "#d8576b"
             ],
             [
              0.6666666666666666,
              "#ed7953"
             ],
             [
              0.7777777777777778,
              "#fb9f3a"
             ],
             [
              0.8888888888888888,
              "#fdca26"
             ],
             [
              1,
              "#f0f921"
             ]
            ],
            "type": "contour"
           }
          ],
          "contourcarpet": [
           {
            "colorbar": {
             "outlinewidth": 0,
             "ticks": ""
            },
            "type": "contourcarpet"
           }
          ],
          "heatmap": [
           {
            "colorbar": {
             "outlinewidth": 0,
             "ticks": ""
            },
            "colorscale": [
             [
              0,
              "#0d0887"
             ],
             [
              0.1111111111111111,
              "#46039f"
             ],
             [
              0.2222222222222222,
              "#7201a8"
             ],
             [
              0.3333333333333333,
              "#9c179e"
             ],
             [
              0.4444444444444444,
              "#bd3786"
             ],
             [
              0.5555555555555556,
              "#d8576b"
             ],
             [
              0.6666666666666666,
              "#ed7953"
             ],
             [
              0.7777777777777778,
              "#fb9f3a"
             ],
             [
              0.8888888888888888,
              "#fdca26"
             ],
             [
              1,
              "#f0f921"
             ]
            ],
            "type": "heatmap"
           }
          ],
          "heatmapgl": [
           {
            "colorbar": {
             "outlinewidth": 0,
             "ticks": ""
            },
            "colorscale": [
             [
              0,
              "#0d0887"
             ],
             [
              0.1111111111111111,
              "#46039f"
             ],
             [
              0.2222222222222222,
              "#7201a8"
             ],
             [
              0.3333333333333333,
              "#9c179e"
             ],
             [
              0.4444444444444444,
              "#bd3786"
             ],
             [
              0.5555555555555556,
              "#d8576b"
             ],
             [
              0.6666666666666666,
              "#ed7953"
             ],
             [
              0.7777777777777778,
              "#fb9f3a"
             ],
             [
              0.8888888888888888,
              "#fdca26"
             ],
             [
              1,
              "#f0f921"
             ]
            ],
            "type": "heatmapgl"
           }
          ],
          "histogram": [
           {
            "marker": {
             "pattern": {
              "fillmode": "overlay",
              "size": 10,
              "solidity": 0.2
             }
            },
            "type": "histogram"
           }
          ],
          "histogram2d": [
           {
            "colorbar": {
             "outlinewidth": 0,
             "ticks": ""
            },
            "colorscale": [
             [
              0,
              "#0d0887"
             ],
             [
              0.1111111111111111,
              "#46039f"
             ],
             [
              0.2222222222222222,
              "#7201a8"
             ],
             [
              0.3333333333333333,
              "#9c179e"
             ],
             [
              0.4444444444444444,
              "#bd3786"
             ],
             [
              0.5555555555555556,
              "#d8576b"
             ],
             [
              0.6666666666666666,
              "#ed7953"
             ],
             [
              0.7777777777777778,
              "#fb9f3a"
             ],
             [
              0.8888888888888888,
              "#fdca26"
             ],
             [
              1,
              "#f0f921"
             ]
            ],
            "type": "histogram2d"
           }
          ],
          "histogram2dcontour": [
           {
            "colorbar": {
             "outlinewidth": 0,
             "ticks": ""
            },
            "colorscale": [
             [
              0,
              "#0d0887"
             ],
             [
              0.1111111111111111,
              "#46039f"
             ],
             [
              0.2222222222222222,
              "#7201a8"
             ],
             [
              0.3333333333333333,
              "#9c179e"
             ],
             [
              0.4444444444444444,
              "#bd3786"
             ],
             [
              0.5555555555555556,
              "#d8576b"
             ],
             [
              0.6666666666666666,
              "#ed7953"
             ],
             [
              0.7777777777777778,
              "#fb9f3a"
             ],
             [
              0.8888888888888888,
              "#fdca26"
             ],
             [
              1,
              "#f0f921"
             ]
            ],
            "type": "histogram2dcontour"
           }
          ],
          "mesh3d": [
           {
            "colorbar": {
             "outlinewidth": 0,
             "ticks": ""
            },
            "type": "mesh3d"
           }
          ],
          "parcoords": [
           {
            "line": {
             "colorbar": {
              "outlinewidth": 0,
              "ticks": ""
             }
            },
            "type": "parcoords"
           }
          ],
          "pie": [
           {
            "automargin": true,
            "type": "pie"
           }
          ],
          "scatter": [
           {
            "fillpattern": {
             "fillmode": "overlay",
             "size": 10,
             "solidity": 0.2
            },
            "type": "scatter"
           }
          ],
          "scatter3d": [
           {
            "line": {
             "colorbar": {
              "outlinewidth": 0,
              "ticks": ""
             }
            },
            "marker": {
             "colorbar": {
              "outlinewidth": 0,
              "ticks": ""
             }
            },
            "type": "scatter3d"
           }
          ],
          "scattercarpet": [
           {
            "marker": {
             "colorbar": {
              "outlinewidth": 0,
              "ticks": ""
             }
            },
            "type": "scattercarpet"
           }
          ],
          "scattergeo": [
           {
            "marker": {
             "colorbar": {
              "outlinewidth": 0,
              "ticks": ""
             }
            },
            "type": "scattergeo"
           }
          ],
          "scattergl": [
           {
            "marker": {
             "colorbar": {
              "outlinewidth": 0,
              "ticks": ""
             }
            },
            "type": "scattergl"
           }
          ],
          "scattermapbox": [
           {
            "marker": {
             "colorbar": {
              "outlinewidth": 0,
              "ticks": ""
             }
            },
            "type": "scattermapbox"
           }
          ],
          "scatterpolar": [
           {
            "marker": {
             "colorbar": {
              "outlinewidth": 0,
              "ticks": ""
             }
            },
            "type": "scatterpolar"
           }
          ],
          "scatterpolargl": [
           {
            "marker": {
             "colorbar": {
              "outlinewidth": 0,
              "ticks": ""
             }
            },
            "type": "scatterpolargl"
           }
          ],
          "scatterternary": [
           {
            "marker": {
             "colorbar": {
              "outlinewidth": 0,
              "ticks": ""
             }
            },
            "type": "scatterternary"
           }
          ],
          "surface": [
           {
            "colorbar": {
             "outlinewidth": 0,
             "ticks": ""
            },
            "colorscale": [
             [
              0,
              "#0d0887"
             ],
             [
              0.1111111111111111,
              "#46039f"
             ],
             [
              0.2222222222222222,
              "#7201a8"
             ],
             [
              0.3333333333333333,
              "#9c179e"
             ],
             [
              0.4444444444444444,
              "#bd3786"
             ],
             [
              0.5555555555555556,
              "#d8576b"
             ],
             [
              0.6666666666666666,
              "#ed7953"
             ],
             [
              0.7777777777777778,
              "#fb9f3a"
             ],
             [
              0.8888888888888888,
              "#fdca26"
             ],
             [
              1,
              "#f0f921"
             ]
            ],
            "type": "surface"
           }
          ],
          "table": [
           {
            "cells": {
             "fill": {
              "color": "#EBF0F8"
             },
             "line": {
              "color": "white"
             }
            },
            "header": {
             "fill": {
              "color": "#C8D4E3"
             },
             "line": {
              "color": "white"
             }
            },
            "type": "table"
           }
          ]
         },
         "layout": {
          "annotationdefaults": {
           "arrowcolor": "#2a3f5f",
           "arrowhead": 0,
           "arrowwidth": 1
          },
          "autotypenumbers": "strict",
          "coloraxis": {
           "colorbar": {
            "outlinewidth": 0,
            "ticks": ""
           }
          },
          "colorscale": {
           "diverging": [
            [
             0,
             "#8e0152"
            ],
            [
             0.1,
             "#c51b7d"
            ],
            [
             0.2,
             "#de77ae"
            ],
            [
             0.3,
             "#f1b6da"
            ],
            [
             0.4,
             "#fde0ef"
            ],
            [
             0.5,
             "#f7f7f7"
            ],
            [
             0.6,
             "#e6f5d0"
            ],
            [
             0.7,
             "#b8e186"
            ],
            [
             0.8,
             "#7fbc41"
            ],
            [
             0.9,
             "#4d9221"
            ],
            [
             1,
             "#276419"
            ]
           ],
           "sequential": [
            [
             0,
             "#0d0887"
            ],
            [
             0.1111111111111111,
             "#46039f"
            ],
            [
             0.2222222222222222,
             "#7201a8"
            ],
            [
             0.3333333333333333,
             "#9c179e"
            ],
            [
             0.4444444444444444,
             "#bd3786"
            ],
            [
             0.5555555555555556,
             "#d8576b"
            ],
            [
             0.6666666666666666,
             "#ed7953"
            ],
            [
             0.7777777777777778,
             "#fb9f3a"
            ],
            [
             0.8888888888888888,
             "#fdca26"
            ],
            [
             1,
             "#f0f921"
            ]
           ],
           "sequentialminus": [
            [
             0,
             "#0d0887"
            ],
            [
             0.1111111111111111,
             "#46039f"
            ],
            [
             0.2222222222222222,
             "#7201a8"
            ],
            [
             0.3333333333333333,
             "#9c179e"
            ],
            [
             0.4444444444444444,
             "#bd3786"
            ],
            [
             0.5555555555555556,
             "#d8576b"
            ],
            [
             0.6666666666666666,
             "#ed7953"
            ],
            [
             0.7777777777777778,
             "#fb9f3a"
            ],
            [
             0.8888888888888888,
             "#fdca26"
            ],
            [
             1,
             "#f0f921"
            ]
           ]
          },
          "colorway": [
           "#636efa",
           "#EF553B",
           "#00cc96",
           "#ab63fa",
           "#FFA15A",
           "#19d3f3",
           "#FF6692",
           "#B6E880",
           "#FF97FF",
           "#FECB52"
          ],
          "font": {
           "color": "#2a3f5f"
          },
          "geo": {
           "bgcolor": "white",
           "lakecolor": "white",
           "landcolor": "#E5ECF6",
           "showlakes": true,
           "showland": true,
           "subunitcolor": "white"
          },
          "hoverlabel": {
           "align": "left"
          },
          "hovermode": "closest",
          "mapbox": {
           "style": "light"
          },
          "paper_bgcolor": "white",
          "plot_bgcolor": "#E5ECF6",
          "polar": {
           "angularaxis": {
            "gridcolor": "white",
            "linecolor": "white",
            "ticks": ""
           },
           "bgcolor": "#E5ECF6",
           "radialaxis": {
            "gridcolor": "white",
            "linecolor": "white",
            "ticks": ""
           }
          },
          "scene": {
           "xaxis": {
            "backgroundcolor": "#E5ECF6",
            "gridcolor": "white",
            "gridwidth": 2,
            "linecolor": "white",
            "showbackground": true,
            "ticks": "",
            "zerolinecolor": "white"
           },
           "yaxis": {
            "backgroundcolor": "#E5ECF6",
            "gridcolor": "white",
            "gridwidth": 2,
            "linecolor": "white",
            "showbackground": true,
            "ticks": "",
            "zerolinecolor": "white"
           },
           "zaxis": {
            "backgroundcolor": "#E5ECF6",
            "gridcolor": "white",
            "gridwidth": 2,
            "linecolor": "white",
            "showbackground": true,
            "ticks": "",
            "zerolinecolor": "white"
           }
          },
          "shapedefaults": {
           "line": {
            "color": "#2a3f5f"
           }
          },
          "ternary": {
           "aaxis": {
            "gridcolor": "white",
            "linecolor": "white",
            "ticks": ""
           },
           "baxis": {
            "gridcolor": "white",
            "linecolor": "white",
            "ticks": ""
           },
           "bgcolor": "#E5ECF6",
           "caxis": {
            "gridcolor": "white",
            "linecolor": "white",
            "ticks": ""
           }
          },
          "title": {
           "x": 0.05
          },
          "xaxis": {
           "automargin": true,
           "gridcolor": "white",
           "linecolor": "white",
           "ticks": "",
           "title": {
            "standoff": 15
           },
           "zerolinecolor": "white",
           "zerolinewidth": 2
          },
          "yaxis": {
           "automargin": true,
           "gridcolor": "white",
           "linecolor": "white",
           "ticks": "",
           "title": {
            "standoff": 15
           },
           "zerolinecolor": "white",
           "zerolinewidth": 2
          }
         }
        },
        "title": {
         "text": "Life expectancy over the last century<br><sup>Rapid increase visualized in a box plot</sup>",
         "x": 0.5
        },
        "width": 780,
        "xaxis": {
         "gridcolor": "darkgrey",
         "gridwidth": 1,
         "title": {
          "text": "Year"
         }
        },
        "yaxis": {
         "gridcolor": "darkgrey",
         "gridwidth": 1,
         "range": [
          0,
          100
         ],
         "title": {
          "text": "Life expectancy (years)"
         }
        }
       }
      }
     },
     "metadata": {},
     "output_type": "display_data"
    }
   ],
   "source": [
    "df = pd.read_csv('datasets/life_merged_1900_pivot.csv')\n",
    "\n",
    "fig = go.Figure()\n",
    "\n",
    "fig.add_trace(go.Box(y=df['1905'], name='1905',\n",
    "                     line=dict(color='#c098b9'),\n",
    "                     marker=dict(color='#714674')))\n",
    "\n",
    "fig.add_trace(go.Box(y=df['1950'], name='1950',\n",
    "                     line=dict(color='#ad5b9c'),\n",
    "                     marker=dict(color='#432371')))\n",
    "fig.add_trace(go.Box(y=df['1995'], name='1995',\n",
    "                     line=dict(color='#52b6b6'),\n",
    "                     marker=dict(color='#0C63E7')))\n",
    "fig.add_trace(go.Box(y=df['2021'], name='2021',\n",
    "                     line=dict(color='#4a839f'),\n",
    "                     marker=dict(color='#0D41E1')))\n",
    "\n",
    "fig.update_layout(\n",
    "  title='Life expectancy over the last century<br><sup>Rapid increase visualized in a box plot</sup>', title_x=0.5,\n",
    "  plot_bgcolor='#cff8d6',  \n",
    "  paper_bgcolor='#cff8d6',\n",
    "  margin={'l': 90, 'b': 155, 'r': 70, 't': 100},\n",
    "  xaxis=dict(title='Year',\n",
    "             gridcolor='darkgrey',\n",
    "             gridwidth=1),\n",
    "  yaxis=dict(title='Life expectancy (years)',\n",
    "             gridcolor='darkgrey',\n",
    "             gridwidth=1,\n",
    "             range=[0, 100]),\n",
    "  showlegend=False,\n",
    "  height=490,\n",
    "  width=780\n",
    ")\n",
    "\n",
    "fig.add_annotation(x=-0.08, y=-0.55,\n",
    "                   showarrow=False,\n",
    "                   xref='paper', yref='paper',\n",
    "                   xanchor='left', yanchor='bottom',\n",
    "                   align='left',\n",
    "                   text='A box plot containing the life expectancy records of four different timestamps. Hovering over the boxes reveals<br>' +\n",
    "                   'a detailed breakdown of them. These details include the maximum, median and minimum life expectancy values of each timeframe<br><br>' +\n",
    "                   '<b>Important:</b> Due to a lack of data, the year 1905 only contains records of 25 countries, whereas the other years each have 257 records.',\n",
    "      font=dict(\n",
    "        size=10\n",
    "      ))\n",
    "\n",
    "fig.show()"
   ]
  }
 ],
 "metadata": {
  "kernelspec": {
   "display_name": "jupyterbook",
   "language": "python",
   "name": "python3"
  },
  "language_info": {
   "codemirror_mode": {
    "name": "ipython",
    "version": 3
   },
   "file_extension": ".py",
   "mimetype": "text/x-python",
   "name": "python",
   "nbconvert_exporter": "python",
   "pygments_lexer": "ipython3",
   "version": "3.10.14"
  }
 },
 "nbformat": 4,
 "nbformat_minor": 2
}
