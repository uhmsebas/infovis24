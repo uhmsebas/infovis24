{
 "cells": [
  {
   "cell_type": "code",
   "execution_count": 143,
   "metadata": {},
   "outputs": [],
   "source": [
    "import pandas as pd\n",
    "import plotly.express as px\n",
    "import numpy as np"
   ]
  },
  {
   "cell_type": "code",
   "execution_count": 144,
   "metadata": {},
   "outputs": [],
   "source": [
    "df = pd.read_csv('datasets/water_life.csv')\n",
    "df_cleaned = df.dropna(subset=['Water', 'Life']).copy()\n",
    "\n",
    "# Ensure 'Water' column is numeric and round to nearest full percentage\n",
    "df_cleaned['Water'] = pd.to_numeric(df_cleaned['Water'], errors='coerce').round()\n",
    "\n",
    "# Filter data to include only every 4th year from 2002 to 2022\n",
    "df_cleaned = df_cleaned[(df_cleaned['Year'] >= 2002) & (df_cleaned['Year'] <= 2022) & (df_cleaned['Year'] % 4 == 2)]\n",
    "\n",
    "# Sort DataFrame by 'Year' and 'Water'\n",
    "df_cleaned.sort_values(by=['Year', 'Water'], ascending=[True, False], inplace=True)"
   ]
  },
  {
   "cell_type": "code",
   "execution_count": 145,
   "metadata": {},
   "outputs": [
    {
     "name": "stdout",
     "output_type": "stream",
     "text": [
      "Year\n",
      "2002    68.900640\n",
      "2006    70.431927\n",
      "2010    71.859859\n",
      "2014    73.113792\n",
      "2018    73.950967\n",
      "2022    73.766179\n",
      "Name: Life, dtype: float64\n"
     ]
    }
   ],
   "source": [
    "avg_life_exp_by_year = df_cleaned.groupby('Year')['Life'].mean()\n",
    "\n",
    "print(avg_life_exp_by_year)"
   ]
  },
  {
   "cell_type": "code",
   "execution_count": 146,
   "metadata": {},
   "outputs": [
    {
     "data": {
      "application/vnd.plotly.v1+json": {
       "config": {
        "plotlyServerURL": "https://plot.ly"
       },
       "data": [
        {
         "customdata": [
          [
           2002
          ],
          [
           2002
          ],
          [
           2002
          ],
          [
           2002
          ],
          [
           2002
          ],
          [
           2002
          ],
          [
           2002
          ],
          [
           2002
          ],
          [
           2002
          ],
          [
           2002
          ]
         ],
         "hovertemplate": "<b>%{customdata[0]}</b><br>Water access percentile: %{x}<br>Mean life expectancy: %{y} years<br><extra></extra>",
         "legendgroup": "2002",
         "line": {
          "color": "#31fcee",
          "dash": "solid"
         },
         "marker": {
          "symbol": "circle"
         },
         "mode": "lines",
         "name": "2002",
         "orientation": "v",
         "showlegend": true,
         "type": "scatter",
         "x": [
          "0-9%",
          "10-19%",
          "20-29%",
          "30-39%",
          "40-49%",
          "50-59%",
          "60-69%",
          "70-79%",
          "80-89%",
          "90-99%"
         ],
         "xaxis": "x",
         "y": [
          53.67666666666667,
          54.32600000031426,
          58.626399648157886,
          66.8315,
          69.78605938401002,
          68.55873009218683,
          69.63091269002364,
          71.85799864078582,
          73.29541819707461,
          77.58693240067052
         ],
         "yaxis": "y"
        },
        {
         "customdata": [
          [
           2006
          ],
          [
           2006
          ],
          [
           2006
          ],
          [
           2006
          ],
          [
           2006
          ],
          [
           2006
          ],
          [
           2006
          ],
          [
           2006
          ],
          [
           2006
          ],
          [
           2006
          ]
         ],
         "hovertemplate": "<b>%{customdata[0]}</b><br>Water access percentile: %{x}<br>Mean life expectancy: %{y} years<br><extra></extra>",
         "legendgroup": "2006",
         "line": {
          "color": "#5dbab1",
          "dash": "solid"
         },
         "marker": {
          "symbol": "circle"
         },
         "mode": "lines",
         "name": "2006",
         "orientation": "v",
         "showlegend": true,
         "type": "scatter",
         "x": [
          "0-9%",
          "10-19%",
          "20-29%",
          "30-39%",
          "40-49%",
          "50-59%",
          "60-69%",
          "70-79%",
          "80-89%",
          "90-99%"
         ],
         "xaxis": "x",
         "y": [
          53.80855555555556,
          56.58661889598363,
          60.578675858250506,
          62.83925,
          70.54318048489424,
          69.40275306929718,
          71.17823596796768,
          72.05079456100351,
          74.2819918320468,
          78.51964342775321
         ],
         "yaxis": "y"
        },
        {
         "customdata": [
          [
           2010
          ],
          [
           2010
          ],
          [
           2010
          ],
          [
           2010
          ],
          [
           2010
          ],
          [
           2010
          ],
          [
           2010
          ],
          [
           2010
          ],
          [
           2010
          ],
          [
           2010
          ]
         ],
         "hovertemplate": "<b>%{customdata[0]}</b><br>Water access percentile: %{x}<br>Mean life expectancy: %{y} years<br><extra></extra>",
         "legendgroup": "2010",
         "line": {
          "color": "#49817b",
          "dash": "solid"
         },
         "marker": {
          "symbol": "circle"
         },
         "mode": "lines",
         "name": "2010",
         "orientation": "v",
         "showlegend": true,
         "type": "scatter",
         "x": [
          "0-9%",
          "10-19%",
          "20-29%",
          "30-39%",
          "40-49%",
          "50-59%",
          "60-69%",
          "70-79%",
          "80-89%",
          "90-99%"
         ],
         "xaxis": "x",
         "y": [
          56.338,
          58.729571428571425,
          61.25438134950318,
          63.08199557492384,
          71.64875,
          69.9849210095977,
          72.28348310153773,
          73.23499377909091,
          74.44927792178727,
          79.36884519666032
         ],
         "yaxis": "y"
        },
        {
         "customdata": [
          [
           2014
          ],
          [
           2014
          ],
          [
           2014
          ],
          [
           2014
          ],
          [
           2014
          ],
          [
           2014
          ],
          [
           2014
          ],
          [
           2014
          ],
          [
           2014
          ],
          [
           2014
          ]
         ],
         "hovertemplate": "<b>%{customdata[0]}</b><br>Water access percentile: %{x}<br>Mean life expectancy: %{y} years<br><extra></extra>",
         "legendgroup": "2014",
         "line": {
          "color": "#b4a7b7",
          "dash": "solid"
         },
         "marker": {
          "symbol": "circle"
         },
         "mode": "lines",
         "name": "2014",
         "orientation": "v",
         "showlegend": true,
         "type": "scatter",
         "x": [
          "0-9%",
          "10-19%",
          "20-29%",
          "30-39%",
          "40-49%",
          "50-59%",
          "60-69%",
          "70-79%",
          "80-89%",
          "90-99%"
         ],
         "xaxis": "x",
         "y": [
          58.160666666666664,
          62.126714285714286,
          61.94952763960228,
          63.11589088251045,
          70.063,
          70.49820039528001,
          72.71049540365024,
          74.1713143044106,
          74.73386866791745,
          80.17752570266805
         ],
         "yaxis": "y"
        },
        {
         "customdata": [
          [
           2018
          ],
          [
           2018
          ],
          [
           2018
          ],
          [
           2018
          ],
          [
           2018
          ],
          [
           2018
          ],
          [
           2018
          ],
          [
           2018
          ],
          [
           2018
          ],
          [
           2018
          ]
         ],
         "hovertemplate": "<b>%{customdata[0]}</b><br>Water access percentile: %{x}<br>Mean life expectancy: %{y} years<br><extra></extra>",
         "legendgroup": "2018",
         "line": {
          "color": "#9946b2",
          "dash": "solid"
         },
         "marker": {
          "symbol": "circle"
         },
         "mode": "lines",
         "name": "2018",
         "orientation": "v",
         "showlegend": true,
         "type": "scatter",
         "x": [
          "0-9%",
          "10-19%",
          "20-29%",
          "30-39%",
          "40-49%",
          "50-59%",
          "60-69%",
          "70-79%",
          "80-89%",
          "90-99%"
         ],
         "xaxis": "x",
         "y": [
          59.5474,
          63.918375,
          63.4117574213103,
          64.2079466076977,
          71.22409999999999,
          72.22366666666666,
          73.00871723925364,
          74.54595412410067,
          76.38233481152994,
          80.31611892044639
         ],
         "yaxis": "y"
        },
        {
         "customdata": [
          [
           2022
          ],
          [
           2022
          ],
          [
           2022
          ],
          [
           2022
          ],
          [
           2022
          ],
          [
           2022
          ],
          [
           2022
          ],
          [
           2022
          ],
          [
           2022
          ],
          [
           2022
          ]
         ],
         "hovertemplate": "<b>%{customdata[0]}</b><br>Water access percentile: %{x}<br>Mean life expectancy: %{y} years<br><extra></extra>",
         "legendgroup": "2022",
         "line": {
          "color": "#4e4351",
          "dash": "solid"
         },
         "marker": {
          "symbol": "circle"
         },
         "mode": "lines",
         "name": "2022",
         "orientation": "v",
         "showlegend": true,
         "type": "scatter",
         "x": [
          "0-9%",
          "10-19%",
          "20-29%",
          "30-39%",
          "40-49%",
          "50-59%",
          "60-69%",
          "70-79%",
          "80-89%",
          "90-99%"
         ],
         "xaxis": "x",
         "y": [
          58.18475,
          65.27088888888889,
          62.83992808758617,
          66.33875508163004,
          69.31873675655612,
          70.77077777777778,
          72.21140224840954,
          73.7087502435874,
          75.47268594927264,
          80.18858711505726
         ],
         "yaxis": "y"
        }
       ],
       "layout": {
        "annotations": [
         {
          "align": "left",
          "showarrow": false,
          "text": "Annotation",
          "x": -0.08,
          "xanchor": "left",
          "xref": "paper",
          "y": -0.35,
          "yanchor": "bottom",
          "yref": "paper"
         }
        ],
        "legend": {
         "title": {
          "text": "Year"
         },
         "tracegroupgap": 0
        },
        "margin": {
         "b": 125,
         "l": 90,
         "r": 50,
         "t": 90
        },
        "paper_bgcolor": "#cff8d6",
        "plot_bgcolor": "#cff8d6",
        "template": {
         "data": {
          "bar": [
           {
            "error_x": {
             "color": "#2a3f5f"
            },
            "error_y": {
             "color": "#2a3f5f"
            },
            "marker": {
             "line": {
              "color": "#E5ECF6",
              "width": 0.5
             },
             "pattern": {
              "fillmode": "overlay",
              "size": 10,
              "solidity": 0.2
             }
            },
            "type": "bar"
           }
          ],
          "barpolar": [
           {
            "marker": {
             "line": {
              "color": "#E5ECF6",
              "width": 0.5
             },
             "pattern": {
              "fillmode": "overlay",
              "size": 10,
              "solidity": 0.2
             }
            },
            "type": "barpolar"
           }
          ],
          "carpet": [
           {
            "aaxis": {
             "endlinecolor": "#2a3f5f",
             "gridcolor": "white",
             "linecolor": "white",
             "minorgridcolor": "white",
             "startlinecolor": "#2a3f5f"
            },
            "baxis": {
             "endlinecolor": "#2a3f5f",
             "gridcolor": "white",
             "linecolor": "white",
             "minorgridcolor": "white",
             "startlinecolor": "#2a3f5f"
            },
            "type": "carpet"
           }
          ],
          "choropleth": [
           {
            "colorbar": {
             "outlinewidth": 0,
             "ticks": ""
            },
            "type": "choropleth"
           }
          ],
          "contour": [
           {
            "colorbar": {
             "outlinewidth": 0,
             "ticks": ""
            },
            "colorscale": [
             [
              0,
              "#0d0887"
             ],
             [
              0.1111111111111111,
              "#46039f"
             ],
             [
              0.2222222222222222,
              "#7201a8"
             ],
             [
              0.3333333333333333,
              "#9c179e"
             ],
             [
              0.4444444444444444,
              "#bd3786"
             ],
             [
              0.5555555555555556,
              "#d8576b"
             ],
             [
              0.6666666666666666,
              "#ed7953"
             ],
             [
              0.7777777777777778,
              "#fb9f3a"
             ],
             [
              0.8888888888888888,
              "#fdca26"
             ],
             [
              1,
              "#f0f921"
             ]
            ],
            "type": "contour"
           }
          ],
          "contourcarpet": [
           {
            "colorbar": {
             "outlinewidth": 0,
             "ticks": ""
            },
            "type": "contourcarpet"
           }
          ],
          "heatmap": [
           {
            "colorbar": {
             "outlinewidth": 0,
             "ticks": ""
            },
            "colorscale": [
             [
              0,
              "#0d0887"
             ],
             [
              0.1111111111111111,
              "#46039f"
             ],
             [
              0.2222222222222222,
              "#7201a8"
             ],
             [
              0.3333333333333333,
              "#9c179e"
             ],
             [
              0.4444444444444444,
              "#bd3786"
             ],
             [
              0.5555555555555556,
              "#d8576b"
             ],
             [
              0.6666666666666666,
              "#ed7953"
             ],
             [
              0.7777777777777778,
              "#fb9f3a"
             ],
             [
              0.8888888888888888,
              "#fdca26"
             ],
             [
              1,
              "#f0f921"
             ]
            ],
            "type": "heatmap"
           }
          ],
          "heatmapgl": [
           {
            "colorbar": {
             "outlinewidth": 0,
             "ticks": ""
            },
            "colorscale": [
             [
              0,
              "#0d0887"
             ],
             [
              0.1111111111111111,
              "#46039f"
             ],
             [
              0.2222222222222222,
              "#7201a8"
             ],
             [
              0.3333333333333333,
              "#9c179e"
             ],
             [
              0.4444444444444444,
              "#bd3786"
             ],
             [
              0.5555555555555556,
              "#d8576b"
             ],
             [
              0.6666666666666666,
              "#ed7953"
             ],
             [
              0.7777777777777778,
              "#fb9f3a"
             ],
             [
              0.8888888888888888,
              "#fdca26"
             ],
             [
              1,
              "#f0f921"
             ]
            ],
            "type": "heatmapgl"
           }
          ],
          "histogram": [
           {
            "marker": {
             "pattern": {
              "fillmode": "overlay",
              "size": 10,
              "solidity": 0.2
             }
            },
            "type": "histogram"
           }
          ],
          "histogram2d": [
           {
            "colorbar": {
             "outlinewidth": 0,
             "ticks": ""
            },
            "colorscale": [
             [
              0,
              "#0d0887"
             ],
             [
              0.1111111111111111,
              "#46039f"
             ],
             [
              0.2222222222222222,
              "#7201a8"
             ],
             [
              0.3333333333333333,
              "#9c179e"
             ],
             [
              0.4444444444444444,
              "#bd3786"
             ],
             [
              0.5555555555555556,
              "#d8576b"
             ],
             [
              0.6666666666666666,
              "#ed7953"
             ],
             [
              0.7777777777777778,
              "#fb9f3a"
             ],
             [
              0.8888888888888888,
              "#fdca26"
             ],
             [
              1,
              "#f0f921"
             ]
            ],
            "type": "histogram2d"
           }
          ],
          "histogram2dcontour": [
           {
            "colorbar": {
             "outlinewidth": 0,
             "ticks": ""
            },
            "colorscale": [
             [
              0,
              "#0d0887"
             ],
             [
              0.1111111111111111,
              "#46039f"
             ],
             [
              0.2222222222222222,
              "#7201a8"
             ],
             [
              0.3333333333333333,
              "#9c179e"
             ],
             [
              0.4444444444444444,
              "#bd3786"
             ],
             [
              0.5555555555555556,
              "#d8576b"
             ],
             [
              0.6666666666666666,
              "#ed7953"
             ],
             [
              0.7777777777777778,
              "#fb9f3a"
             ],
             [
              0.8888888888888888,
              "#fdca26"
             ],
             [
              1,
              "#f0f921"
             ]
            ],
            "type": "histogram2dcontour"
           }
          ],
          "mesh3d": [
           {
            "colorbar": {
             "outlinewidth": 0,
             "ticks": ""
            },
            "type": "mesh3d"
           }
          ],
          "parcoords": [
           {
            "line": {
             "colorbar": {
              "outlinewidth": 0,
              "ticks": ""
             }
            },
            "type": "parcoords"
           }
          ],
          "pie": [
           {
            "automargin": true,
            "type": "pie"
           }
          ],
          "scatter": [
           {
            "fillpattern": {
             "fillmode": "overlay",
             "size": 10,
             "solidity": 0.2
            },
            "type": "scatter"
           }
          ],
          "scatter3d": [
           {
            "line": {
             "colorbar": {
              "outlinewidth": 0,
              "ticks": ""
             }
            },
            "marker": {
             "colorbar": {
              "outlinewidth": 0,
              "ticks": ""
             }
            },
            "type": "scatter3d"
           }
          ],
          "scattercarpet": [
           {
            "marker": {
             "colorbar": {
              "outlinewidth": 0,
              "ticks": ""
             }
            },
            "type": "scattercarpet"
           }
          ],
          "scattergeo": [
           {
            "marker": {
             "colorbar": {
              "outlinewidth": 0,
              "ticks": ""
             }
            },
            "type": "scattergeo"
           }
          ],
          "scattergl": [
           {
            "marker": {
             "colorbar": {
              "outlinewidth": 0,
              "ticks": ""
             }
            },
            "type": "scattergl"
           }
          ],
          "scattermapbox": [
           {
            "marker": {
             "colorbar": {
              "outlinewidth": 0,
              "ticks": ""
             }
            },
            "type": "scattermapbox"
           }
          ],
          "scatterpolar": [
           {
            "marker": {
             "colorbar": {
              "outlinewidth": 0,
              "ticks": ""
             }
            },
            "type": "scatterpolar"
           }
          ],
          "scatterpolargl": [
           {
            "marker": {
             "colorbar": {
              "outlinewidth": 0,
              "ticks": ""
             }
            },
            "type": "scatterpolargl"
           }
          ],
          "scatterternary": [
           {
            "marker": {
             "colorbar": {
              "outlinewidth": 0,
              "ticks": ""
             }
            },
            "type": "scatterternary"
           }
          ],
          "surface": [
           {
            "colorbar": {
             "outlinewidth": 0,
             "ticks": ""
            },
            "colorscale": [
             [
              0,
              "#0d0887"
             ],
             [
              0.1111111111111111,
              "#46039f"
             ],
             [
              0.2222222222222222,
              "#7201a8"
             ],
             [
              0.3333333333333333,
              "#9c179e"
             ],
             [
              0.4444444444444444,
              "#bd3786"
             ],
             [
              0.5555555555555556,
              "#d8576b"
             ],
             [
              0.6666666666666666,
              "#ed7953"
             ],
             [
              0.7777777777777778,
              "#fb9f3a"
             ],
             [
              0.8888888888888888,
              "#fdca26"
             ],
             [
              1,
              "#f0f921"
             ]
            ],
            "type": "surface"
           }
          ],
          "table": [
           {
            "cells": {
             "fill": {
              "color": "#EBF0F8"
             },
             "line": {
              "color": "white"
             }
            },
            "header": {
             "fill": {
              "color": "#C8D4E3"
             },
             "line": {
              "color": "white"
             }
            },
            "type": "table"
           }
          ]
         },
         "layout": {
          "annotationdefaults": {
           "arrowcolor": "#2a3f5f",
           "arrowhead": 0,
           "arrowwidth": 1
          },
          "autotypenumbers": "strict",
          "coloraxis": {
           "colorbar": {
            "outlinewidth": 0,
            "ticks": ""
           }
          },
          "colorscale": {
           "diverging": [
            [
             0,
             "#8e0152"
            ],
            [
             0.1,
             "#c51b7d"
            ],
            [
             0.2,
             "#de77ae"
            ],
            [
             0.3,
             "#f1b6da"
            ],
            [
             0.4,
             "#fde0ef"
            ],
            [
             0.5,
             "#f7f7f7"
            ],
            [
             0.6,
             "#e6f5d0"
            ],
            [
             0.7,
             "#b8e186"
            ],
            [
             0.8,
             "#7fbc41"
            ],
            [
             0.9,
             "#4d9221"
            ],
            [
             1,
             "#276419"
            ]
           ],
           "sequential": [
            [
             0,
             "#0d0887"
            ],
            [
             0.1111111111111111,
             "#46039f"
            ],
            [
             0.2222222222222222,
             "#7201a8"
            ],
            [
             0.3333333333333333,
             "#9c179e"
            ],
            [
             0.4444444444444444,
             "#bd3786"
            ],
            [
             0.5555555555555556,
             "#d8576b"
            ],
            [
             0.6666666666666666,
             "#ed7953"
            ],
            [
             0.7777777777777778,
             "#fb9f3a"
            ],
            [
             0.8888888888888888,
             "#fdca26"
            ],
            [
             1,
             "#f0f921"
            ]
           ],
           "sequentialminus": [
            [
             0,
             "#0d0887"
            ],
            [
             0.1111111111111111,
             "#46039f"
            ],
            [
             0.2222222222222222,
             "#7201a8"
            ],
            [
             0.3333333333333333,
             "#9c179e"
            ],
            [
             0.4444444444444444,
             "#bd3786"
            ],
            [
             0.5555555555555556,
             "#d8576b"
            ],
            [
             0.6666666666666666,
             "#ed7953"
            ],
            [
             0.7777777777777778,
             "#fb9f3a"
            ],
            [
             0.8888888888888888,
             "#fdca26"
            ],
            [
             1,
             "#f0f921"
            ]
           ]
          },
          "colorway": [
           "#636efa",
           "#EF553B",
           "#00cc96",
           "#ab63fa",
           "#FFA15A",
           "#19d3f3",
           "#FF6692",
           "#B6E880",
           "#FF97FF",
           "#FECB52"
          ],
          "font": {
           "color": "#2a3f5f"
          },
          "geo": {
           "bgcolor": "white",
           "lakecolor": "white",
           "landcolor": "#E5ECF6",
           "showlakes": true,
           "showland": true,
           "subunitcolor": "white"
          },
          "hoverlabel": {
           "align": "left"
          },
          "hovermode": "closest",
          "mapbox": {
           "style": "light"
          },
          "paper_bgcolor": "white",
          "plot_bgcolor": "#E5ECF6",
          "polar": {
           "angularaxis": {
            "gridcolor": "white",
            "linecolor": "white",
            "ticks": ""
           },
           "bgcolor": "#E5ECF6",
           "radialaxis": {
            "gridcolor": "white",
            "linecolor": "white",
            "ticks": ""
           }
          },
          "scene": {
           "xaxis": {
            "backgroundcolor": "#E5ECF6",
            "gridcolor": "white",
            "gridwidth": 2,
            "linecolor": "white",
            "showbackground": true,
            "ticks": "",
            "zerolinecolor": "white"
           },
           "yaxis": {
            "backgroundcolor": "#E5ECF6",
            "gridcolor": "white",
            "gridwidth": 2,
            "linecolor": "white",
            "showbackground": true,
            "ticks": "",
            "zerolinecolor": "white"
           },
           "zaxis": {
            "backgroundcolor": "#E5ECF6",
            "gridcolor": "white",
            "gridwidth": 2,
            "linecolor": "white",
            "showbackground": true,
            "ticks": "",
            "zerolinecolor": "white"
           }
          },
          "shapedefaults": {
           "line": {
            "color": "#2a3f5f"
           }
          },
          "ternary": {
           "aaxis": {
            "gridcolor": "white",
            "linecolor": "white",
            "ticks": ""
           },
           "baxis": {
            "gridcolor": "white",
            "linecolor": "white",
            "ticks": ""
           },
           "bgcolor": "#E5ECF6",
           "caxis": {
            "gridcolor": "white",
            "linecolor": "white",
            "ticks": ""
           }
          },
          "title": {
           "x": 0.05
          },
          "xaxis": {
           "automargin": true,
           "gridcolor": "white",
           "linecolor": "white",
           "ticks": "",
           "title": {
            "standoff": 15
           },
           "zerolinecolor": "white",
           "zerolinewidth": 2
          },
          "yaxis": {
           "automargin": true,
           "gridcolor": "white",
           "linecolor": "white",
           "ticks": "",
           "title": {
            "standoff": 15
           },
           "zerolinecolor": "white",
           "zerolinewidth": 2
          }
         }
        },
        "title": {
         "text": "Mean Life expectancy by Water Access percentile<br><sup>Access to water positively correlates to life expectancy</sup>",
         "x": 0.5
        },
        "width": 780,
        "xaxis": {
         "anchor": "y",
         "domain": [
          0,
          1
         ],
         "gridcolor": "darkgrey",
         "gridwidth": 1,
         "title": {
          "text": "Water access percentile (%)"
         },
         "zeroline": false
        },
        "yaxis": {
         "anchor": "x",
         "domain": [
          0,
          1
         ],
         "gridcolor": "darkgrey",
         "gridwidth": 1,
         "title": {
          "text": "Mean life expectancy (years)"
         },
         "zeroline": false
        }
       }
      }
     },
     "metadata": {},
     "output_type": "display_data"
    }
   ],
   "source": [
    "df_cleaned['Water'] = pd.to_numeric(df_cleaned['Water'], errors='coerce')\n",
    "\n",
    "# Bin 'Water' access into percentiles (every 10th percentile)\n",
    "bins = np.arange(0, 101, 10)  # bins from 0 to 100 by 10\n",
    "labels = [f'{i}-{i+9}%' for i in range(0, 100, 10)]  # labels for bins\n",
    "\n",
    "df_cleaned['Water_Percentile'] = pd.cut(df_cleaned['Water'], bins=bins, labels=labels, include_lowest=True)\n",
    "\n",
    "# Group by 'Year' and 'Water_Percentile', and calculate mean 'Life'\n",
    "agg_data_by_year_percentile = df_cleaned.groupby(['Year', 'Water_Percentile'], observed=True)['Life'].mean().reset_index()\n",
    "\n",
    "# Define custom colors for each year\n",
    "custom_colors = {\n",
    "    2002: '#31fcee',\n",
    "    2006: '#5dbab1',\n",
    "    2010: '#49817b',\n",
    "    2014: '#b4a7b7',\n",
    "    2018: '#9946b2',\n",
    "    2022: '#4e4351'\n",
    "}\n",
    "\n",
    "# Plotting with Plotly Express\n",
    "fig = px.line(agg_data_by_year_percentile, x='Water_Percentile', y='Life', color='Year',\n",
    "              color_discrete_map=custom_colors,\n",
    "              custom_data=['Year'],\n",
    "              labels={'Life': 'Mean Life Expectancy', 'Water_Percentile': 'Water Access Percentile'})\n",
    "\n",
    "fig.update_layout(\n",
    "    title='Mean Life expectancy by Water Access percentile<br><sup>Access to water positively correlates to life expectancy</sup>', \n",
    "    title_x=0.5,\n",
    "    plot_bgcolor='#cff8d6',\n",
    "    paper_bgcolor='#cff8d6',\n",
    "    margin={'l': 90, 'b': 125, 'r': 50, 't': 90},\n",
    "    xaxis=dict(title='Water access percentile (%)',\n",
    "               gridcolor='darkgrey',\n",
    "               gridwidth=1,\n",
    "               zeroline=False),   \n",
    "    yaxis=dict(title='Mean life expectancy (years)',\n",
    "               gridcolor='darkgrey',\n",
    "               gridwidth=1,\n",
    "               zeroline=False),\n",
    "    width=780\n",
    ")\n",
    "\n",
    "for trace in fig.data:\n",
    "    trace.hovertemplate = \"<b>%{customdata[0]}</b><br>\" + \\\n",
    "                          \"Water access percentile: %{x}<br>\" + \\\n",
    "                          \"Mean life expectancy: %{y} years<br>\" + \\\n",
    "                          \"<extra></extra>\"\n",
    "\n",
    "fig.add_annotation(x=-0.08, y=-0.35,\n",
    "                   showarrow=False,\n",
    "                   xref='paper', yref='paper',\n",
    "                   xanchor='left', yanchor='bottom',\n",
    "                   align='left',\n",
    "                   text='Annotation')\n",
    "\n",
    "fig.show()"
   ]
  }
 ],
 "metadata": {
  "kernelspec": {
   "display_name": "Python 3",
   "language": "python",
   "name": "python3"
  },
  "language_info": {
   "codemirror_mode": {
    "name": "ipython",
    "version": 3
   },
   "file_extension": ".py",
   "mimetype": "text/x-python",
   "name": "python",
   "nbconvert_exporter": "python",
   "pygments_lexer": "ipython3",
   "version": "3.10.14"
  }
 },
 "nbformat": 4,
 "nbformat_minor": 2
}
