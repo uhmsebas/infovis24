{
 "cells": [
  {
   "cell_type": "markdown",
   "metadata": {},
   "source": [
    "# There are other factors that have more influence on life expectancy that should be prioritized."
   ]
  },
  {
   "cell_type": "markdown",
   "metadata": {},
   "source": [
    "## The First Argument of Your Second Perspective\n",
    "\n",
    "Even though A country investing in their education program results in an increase in life expectancy. There are more direct approaches to increasing a country's life expectancy. One possible solution is investing in increasing the country's vaccination rate. Diseases or viruses like Polio and Diphtheria can be fatal if not treated appropriately, in some cases (like for polio) there is no cure at all. Not treating these diseases results in a drastic decrease in life expectancy. So instead of investing in education to improve life expectancy, a country should invest in vaccines as this has a more direct effect. This can be seen in the plot where it shows an increase in vaccination rate for polio and Diphtheria corresponds with an increase in life expectancy. This is also found in the research by Jenifer Ehreth. Which concludes that improving the vaccination rate is a big factor in increasing a country's life expectancy.\n",
    "https://www.sciencedirect.com/science/article/pii/S0264410X03003773 "
   ]
  },
  {
   "cell_type": "code",
   "execution_count": null,
   "metadata": {
    "tags": [
     "hide-input"
    ]
   },
   "outputs": [],
   "source": [
    "import pandas as pd\n",
    "import matplotlib.pyplot as plt\n",
    "\n",
    "# Load the data\n",
    "df_life = pd.read_csv('life_expectancy.csv')\n",
    "\n",
    "# Create a figure and axes for the subplots\n",
    "fig, (ax1, ax2) = plt.subplots(2, 1, figsize=(10, 10))\n",
    "\n",
    "# Sort the DataFrame by 'Polio' column and plot\n",
    "df_life_sorted_polio = df_life.sort_values(by='Polio')\n",
    "ax1.bar(df_life_sorted_polio['Polio'], df_life_sorted_polio['Life expectancy'])\n",
    "ax1.set_xlabel('Polio Vaccination Rate')\n",
    "ax1.set_ylabel('Life Expectancy')\n",
    "ax1.set_title('Polio Vaccination Rate vs Life Expectancy')\n",
    "\n",
    "# Sort the DataFrame by 'Diphtheria' column and plot\n",
    "df_life_sorted_diphtheria = df_life.sort_values(by = 'Diphtheria')\n",
    "ax2.bar(df_life_sorted_diphtheria['Diphtheria'], df_life_sorted_diphtheria['Life expectancy'])\n",
    "ax2.set_xlabel('Diphtheria Vaccination Rate')\n",
    "ax2.set_ylabel('Life Expectancy')\n",
    "ax2.set_title('Diphtheria Vaccination Rate vs Life Expectancy')\n",
    "\n",
    "# Adjust layout to prevent overlap\n",
    "plt.tight_layout()\n",
    "\n",
    "# Show the plot\n",
    "plt.show()\n",
    "import plotly.express as px\n",
    "import pandas as pd\n",
    "\n",
    "# Read the CSV file into a DataFrame\n",
    "df = pd.read_csv('life_expectancy.csv')\n",
    "\n",
    "# Drop rows with NaN values in Population (if applicable)\n",
    "df = df.dropna(subset=['Population'])\n",
    "\n",
    "# Ensure that 'Country' and 'Year' are present as columns\n",
    "years_sorted = sorted(df['Year'].unique())\n",
    "\n",
    "# Create the scatter plot with Plotly Express\n",
    "fig = px.scatter(df, \n",
    "                 x='Polio', \n",
    "                 y='Life expectancy', \n",
    "                 animation_frame='Year', \n",
    "                 animation_group='Country',\n",
    "                 size='Population', \n",
    "                 color='Country', \n",
    "                 hover_name='Country',\n",
    "                 size_max=150, \n",
    "                 range_x=[0, 100], \n",
    "                 range_y=[25, 90],\n",
    "                 category_orders={'Year': years_sorted})\n",
    "\n",
    "# Update the layout with x-axis titles and other configurations\n",
    "fig.update_layout(\n",
    "    title=\"Life Expectancy vs Vaccination Rates\",\n",
    "    xaxis=dict(title='Polio Vaccination Rate'),   # Initial x-axis title\n",
    "    yaxis=dict(title='Life Expectancy'),          # y-axis title\n",
    "    showlegend=True,\n",
    ")\n",
    "\n",
    "# Show the plot\n",
    "fig.show()"
   ]
  }
 ],
 "metadata": {
  "kernelspec": {
   "display_name": "jupyterbook",
   "language": "python",
   "name": "python3"
  },
  "language_info": {
   "codemirror_mode": {
    "name": "ipython",
    "version": 3
   },
   "file_extension": ".py",
   "mimetype": "text/x-python",
   "name": "python",
   "nbconvert_exporter": "python",
   "pygments_lexer": "ipython3",
   "version": "3.10.14"
  }
 },
 "nbformat": 4,
 "nbformat_minor": 2
}
