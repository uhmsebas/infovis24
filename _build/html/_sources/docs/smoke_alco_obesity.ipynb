{
 "cells": [
  {
   "cell_type": "code",
   "execution_count": 1,
   "metadata": {},
   "outputs": [],
   "source": [
    "import pandas as pd\n",
    "import plotly.graph_objects as go\n",
    "import plotly.express as px"
   ]
  },
  {
   "cell_type": "code",
   "execution_count": 2,
   "metadata": {},
   "outputs": [],
   "source": [
    "df_hdi = pd.read_csv('datasets/human-development-index-(hdi)-by-country-2024.csv')\n",
    "\n",
    "df_hdi_very_high = df_hdi[df_hdi['HdiTier'] == 'Very High']"
   ]
  },
  {
   "cell_type": "code",
   "execution_count": 3,
   "metadata": {},
   "outputs": [],
   "source": [
    "# Select the top 10 countries with highest human development index according to worldpopulationreview.\n",
    "# Assume these countries have high access to alcohol, tobacco and food.\n",
    "#\n",
    "# https://worldpopulationreview.com/country-rankings/developed-countries\n",
    "#\n",
    "# Note: Netherlands and Hong Kong are excluded, as these did not have data points.\n",
    "\n",
    "df = pd.read_csv('datasets/obese_smoke_alcohol_2015.csv')\n",
    "df = df.dropna()\n",
    "\n",
    "countries_highest_hdi = df_hdi_very_high['country'].unique().tolist()\n",
    "\n",
    "filtered_df = df[df['Country Name'].isin(countries_highest_hdi)].copy()"
   ]
  },
  {
   "cell_type": "code",
   "execution_count": 4,
   "metadata": {},
   "outputs": [],
   "source": [
    "# Convert 'Prevalence of obesity among adults, Both sexes' to string and clean it\n",
    "filtered_df['Prevalence of obesity among adults, Both sexes'] = filtered_df['Prevalence of obesity among adults, Both sexes'].astype(str)\n",
    "filtered_df['Prevalence of obesity among adults, Both sexes'] = filtered_df['Prevalence of obesity among adults, Both sexes'].str.replace(r'\\s*\\[.*?\\]\\s*', '', regex=True)\n",
    "filtered_df['Prevalence of obesity among adults, Both sexes'] = pd.to_numeric(filtered_df['Prevalence of obesity among adults, Both sexes'], errors='coerce')"
   ]
  },
  {
   "cell_type": "code",
   "execution_count": null,
   "metadata": {},
   "outputs": [],
   "source": [
    "normalized_life_expectancy = (filtered_df['Life expectancy'] - filtered_df['Life expectancy'].min()) / (filtered_df['Life expectancy'].max() - filtered_df['Life expectancy'].min())"
   ]
  },
  {
   "cell_type": "code",
   "execution_count": 61,
   "metadata": {},
   "outputs": [
    {
     "data": {
      "application/vnd.plotly.v1+json": {
       "config": {
        "plotlyServerURL": "https://plot.ly"
       },
       "data": [
        {
         "dimensions": [
          {
           "constraintrange": [
            5,
            43
           ],
           "label": "Tobacco (%)",
           "range": [
            0,
            50
           ],
           "values": [
            25.4,
            33,
            22.1,
            34,
            32,
            14.2,
            18.3,
            24.1,
            29.7,
            23.9,
            8.8,
            40.9,
            33.2,
            33.1,
            26.6,
            7.8,
            16.4,
            24.3,
            27.2,
            33.3,
            6.4,
            36.1,
            12.2,
            10.5,
            37.9,
            24.9,
            25.2,
            24.5,
            25.7,
            23.8,
            31.2,
            16.5,
            26.3,
            20.7,
            23.2,
            15.8,
            27.9,
            33.7,
            23.4,
            23.8,
            15.2,
            15.7,
            29.7,
            16.5,
            26.2,
            22.7,
            36.4,
            32.9,
            21.1,
            22.7
           ]
          },
          {
           "label": "Obesity (%)",
           "range": [
            0,
            50
           ],
           "values": [
            20.5,
            24.1,
            13.5,
            26,
            21.1,
            34.7,
            37.4,
            9.4,
            22.1,
            14.9,
            22.5,
            21.1,
            25.9,
            22.8,
            27.8,
            26.3,
            29.3,
            27.5,
            22.7,
            20.9,
            22.2,
            23.9,
            34.5,
            25,
            24.4,
            21.9,
            20.4,
            21.8,
            21.7,
            24.7,
            19.7,
            30.2,
            28.5,
            22.6,
            22.2,
            28.8,
            20.2,
            21.2,
            25.8,
            19.6,
            21.5,
            28.4,
            23.4,
            6,
            19.1,
            4.1,
            21.4,
            27.5,
            19.3,
            19.8
           ]
          },
          {
           "label": "Alcohol per capita (L)",
           "range": [
            0,
            30
           ],
           "values": [
            4.17174,
            11.04492,
            12.03243,
            14.1729,
            13.94713,
            0,
            0,
            8.16237,
            16.85203,
            0.65486,
            9.1816,
            7.84315,
            10.67668,
            9.55367,
            8.5713,
            0.80973,
            1.89326,
            6.02212,
            11.46278,
            15.05872,
            6.59,
            8.59113,
            1.16877,
            3.50244,
            7.4752,
            12.14919,
            10.53851,
            9.43487,
            11.2362,
            11.71409,
            12.19174,
            9.69342,
            7.71665,
            6.82976,
            11.71343,
            9.91687,
            9.4453,
            11.72756,
            2.94125,
            7.67835,
            7.84791,
            10.3903,
            9.94182,
            1.91192,
            10.69437,
            6.71821,
            8.11866,
            7.75342,
            9.61349,
            11.57815
           ]
          },
          {
           "label": "Life expectancy (years)",
           "range": [
            50,
            100
           ],
           "values": [
            72,
            72.3,
            73.2,
            73.6,
            74.4,
            74.5,
            74.7,
            74.9,
            75,
            75,
            75.5,
            75.6,
            75.8,
            76.1,
            76.3,
            76.6,
            76.9,
            77,
            77.5,
            77.6,
            77.8,
            78,
            78.2,
            79.6,
            81,
            81,
            81.1,
            81.1,
            81.1,
            81.4,
            81.5,
            81.6,
            81.7,
            81.8,
            82,
            82.2,
            82.4,
            82.4,
            82.5,
            82.7,
            82.7,
            82.8,
            82.8,
            83.1,
            83.4,
            83.7,
            85,
            85,
            86,
            88
           ]
          }
         ],
         "line": {
          "color": [
           72,
           72.3,
           73.2,
           73.6,
           74.4,
           74.5,
           74.7,
           74.9,
           75,
           75,
           75.5,
           75.6,
           75.8,
           76.1,
           76.3,
           76.6,
           76.9,
           77,
           77.5,
           77.6,
           77.8,
           78,
           78.2,
           79.6,
           81,
           81,
           81.1,
           81.1,
           81.1,
           81.4,
           81.5,
           81.6,
           81.7,
           81.8,
           82,
           82.2,
           82.4,
           82.4,
           82.5,
           82.7,
           82.7,
           82.8,
           82.8,
           83.1,
           83.4,
           83.7,
           85,
           85,
           86,
           88
          ],
          "colorbar": {
           "title": {
            "text": "Life Expectancy"
           }
          },
          "colorscale": [
           [
            0,
            "yellow"
           ],
           [
            0.2,
            "yellow"
           ],
           [
            0.4,
            "yellow"
           ],
           [
            0.6,
            "yellow"
           ],
           [
            0.8,
            "red"
           ],
           [
            1,
            "red"
           ]
          ],
          "showscale": true
         },
         "type": "parcoords"
        }
       ],
       "layout": {
        "font": {
         "size": 12
        },
        "height": 520,
        "margin": {
         "b": 120,
         "l": 80,
         "r": 130,
         "t": 120
        },
        "paper_bgcolor": "#cff8d6",
        "plot_bgcolor": "#cff8d6",
        "template": {
         "data": {
          "bar": [
           {
            "error_x": {
             "color": "#2a3f5f"
            },
            "error_y": {
             "color": "#2a3f5f"
            },
            "marker": {
             "line": {
              "color": "#E5ECF6",
              "width": 0.5
             },
             "pattern": {
              "fillmode": "overlay",
              "size": 10,
              "solidity": 0.2
             }
            },
            "type": "bar"
           }
          ],
          "barpolar": [
           {
            "marker": {
             "line": {
              "color": "#E5ECF6",
              "width": 0.5
             },
             "pattern": {
              "fillmode": "overlay",
              "size": 10,
              "solidity": 0.2
             }
            },
            "type": "barpolar"
           }
          ],
          "carpet": [
           {
            "aaxis": {
             "endlinecolor": "#2a3f5f",
             "gridcolor": "white",
             "linecolor": "white",
             "minorgridcolor": "white",
             "startlinecolor": "#2a3f5f"
            },
            "baxis": {
             "endlinecolor": "#2a3f5f",
             "gridcolor": "white",
             "linecolor": "white",
             "minorgridcolor": "white",
             "startlinecolor": "#2a3f5f"
            },
            "type": "carpet"
           }
          ],
          "choropleth": [
           {
            "colorbar": {
             "outlinewidth": 0,
             "ticks": ""
            },
            "type": "choropleth"
           }
          ],
          "contour": [
           {
            "colorbar": {
             "outlinewidth": 0,
             "ticks": ""
            },
            "colorscale": [
             [
              0,
              "#0d0887"
             ],
             [
              0.1111111111111111,
              "#46039f"
             ],
             [
              0.2222222222222222,
              "#7201a8"
             ],
             [
              0.3333333333333333,
              "#9c179e"
             ],
             [
              0.4444444444444444,
              "#bd3786"
             ],
             [
              0.5555555555555556,
              "#d8576b"
             ],
             [
              0.6666666666666666,
              "#ed7953"
             ],
             [
              0.7777777777777778,
              "#fb9f3a"
             ],
             [
              0.8888888888888888,
              "#fdca26"
             ],
             [
              1,
              "#f0f921"
             ]
            ],
            "type": "contour"
           }
          ],
          "contourcarpet": [
           {
            "colorbar": {
             "outlinewidth": 0,
             "ticks": ""
            },
            "type": "contourcarpet"
           }
          ],
          "heatmap": [
           {
            "colorbar": {
             "outlinewidth": 0,
             "ticks": ""
            },
            "colorscale": [
             [
              0,
              "#0d0887"
             ],
             [
              0.1111111111111111,
              "#46039f"
             ],
             [
              0.2222222222222222,
              "#7201a8"
             ],
             [
              0.3333333333333333,
              "#9c179e"
             ],
             [
              0.4444444444444444,
              "#bd3786"
             ],
             [
              0.5555555555555556,
              "#d8576b"
             ],
             [
              0.6666666666666666,
              "#ed7953"
             ],
             [
              0.7777777777777778,
              "#fb9f3a"
             ],
             [
              0.8888888888888888,
              "#fdca26"
             ],
             [
              1,
              "#f0f921"
             ]
            ],
            "type": "heatmap"
           }
          ],
          "heatmapgl": [
           {
            "colorbar": {
             "outlinewidth": 0,
             "ticks": ""
            },
            "colorscale": [
             [
              0,
              "#0d0887"
             ],
             [
              0.1111111111111111,
              "#46039f"
             ],
             [
              0.2222222222222222,
              "#7201a8"
             ],
             [
              0.3333333333333333,
              "#9c179e"
             ],
             [
              0.4444444444444444,
              "#bd3786"
             ],
             [
              0.5555555555555556,
              "#d8576b"
             ],
             [
              0.6666666666666666,
              "#ed7953"
             ],
             [
              0.7777777777777778,
              "#fb9f3a"
             ],
             [
              0.8888888888888888,
              "#fdca26"
             ],
             [
              1,
              "#f0f921"
             ]
            ],
            "type": "heatmapgl"
           }
          ],
          "histogram": [
           {
            "marker": {
             "pattern": {
              "fillmode": "overlay",
              "size": 10,
              "solidity": 0.2
             }
            },
            "type": "histogram"
           }
          ],
          "histogram2d": [
           {
            "colorbar": {
             "outlinewidth": 0,
             "ticks": ""
            },
            "colorscale": [
             [
              0,
              "#0d0887"
             ],
             [
              0.1111111111111111,
              "#46039f"
             ],
             [
              0.2222222222222222,
              "#7201a8"
             ],
             [
              0.3333333333333333,
              "#9c179e"
             ],
             [
              0.4444444444444444,
              "#bd3786"
             ],
             [
              0.5555555555555556,
              "#d8576b"
             ],
             [
              0.6666666666666666,
              "#ed7953"
             ],
             [
              0.7777777777777778,
              "#fb9f3a"
             ],
             [
              0.8888888888888888,
              "#fdca26"
             ],
             [
              1,
              "#f0f921"
             ]
            ],
            "type": "histogram2d"
           }
          ],
          "histogram2dcontour": [
           {
            "colorbar": {
             "outlinewidth": 0,
             "ticks": ""
            },
            "colorscale": [
             [
              0,
              "#0d0887"
             ],
             [
              0.1111111111111111,
              "#46039f"
             ],
             [
              0.2222222222222222,
              "#7201a8"
             ],
             [
              0.3333333333333333,
              "#9c179e"
             ],
             [
              0.4444444444444444,
              "#bd3786"
             ],
             [
              0.5555555555555556,
              "#d8576b"
             ],
             [
              0.6666666666666666,
              "#ed7953"
             ],
             [
              0.7777777777777778,
              "#fb9f3a"
             ],
             [
              0.8888888888888888,
              "#fdca26"
             ],
             [
              1,
              "#f0f921"
             ]
            ],
            "type": "histogram2dcontour"
           }
          ],
          "mesh3d": [
           {
            "colorbar": {
             "outlinewidth": 0,
             "ticks": ""
            },
            "type": "mesh3d"
           }
          ],
          "parcoords": [
           {
            "line": {
             "colorbar": {
              "outlinewidth": 0,
              "ticks": ""
             }
            },
            "type": "parcoords"
           }
          ],
          "pie": [
           {
            "automargin": true,
            "type": "pie"
           }
          ],
          "scatter": [
           {
            "fillpattern": {
             "fillmode": "overlay",
             "size": 10,
             "solidity": 0.2
            },
            "type": "scatter"
           }
          ],
          "scatter3d": [
           {
            "line": {
             "colorbar": {
              "outlinewidth": 0,
              "ticks": ""
             }
            },
            "marker": {
             "colorbar": {
              "outlinewidth": 0,
              "ticks": ""
             }
            },
            "type": "scatter3d"
           }
          ],
          "scattercarpet": [
           {
            "marker": {
             "colorbar": {
              "outlinewidth": 0,
              "ticks": ""
             }
            },
            "type": "scattercarpet"
           }
          ],
          "scattergeo": [
           {
            "marker": {
             "colorbar": {
              "outlinewidth": 0,
              "ticks": ""
             }
            },
            "type": "scattergeo"
           }
          ],
          "scattergl": [
           {
            "marker": {
             "colorbar": {
              "outlinewidth": 0,
              "ticks": ""
             }
            },
            "type": "scattergl"
           }
          ],
          "scattermapbox": [
           {
            "marker": {
             "colorbar": {
              "outlinewidth": 0,
              "ticks": ""
             }
            },
            "type": "scattermapbox"
           }
          ],
          "scatterpolar": [
           {
            "marker": {
             "colorbar": {
              "outlinewidth": 0,
              "ticks": ""
             }
            },
            "type": "scatterpolar"
           }
          ],
          "scatterpolargl": [
           {
            "marker": {
             "colorbar": {
              "outlinewidth": 0,
              "ticks": ""
             }
            },
            "type": "scatterpolargl"
           }
          ],
          "scatterternary": [
           {
            "marker": {
             "colorbar": {
              "outlinewidth": 0,
              "ticks": ""
             }
            },
            "type": "scatterternary"
           }
          ],
          "surface": [
           {
            "colorbar": {
             "outlinewidth": 0,
             "ticks": ""
            },
            "colorscale": [
             [
              0,
              "#0d0887"
             ],
             [
              0.1111111111111111,
              "#46039f"
             ],
             [
              0.2222222222222222,
              "#7201a8"
             ],
             [
              0.3333333333333333,
              "#9c179e"
             ],
             [
              0.4444444444444444,
              "#bd3786"
             ],
             [
              0.5555555555555556,
              "#d8576b"
             ],
             [
              0.6666666666666666,
              "#ed7953"
             ],
             [
              0.7777777777777778,
              "#fb9f3a"
             ],
             [
              0.8888888888888888,
              "#fdca26"
             ],
             [
              1,
              "#f0f921"
             ]
            ],
            "type": "surface"
           }
          ],
          "table": [
           {
            "cells": {
             "fill": {
              "color": "#EBF0F8"
             },
             "line": {
              "color": "white"
             }
            },
            "header": {
             "fill": {
              "color": "#C8D4E3"
             },
             "line": {
              "color": "white"
             }
            },
            "type": "table"
           }
          ]
         },
         "layout": {
          "annotationdefaults": {
           "arrowcolor": "#2a3f5f",
           "arrowhead": 0,
           "arrowwidth": 1
          },
          "autotypenumbers": "strict",
          "coloraxis": {
           "colorbar": {
            "outlinewidth": 0,
            "ticks": ""
           }
          },
          "colorscale": {
           "diverging": [
            [
             0,
             "#8e0152"
            ],
            [
             0.1,
             "#c51b7d"
            ],
            [
             0.2,
             "#de77ae"
            ],
            [
             0.3,
             "#f1b6da"
            ],
            [
             0.4,
             "#fde0ef"
            ],
            [
             0.5,
             "#f7f7f7"
            ],
            [
             0.6,
             "#e6f5d0"
            ],
            [
             0.7,
             "#b8e186"
            ],
            [
             0.8,
             "#7fbc41"
            ],
            [
             0.9,
             "#4d9221"
            ],
            [
             1,
             "#276419"
            ]
           ],
           "sequential": [
            [
             0,
             "#0d0887"
            ],
            [
             0.1111111111111111,
             "#46039f"
            ],
            [
             0.2222222222222222,
             "#7201a8"
            ],
            [
             0.3333333333333333,
             "#9c179e"
            ],
            [
             0.4444444444444444,
             "#bd3786"
            ],
            [
             0.5555555555555556,
             "#d8576b"
            ],
            [
             0.6666666666666666,
             "#ed7953"
            ],
            [
             0.7777777777777778,
             "#fb9f3a"
            ],
            [
             0.8888888888888888,
             "#fdca26"
            ],
            [
             1,
             "#f0f921"
            ]
           ],
           "sequentialminus": [
            [
             0,
             "#0d0887"
            ],
            [
             0.1111111111111111,
             "#46039f"
            ],
            [
             0.2222222222222222,
             "#7201a8"
            ],
            [
             0.3333333333333333,
             "#9c179e"
            ],
            [
             0.4444444444444444,
             "#bd3786"
            ],
            [
             0.5555555555555556,
             "#d8576b"
            ],
            [
             0.6666666666666666,
             "#ed7953"
            ],
            [
             0.7777777777777778,
             "#fb9f3a"
            ],
            [
             0.8888888888888888,
             "#fdca26"
            ],
            [
             1,
             "#f0f921"
            ]
           ]
          },
          "colorway": [
           "#636efa",
           "#EF553B",
           "#00cc96",
           "#ab63fa",
           "#FFA15A",
           "#19d3f3",
           "#FF6692",
           "#B6E880",
           "#FF97FF",
           "#FECB52"
          ],
          "font": {
           "color": "#2a3f5f"
          },
          "geo": {
           "bgcolor": "white",
           "lakecolor": "white",
           "landcolor": "#E5ECF6",
           "showlakes": true,
           "showland": true,
           "subunitcolor": "white"
          },
          "hoverlabel": {
           "align": "left"
          },
          "hovermode": "closest",
          "mapbox": {
           "style": "light"
          },
          "paper_bgcolor": "white",
          "plot_bgcolor": "#E5ECF6",
          "polar": {
           "angularaxis": {
            "gridcolor": "white",
            "linecolor": "white",
            "ticks": ""
           },
           "bgcolor": "#E5ECF6",
           "radialaxis": {
            "gridcolor": "white",
            "linecolor": "white",
            "ticks": ""
           }
          },
          "scene": {
           "xaxis": {
            "backgroundcolor": "#E5ECF6",
            "gridcolor": "white",
            "gridwidth": 2,
            "linecolor": "white",
            "showbackground": true,
            "ticks": "",
            "zerolinecolor": "white"
           },
           "yaxis": {
            "backgroundcolor": "#E5ECF6",
            "gridcolor": "white",
            "gridwidth": 2,
            "linecolor": "white",
            "showbackground": true,
            "ticks": "",
            "zerolinecolor": "white"
           },
           "zaxis": {
            "backgroundcolor": "#E5ECF6",
            "gridcolor": "white",
            "gridwidth": 2,
            "linecolor": "white",
            "showbackground": true,
            "ticks": "",
            "zerolinecolor": "white"
           }
          },
          "shapedefaults": {
           "line": {
            "color": "#2a3f5f"
           }
          },
          "ternary": {
           "aaxis": {
            "gridcolor": "white",
            "linecolor": "white",
            "ticks": ""
           },
           "baxis": {
            "gridcolor": "white",
            "linecolor": "white",
            "ticks": ""
           },
           "bgcolor": "#E5ECF6",
           "caxis": {
            "gridcolor": "white",
            "linecolor": "white",
            "ticks": ""
           }
          },
          "title": {
           "x": 0.05
          },
          "xaxis": {
           "automargin": true,
           "gridcolor": "white",
           "linecolor": "white",
           "ticks": "",
           "title": {
            "standoff": 15
           },
           "zerolinecolor": "white",
           "zerolinewidth": 2
          },
          "yaxis": {
           "automargin": true,
           "gridcolor": "white",
           "linecolor": "white",
           "ticks": "",
           "title": {
            "standoff": 15
           },
           "zerolinecolor": "white",
           "zerolinewidth": 2
          }
         }
        },
        "title": {
         "text": "Parallel Coordinates Plot of Health Factors and Life Expectancy<br><sup>Tobacco, obesity and alcohol rates slightly affect life expectancy</sup>",
         "x": 0.5,
         "y": 0.92
        },
        "width": 780
       }
      }
     },
     "metadata": {},
     "output_type": "display_data"
    }
   ],
   "source": [
    "fig = go.Figure(data=go.Parcoords(\n",
    "    line=dict(color=filtered_df['Life expectancy'],  # Color by life expectancy\n",
    "              colorscale = [[0,'yellow'],[0.2,'yellow'],[0.4,'yellow'],[0.6,'yellow'],[0.8,'red'],[1,'red']],\n",
    "              showscale=True,\n",
    "              colorbar=dict(title='Life Expectancy')),  # Add color bar title\n",
    "    dimensions=[\n",
    "        dict(range=[0, 50], constraintrange=[5, 43],\n",
    "             label='Tobacco (%)', values=filtered_df['Prevalence of current tobacco use (% of adults)']),\n",
    "        dict(range=[0, 50],\n",
    "             label='Obesity (%)', values=filtered_df['Prevalence of obesity among adults, Both sexes']),\n",
    "        dict(range=[0, 30],\n",
    "             label='Alcohol per capita (L)', values=filtered_df['Total alcohol consumption per capita (liters of pure alcohol, projected estimates, 15+ years of age)']),\n",
    "        dict(range=[50, 100],\n",
    "             label='Life expectancy (years)', values=filtered_df['Life expectancy'])\n",
    "    ]\n",
    "))\n",
    "\n",
    "fig.update_layout(\n",
    "    title='Parallel Coordinates Plot of Health Factors and Life Expectancy<br>' + \n",
    "    '<sup>Tobacco, obesity and alcohol rates slightly affect life expectancy</sup>', title_x=0.5, title_y=0.92,\n",
    "    plot_bgcolor='#cff8d6',\n",
    "    paper_bgcolor='#cff8d6',\n",
    "    font=dict(size=12),\n",
    "    margin={'l': 80, 'b': 120, 'r': 130, 't': 120},\n",
    "    width=780,\n",
    "    height=520\n",
    ")\n",
    "\n",
    "fig.show()"
   ]
  }
 ],
 "metadata": {
  "kernelspec": {
   "display_name": "jupyterbook",
   "language": "python",
   "name": "python3"
  },
  "language_info": {
   "codemirror_mode": {
    "name": "ipython",
    "version": 3
   },
   "file_extension": ".py",
   "mimetype": "text/x-python",
   "name": "python",
   "nbconvert_exporter": "python",
   "pygments_lexer": "ipython3",
   "version": "3.10.14"
  }
 },
 "nbformat": 4,
 "nbformat_minor": 2
}
