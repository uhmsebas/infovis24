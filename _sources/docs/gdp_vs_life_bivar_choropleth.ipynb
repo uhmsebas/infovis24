{
 "cells": [
  {
   "cell_type": "code",
   "execution_count": 2,
   "metadata": {},
   "outputs": [
    {
     "name": "stderr",
     "output_type": "stream",
     "text": [
      "/tmp/ipykernel_93150/4038919178.py:13: FutureWarning: The geopandas.dataset module is deprecated and will be removed in GeoPandas 1.0. You can get the original 'naturalearth_lowres' data from https://www.naturalearthdata.com/downloads/110m-cultural-vectors/.\n",
      "  border = gpd.read_file(gpd.datasets.get_path('naturalearth_lowres'))\n"
     ]
    },
    {
     "data": {
      "application/vnd.plotly.v1+json": {
       "config": {
        "plotlyServerURL": "https://plot.ly"
       },
       "data": [
        {
         "colorscale": [
          [
           0,
           "#ffffe5"
          ],
          [
           1,
           "#ffffe5"
          ]
         ],
         "geo": "geo",
         "hoverinfo": "text",
         "locations": [
          "TZA",
          "KEN",
          "SDN",
          "TCD",
          "HTI",
          "LSO",
          "ZWE",
          "SEN",
          "MLI",
          "MRT",
          "BEN",
          "NER",
          "NGA",
          "CMR",
          "TGO",
          "GIN",
          "GNB",
          "LBR",
          "SLE",
          "BFA",
          "COG",
          "COG",
          "ZMB",
          "MWI",
          "MOZ",
          "MDG",
          "GMB",
          "KHM",
          "MMR",
          "IND",
          "PAK",
          "AFG",
          "TJK",
          "ERI",
          "YEM",
          "UGA",
          "RWA"
         ],
         "name": "Low GDP_Low GDP & L.E",
         "showscale": false,
         "text": [
          "Tanzania<br>Bi-Class: low_low<br>GDP: 0.0140701250720261<br>Life Expectancy: 0.4022770398481974",
          "Kenya<br>Bi-Class: low_low<br>GDP: 0.0157177724347246<br>Life Expectancy: 0.5066413662239089",
          "Sudan<br>Bi-Class: low_low<br>GDP: 0.0233334228955064<br>Life Expectancy: 0.4971537001897532",
          "Chad<br>Bi-Class: low_low<br>GDP: 0.0115874011729822<br>Life Expectancy: 0.2827324478178369",
          "Haiti<br>Bi-Class: low_low<br>GDP: 0.0083763814619385<br>Life Expectancy: 0.0",
          "Lesotho<br>Bi-Class: low_low<br>GDP: 0.0156576574705191<br>Life Expectancy: 0.2808349146110057",
          "Zimbabwe<br>Bi-Class: low_low<br>GDP: 0.0116926720373184<br>Life Expectancy: 0.3055028462998103",
          "Senegal<br>Bi-Class: low_low<br>GDP: 0.0184116650601516<br>Life Expectancy: 0.5313092979127134",
          "Mali<br>Bi-Class: low_low<br>GDP: 0.0112739140993911<br>Life Expectancy: 0.3833017077798861",
          "Mauritania<br>Bi-Class: low_low<br>GDP: 0.0235698593423688<br>Life Expectancy: 0.4876660341555978",
          "Benin<br>Bi-Class: low_low<br>GDP: 0.0108268154117971<br>Life Expectancy: 0.4250474383301708",
          "Niger<br>Bi-Class: low_low<br>GDP: 0.0028492092801833<br>Life Expectancy: 0.4155597722960151",
          "Nigeria<br>Bi-Class: low_low<br>GDP: 0.0367191053561509<br>Life Expectancy: 0.2979127134724858",
          "Cameroon<br>Bi-Class: low_low<br>GDP: 0.0192100576544761<br>Life Expectancy: 0.3605313092979127",
          "Togo<br>Bi-Class: low_low<br>GDP: 0.0062544751671354<br>Life Expectancy: 0.4003795066413662",
          "Guinea<br>Bi-Class: low_low<br>GDP: 0.0096196960256384<br>Life Expectancy: 0.4079696394686907",
          "Guinea-Bissau<br>Bi-Class: low_low<br>GDP: 0.0077529538876365<br>Life Expectancy: 0.3870967741935485",
          "Liberia<br>Bi-Class: low_low<br>GDP: 0.0051413353782611<br>Life Expectancy: 0.444022770398482",
          "Sierra Leone<br>Bi-Class: low_low<br>GDP: 0.0059859963981632<br>Life Expectancy: 0.2239089184060722",
          "Burkina Faso<br>Bi-Class: low_low<br>GDP: 0.0076927556662916<br>Life Expectancy: 0.4022770398481974",
          "Congo<br>Bi-Class: low_low<br>GDP: 0.0016403872268582<br>Life Expectancy: 0.4876660341555978",
          "Congo<br>Bi-Class: low_low<br>GDP: 0.0386056782296957<br>Life Expectancy: 0.4876660341555978",
          "Zambia<br>Bi-Class: low_low<br>GDP: 0.0228693712288105<br>Life Expectancy: 0.411764705882353",
          "Malawi<br>Bi-Class: low_low<br>GDP: 0.0049515646429878<br>Life Expectancy: 0.3149905123339658",
          "Mozambique<br>Bi-Class: low_low<br>GDP: 0.0045895240675139<br>Life Expectancy: 0.3358633776091082",
          "Madagascar<br>Bi-Class: low_low<br>GDP: 0.0092203612686732<br>Life Expectancy: 0.5123339658444022",
          "Gambia<br>Bi-Class: low_low<br>GDP: 0.0165162489659046<br>Life Expectancy: 0.4364326375711573",
          "Cambodia<br>Bi-Class: low_low<br>GDP: 0.0164032460468808<br>Life Expectancy: 0.5749525616698292",
          "Myanmar<br>Bi-Class: low_low<br>GDP: 0.0256466981001437<br>Life Expectancy: 0.5521821631878558",
          "India<br>Bi-Class: low_low<br>GDP: 0.0316924085764327<br>Life Expectancy: 0.5711574952561671",
          "Pakistan<br>Bi-Class: low_low<br>GDP: 0.0286863045266512<br>Life Expectancy: 0.5464895635673623",
          "Afghanistan<br>Bi-Class: low_low<br>GDP: 0.0096600880216818<br>Life Expectancy: 0.4269449715370019",
          "Tajikistan<br>Bi-Class: low_low<br>GDP: 0.0133593702421695<br>Life Expectancy: 0.588235294117647",
          "Eritrea<br>Bi-Class: low_low<br>GDP: 0.0119586356784281<br>Life Expectancy: 0.4895635673624288",
          "Yemen<br>Bi-Class: low_low<br>GDP: 0.0326033285716747<br>Life Expectancy: 0.5332068311195448",
          "Uganda<br>Bi-Class: low_low<br>GDP: 0.0089767940569972<br>Life Expectancy: 0.4193548387096775",
          "Rwanda<br>Bi-Class: low_low<br>GDP: 0.0076018054911654<br>Life Expectancy: 0.5028462998102465"
         ],
         "type": "choropleth",
         "z": [
          0.0140701250720261,
          0.0157177724347246,
          0.0233334228955064,
          0.0115874011729822,
          0.0083763814619385,
          0.0156576574705191,
          0.0116926720373184,
          0.0184116650601516,
          0.0112739140993911,
          0.0235698593423688,
          0.0108268154117971,
          0.0028492092801833,
          0.0367191053561509,
          0.0192100576544761,
          0.0062544751671354,
          0.0096196960256384,
          0.0077529538876365,
          0.0051413353782611,
          0.0059859963981632,
          0.0076927556662916,
          0.0016403872268582,
          0.0386056782296957,
          0.0228693712288105,
          0.0049515646429878,
          0.0045895240675139,
          0.0092203612686732,
          0.0165162489659046,
          0.0164032460468808,
          0.0256466981001437,
          0.0316924085764327,
          0.0286863045266512,
          0.0096600880216818,
          0.0133593702421695,
          0.0119586356784281,
          0.0326033285716747,
          0.0089767940569972,
          0.0076018054911654
         ]
        },
        {
         "colorscale": [
          [
           0,
           "#f7fcb9"
          ],
          [
           1,
           "#f7fcb9"
          ]
         ],
         "geo": "geo",
         "hoverinfo": "text",
         "locations": [
          "UZB",
          "BOL",
          "NIC",
          "HND",
          "GHA",
          "VUT",
          "BGD",
          "NPL",
          "MDA"
         ],
         "name": "Low GDP_Medium GDP & L.E",
         "showscale": false,
         "text": [
          "Uzbekistan<br>Bi-Class: low_medium<br>GDP: 0.0379723388156728<br>Life Expectancy: 0.6072106261859582",
          "Bolivia<br>Bi-Class: low_medium<br>GDP: 0.0387158290434723<br>Life Expectancy: 0.6148007590132829",
          "Nicaragua<br>Bi-Class: low_medium<br>GDP: 0.0278700852590024<br>Life Expectancy: 0.7001897533206831",
          "Honduras<br>Bi-Class: low_medium<br>GDP: 0.0274230737450077<br>Life Expectancy: 0.7077798861480076",
          "Ghana<br>Bi-Class: low_medium<br>GDP: 0.0203984151344989<br>Life Expectancy: 0.6204933586337762",
          "Vanuatu<br>Bi-Class: low_medium<br>GDP: 0.0197859197833638<br>Life Expectancy: 0.6584440227703985",
          "Bangladesh<br>Bi-Class: low_medium<br>GDP: 0.0163724872231109<br>Life Expectancy: 0.6375711574952563",
          "Nepal<br>Bi-Class: low_medium<br>GDP: 0.0121578890612099<br>Life Expectancy: 0.6015180265654649",
          "Moldova<br>Bi-Class: low_medium<br>GDP: 0.0339367866006889<br>Life Expectancy: 0.6166982922201139"
         ],
         "type": "choropleth",
         "z": [
          0.0379723388156728,
          0.0387158290434723,
          0.0278700852590024,
          0.0274230737450077,
          0.0203984151344989,
          0.0197859197833638,
          0.0163724872231109,
          0.0121578890612099,
          0.0339367866006889
         ]
        },
        {
         "colorscale": [
          [
           0,
           "#d9f0a3"
          ],
          [
           1,
           "#d9f0a3"
          ]
         ],
         "geo": "geo",
         "hoverinfo": "text",
         "locations": [
          "VNM"
         ],
         "name": "Low GDP_High GDP & L.E",
         "showscale": false,
         "text": [
          "Vietnam<br>Bi-Class: low_high<br>GDP: 0.0315515929662903<br>Life Expectancy: 0.7381404174573056"
         ],
         "type": "choropleth",
         "z": [
          0.0315515929662903
         ]
        },
        {
         "colorscale": [
          [
           0,
           "#addd8e"
          ],
          [
           1,
           "#addd8e"
          ]
         ],
         "geo": "geo",
         "hoverinfo": "text",
         "locations": [
          "TLS",
          "ZAF",
          "GUY",
          "BWA",
          "NAM",
          "GAB",
          "AGO",
          "MNG",
          "TKM"
         ],
         "name": "Medium GDP_Low GDP & L.E",
         "showscale": false,
         "text": [
          "Timor-Leste<br>Bi-Class: medium_low<br>GDP: 0.0677906597483396<br>Life Expectancy: 0.5806451612903227",
          "South Africa<br>Bi-Class: medium_low<br>GDP: 0.0913132793272526<br>Life Expectancy: 0.411764705882353",
          "Guyana<br>Bi-Class: medium_low<br>GDP: 0.0425844291049114<br>Life Expectancy: 0.5616698292220115",
          "Botswana<br>Bi-Class: medium_low<br>GDP: 0.1013163624479676<br>Life Expectancy: 0.4705882352941177",
          "Namibia<br>Bi-Class: medium_low<br>GDP: 0.0651922452516035<br>Life Expectancy: 0.5066413662239089",
          "Gabon<br>Bi-Class: medium_low<br>GDP: 0.1193293505877494<br>Life Expectancy: 0.4933586337760911",
          "Angola<br>Bi-Class: medium_low<br>GDP: 0.0468253422518939<br>Life Expectancy: 0.2523719165085389",
          "Mongolia<br>Bi-Class: medium_low<br>GDP: 0.0573484531712711<br>Life Expectancy: 0.5692599620493359",
          "Turkmenistan<br>Bi-Class: medium_low<br>GDP: 0.0752171360057089<br>Life Expectancy: 0.5597722960151803"
         ],
         "type": "choropleth",
         "z": [
          0.0677906597483396,
          0.0913132793272526,
          0.0425844291049114,
          0.1013163624479676,
          0.0651922452516035,
          0.1193293505877494,
          0.0468253422518939,
          0.0573484531712711,
          0.0752171360057089
         ]
        },
        {
         "colorscale": [
          [
           0,
           "#78c679"
          ],
          [
           1,
           "#78c679"
          ]
         ],
         "geo": "geo",
         "hoverinfo": "text",
         "locations": [
          "FJI",
          "IDN",
          "BRA",
          "PER",
          "COL",
          "SLV",
          "BLZ",
          "VEN",
          "SUR",
          "LBN",
          "TUN",
          "DZA",
          "JOR",
          "THA",
          "BTN",
          "ARM",
          "BLR",
          "UKR",
          "BGR",
          "LKA",
          "AZE",
          "GEO",
          "PHL",
          "PRY",
          "MAR",
          "EGY",
          "MKD",
          "SRB"
         ],
         "name": "Medium GDP_Medium GDP & L.E",
         "showscale": false,
         "text": [
          "Fiji<br>Bi-Class: medium_medium<br>GDP: 0.0546943624592385<br>Life Expectancy: 0.6223908918406071",
          "Indonesia<br>Bi-Class: medium_medium<br>GDP: 0.063447673955362<br>Life Expectancy: 0.6034155597722959",
          "Brazil<br>Bi-Class: medium_medium<br>GDP: 0.1122890631176119<br>Life Expectancy: 0.7115749525616697",
          "Peru<br>Bi-Class: medium_medium<br>GDP: 0.0762697841947909<br>Life Expectancy: 0.7096774193548387",
          "Colombia<br>Bi-Class: medium_medium<br>GDP: 0.0832585501014557<br>Life Expectancy: 0.7077798861480076",
          "El Salvador<br>Bi-Class: medium_medium<br>GDP: 0.0461949679459322<br>Life Expectancy: 0.6774193548387097",
          "Belize<br>Bi-Class: medium_medium<br>GDP: 0.0575463054243556<br>Life Expectancy: 0.6299810246679316",
          "Venezuela<br>Bi-Class: medium_medium<br>GDP: 0.1302626197893139<br>Life Expectancy: 0.7096774193548387",
          "Suriname<br>Bi-Class: medium_medium<br>GDP: 0.1084134366439755<br>Life Expectancy: 0.6963946869070208",
          "Lebanon<br>Bi-Class: medium_medium<br>GDP: 0.1105964298566528<br>Life Expectancy: 0.7324478178368123",
          "Tunisia<br>Bi-Class: medium_medium<br>GDP: 0.0791687376170668<br>Life Expectancy: 0.730550284629981",
          "Algeria<br>Bi-Class: medium_medium<br>GDP: 0.0988142460522916<br>Life Expectancy: 0.72865275142315",
          "Jordan<br>Bi-Class: medium_medium<br>GDP: 0.0717174529412387<br>Life Expectancy: 0.7039848197343455",
          "Thailand<br>Bi-Class: medium_medium<br>GDP: 0.1033309384193476<br>Life Expectancy: 0.7134724857685011",
          "Bhutan<br>Bi-Class: medium_medium<br>GDP: 0.0491458391819342<br>Life Expectancy: 0.599620493358634",
          "Armenia<br>Bi-Class: medium_medium<br>GDP: 0.0495392031987461<br>Life Expectancy: 0.7058823529411764",
          "Belarus<br>Bi-Class: medium_medium<br>GDP: 0.12529677542539<br>Life Expectancy: 0.6963946869070208",
          "Ukraine<br>Bi-Class: medium_medium<br>GDP: 0.0584298739320865<br>Life Expectancy: 0.6356736242884251",
          "Bulgaria<br>Bi-Class: medium_medium<br>GDP: 0.1172555553967025<br>Life Expectancy: 0.7039848197343455",
          "Sri Lanka<br>Bi-Class: medium_medium<br>GDP: 0.0638069956014074<br>Life Expectancy: 0.7248576850094877",
          "Azerbaijan<br>Bi-Class: medium_medium<br>GDP: 0.1249421099646022<br>Life Expectancy: 0.6603415559772294",
          "Georgia<br>Bi-Class: medium_medium<br>GDP: 0.0542311992463161<br>Life Expectancy: 0.7115749525616697",
          "Philippines<br>Bi-Class: medium_medium<br>GDP: 0.04065941414682<br>Life Expectancy: 0.599620493358634",
          "Paraguay<br>Bi-Class: medium_medium<br>GDP: 0.0736180931640655<br>Life Expectancy: 0.7001897533206831",
          "Morocco<br>Bi-Class: medium_medium<br>GDP: 0.0475848111989468<br>Life Expectancy: 0.6925996204933587",
          "Egypt<br>Bi-Class: medium_medium<br>GDP: 0.0758265771978722<br>Life Expectancy: 0.6394686907020872",
          "North Macedonia<br>Bi-Class: medium_medium<br>GDP: 0.0876371194487962<br>Life Expectancy: 0.72865275142315",
          "Serbia<br>Bi-Class: medium_medium<br>GDP: 0.099964802104537<br>Life Expectancy: 0.7229601518026567"
         ],
         "type": "choropleth",
         "z": [
          0.0546943624592385,
          0.063447673955362,
          0.1122890631176119,
          0.0762697841947909,
          0.0832585501014557,
          0.0461949679459322,
          0.0575463054243556,
          0.1302626197893139,
          0.1084134366439755,
          0.1105964298566528,
          0.0791687376170668,
          0.0988142460522916,
          0.0717174529412387,
          0.1033309384193476,
          0.0491458391819342,
          0.0495392031987461,
          0.12529677542539,
          0.0584298739320865,
          0.1172555553967025,
          0.0638069956014074,
          0.1249421099646022,
          0.0542311992463161,
          0.04065941414682,
          0.0736180931640655,
          0.0475848111989468,
          0.0758265771978722,
          0.0876371194487962,
          0.099964802104537
         ]
        },
        {
         "colorscale": [
          [
           0,
           "#41ab5d"
          ],
          [
           1,
           "#41ab5d"
          ]
         ],
         "geo": "geo",
         "hoverinfo": "text",
         "locations": [
          "MEX",
          "URY",
          "PAN",
          "CRI",
          "GTM",
          "ECU",
          "JAM",
          "IRQ",
          "ALB",
          "MNE"
         ],
         "name": "Medium GDP_High GDP & L.E",
         "showscale": false,
         "text": [
          "Mexico<br>Bi-Class: medium_high<br>GDP: 0.1198974487881161<br>Life Expectancy: 0.7457305502846299",
          "Uruguay<br>Bi-Class: medium_high<br>GDP: 0.132420930646607<br>Life Expectancy: 0.7590132827324478",
          "Panama<br>Bi-Class: medium_high<br>GDP: 0.120305347920315<br>Life Expectancy: 0.76280834914611",
          "Costa Rica<br>Bi-Class: medium_high<br>GDP: 0.0987297608923546<br>Life Expectancy: 0.7931688804554078",
          "Guatemala<br>Bi-Class: medium_high<br>GDP: 0.0496281323187493<br>Life Expectancy: 0.7722960151802656",
          "Ecuador<br>Bi-Class: medium_high<br>GDP: 0.0701625983994777<br>Life Expectancy: 0.7343453510436433",
          "Jamaica<br>Bi-Class: medium_high<br>GDP: 0.0599639146987887<br>Life Expectancy: 0.7343453510436433",
          "Iraq<br>Bi-Class: medium_high<br>GDP: 0.1006734836544112<br>Life Expectancy: 0.7533206831119545",
          "Albania<br>Bi-Class: medium_high<br>GDP: 0.0743192849618842<br>Life Expectancy: 0.7571157495256167",
          "Montenegro<br>Bi-Class: medium_high<br>GDP: 0.1067431315738013<br>Life Expectancy: 0.7400379506641366"
         ],
         "type": "choropleth",
         "z": [
          0.1198974487881161,
          0.132420930646607,
          0.120305347920315,
          0.0987297608923546,
          0.0496281323187493,
          0.0701625983994777,
          0.0599639146987887,
          0.1006734836544112,
          0.0743192849618842,
          0.1067431315738013
         ]
        },
        {
         "colorscale": [
          [
           0,
           "#238443"
          ],
          [
           1,
           "#238443"
          ]
         ],
         "geo": "geo",
         "hoverinfo": "text",
         "locations": [
          "KAZ"
         ],
         "name": "High GDP_Low GDP & L.E",
         "showscale": false,
         "text": [
          "Kazakhstan<br>Bi-Class: high_low<br>GDP: 0.1557017503649053<br>Life Expectancy: 0.5977229601518026"
         ],
         "type": "choropleth",
         "z": [
          0.1557017503649053
         ]
        },
        {
         "colorscale": [
          [
           0,
           "#006837"
          ],
          [
           1,
           "#006837"
          ]
         ],
         "geo": "geo",
         "hoverinfo": "text",
         "locations": [
          "RUS",
          "KWT",
          "IRN",
          "HUN",
          "ROU",
          "LTU",
          "MYS",
          "SAU",
          "LBY",
          "TTO"
         ],
         "name": "High GDP_Medium GDP & L.E",
         "showscale": false,
         "text": [
          "Russia<br>Bi-Class: high_medium<br>GDP: 0.1622138984492205<br>Life Expectancy: 0.6091081593927894",
          "Kuwait<br>Bi-Class: high_medium<br>GDP: 0.5937353325702484<br>Life Expectancy: 0.715370018975332",
          "Iran<br>Bi-Class: high_medium<br>GDP: 0.140182782230151<br>Life Expectancy: 0.717267552182163",
          "Hungary<br>Bi-Class: high_medium<br>GDP: 0.1709511695256642<br>Life Expectancy: 0.7248576850094877",
          "Romania<br>Bi-Class: high_medium<br>GDP: 0.1337008663837759<br>Life Expectancy: 0.7039848197343455",
          "Lithuania<br>Bi-Class: high_medium<br>GDP: 0.1585635036169103<br>Life Expectancy: 0.6850094876660342",
          "Malaysia<br>Bi-Class: high_medium<br>GDP: 0.1631450422016072<br>Life Expectancy: 0.717267552182163",
          "Saudi Arabia<br>Bi-Class: high_medium<br>GDP: 0.3564876748803083<br>Life Expectancy: 0.7096774193548387",
          "Libya<br>Bi-Class: high_medium<br>GDP: 0.2301874255500726<br>Life Expectancy: 0.6925996204933587",
          "Trinidad and Tobago<br>Bi-Class: high_medium<br>GDP: 0.244184799265711<br>Life Expectancy: 0.715370018975332"
         ],
         "type": "choropleth",
         "z": [
          0.1622138984492205,
          0.5937353325702484,
          0.140182782230151,
          0.1709511695256642,
          0.1337008663837759,
          0.1585635036169103,
          0.1631450422016072,
          0.3564876748803083,
          0.2301874255500726,
          0.244184799265711
         ]
        },
        {
         "colorscale": [
          [
           0,
           "#004529"
          ],
          [
           1,
           "#004529"
          ]
         ],
         "geo": "geo",
         "hoverinfo": "text",
         "locations": [
          "CAN",
          "USA",
          "ARG",
          "CHL",
          "BHS",
          "NOR",
          "FRA",
          "ISR",
          "ARE",
          "QAT",
          "OMN",
          "SWE",
          "POL",
          "AUT",
          "EST",
          "DEU",
          "GRC",
          "HRV",
          "CHE",
          "LUX",
          "BEL",
          "NLD",
          "PRT",
          "ESP",
          "IRL",
          "NZL",
          "AUS",
          "ITA",
          "DNK",
          "GBR",
          "ISL",
          "SVN",
          "FIN",
          "CZE",
          "JPN",
          "CYP"
         ],
         "name": "High GDP_High GDP & L.E",
         "showscale": false,
         "text": [
          "Canada<br>Bi-Class: high_high<br>GDP: 0.3201852936371986<br>Life Expectancy: 0.8519924098671727",
          "United States of America<br>Bi-Class: high_high<br>GDP: 0.3885973668968928<br>Life Expectancy: 0.8045540796963948",
          "Argentina<br>Bi-Class: high_high<br>GDP: 0.1463111886187447<br>Life Expectancy: 0.7438330170777989",
          "Chile<br>Bi-Class: high_high<br>GDP: 0.1433734161526611<br>Life Expectancy: 0.812144212523719",
          "Bahamas<br>Bi-Class: high_high<br>GDP: 0.2318761298897123<br>Life Expectancy: 0.7343453510436433",
          "Norway<br>Bi-Class: high_high<br>GDP: 0.4650508386107699<br>Life Expectancy: 0.8481973434535104",
          "France<br>Bi-Class: high_high<br>GDP: 0.2869087701691895<br>Life Expectancy: 0.8538899430740037",
          "Israel<br>Bi-Class: high_high<br>GDP: 0.2299574100825017<br>Life Expectancy: 0.8614800759013284",
          "United Arab Emirates<br>Bi-Class: high_high<br>GDP: 0.435233586005815<br>Life Expectancy: 0.7571157495256167",
          "Qatar<br>Bi-Class: high_high<br>GDP: 0.9473554377871464<br>Life Expectancy: 0.7779886148007589",
          "Oman<br>Bi-Class: high_high<br>GDP: 0.3557586928786478<br>Life Expectancy: 0.7457305502846299",
          "Sweden<br>Bi-Class: high_high<br>GDP: 0.3377199133132588<br>Life Expectancy: 0.857685009487666",
          "Poland<br>Bi-Class: high_high<br>GDP: 0.1667307829979327<br>Life Expectancy: 0.7590132827324478",
          "Austria<br>Bi-Class: high_high<br>GDP: 0.3363176730891829<br>Life Expectancy: 0.905123339658444",
          "Estonia<br>Bi-Class: high_high<br>GDP: 0.1727857560069761<br>Life Expectancy: 0.7457305502846299",
          "Germany<br>Bi-Class: high_high<br>GDP: 0.311584928726683<br>Life Expectancy: 0.8481973434535104",
          "Greece<br>Bi-Class: high_high<br>GDP: 0.2241837270114892<br>Life Expectancy: 0.8861480075901329",
          "Croatia<br>Bi-Class: high_high<br>GDP: 0.1563178095003051<br>Life Expectancy: 0.7647058823529411",
          "Switzerland<br>Bi-Class: high_high<br>GDP: 0.4258272121194146<br>Life Expectancy: 0.8728652751423149",
          "Luxembourg<br>Bi-Class: high_high<br>GDP: 0.6891837449602565<br>Life Expectancy: 0.9430740037950665",
          "Belgium<br>Bi-Class: high_high<br>GDP: 0.3187652234059524<br>Life Expectancy: 0.8292220113851994",
          "Netherlands<br>Bi-Class: high_high<br>GDP: 0.3608705684362905<br>Life Expectancy: 0.9810246679316889",
          "Portugal<br>Bi-Class: high_high<br>GDP: 0.2169928451863887<br>Life Expectancy: 0.8216318785578747",
          "Spain<br>Bi-Class: high_high<br>GDP: 0.2527622557182178<br>Life Expectancy: 0.8652751423149907",
          "Ireland<br>Bi-Class: high_high<br>GDP: 0.3467478451862069<br>Life Expectancy: 0.9430740037950665",
          "New Zealand<br>Bi-Class: high_high<br>GDP: 0.2493059654105839<br>Life Expectancy: 1.0",
          "Australia<br>Bi-Class: high_high<br>GDP: 0.31461791284035<br>Life Expectancy: 0.8652751423149907",
          "Italy<br>Bi-Class: high_high<br>GDP: 0.280885372161203<br>Life Expectancy: 0.8633776091081593",
          "Denmark<br>Bi-Class: high_high<br>GDP: 0.3443574956537853<br>Life Expectancy: 0.8140417457305504",
          "United Kingdom<br>Bi-Class: high_high<br>GDP: 0.2904747578470854<br>Life Expectancy: 0.8671726755218216",
          "Iceland<br>Bi-Class: high_high<br>GDP: 0.3166619350064669<br>Life Expectancy: 0.8633776091081593",
          "Slovenia<br>Bi-Class: high_high<br>GDP: 0.2215637905563602<br>Life Expectancy: 0.8197343453510437",
          "Finland<br>Bi-Class: high_high<br>GDP: 0.3116157412318469<br>Life Expectancy: 0.8273244781783682",
          "Czechia<br>Bi-Class: high_high<br>GDP: 0.2202916275354715<br>Life Expectancy: 0.7817836812144212",
          "Japan<br>Bi-Class: high_high<br>GDP: 0.2795204897853665<br>Life Expectancy: 0.8861480075901329",
          "Cyprus<br>Bi-Class: high_high<br>GDP: 0.2668490273233551<br>Life Expectancy: 0.8197343453510437"
         ],
         "type": "choropleth",
         "z": [
          0.3201852936371986,
          0.3885973668968928,
          0.1463111886187447,
          0.1433734161526611,
          0.2318761298897123,
          0.4650508386107699,
          0.2869087701691895,
          0.2299574100825017,
          0.435233586005815,
          0.9473554377871464,
          0.3557586928786478,
          0.3377199133132588,
          0.1667307829979327,
          0.3363176730891829,
          0.1727857560069761,
          0.311584928726683,
          0.2241837270114892,
          0.1563178095003051,
          0.4258272121194146,
          0.6891837449602565,
          0.3187652234059524,
          0.3608705684362905,
          0.2169928451863887,
          0.2527622557182178,
          0.3467478451862069,
          0.2493059654105839,
          0.31461791284035,
          0.280885372161203,
          0.3443574956537853,
          0.2904747578470854,
          0.3166619350064669,
          0.2215637905563602,
          0.3116157412318469,
          0.2202916275354715,
          0.2795204897853665,
          0.2668490273233551
         ]
        },
        {
         "locationmode": "ISO-3",
         "locations": [
          null
         ],
         "marker": {
          "color": "#ffffe5",
          "size": 10
         },
         "name": "Low GDP_Low L.E",
         "showlegend": true,
         "type": "scattergeo"
        },
        {
         "locationmode": "ISO-3",
         "locations": [
          null
         ],
         "marker": {
          "color": "#f7fcb9",
          "size": 10
         },
         "name": "Low GDP_Medium L.E",
         "showlegend": true,
         "type": "scattergeo"
        },
        {
         "locationmode": "ISO-3",
         "locations": [
          null
         ],
         "marker": {
          "color": "#d9f0a3",
          "size": 10
         },
         "name": "Low GDP_High L.E",
         "showlegend": true,
         "type": "scattergeo"
        },
        {
         "locationmode": "ISO-3",
         "locations": [
          null
         ],
         "marker": {
          "color": "#addd8e",
          "size": 10
         },
         "name": "Medium GDP_Low L.E",
         "showlegend": true,
         "type": "scattergeo"
        },
        {
         "locationmode": "ISO-3",
         "locations": [
          null
         ],
         "marker": {
          "color": "#78c679",
          "size": 10
         },
         "name": "Medium GDP_Medium L.E",
         "showlegend": true,
         "type": "scattergeo"
        },
        {
         "locationmode": "ISO-3",
         "locations": [
          null
         ],
         "marker": {
          "color": "#41ab5d",
          "size": 10
         },
         "name": "Medium GDP_High L.E",
         "showlegend": true,
         "type": "scattergeo"
        },
        {
         "locationmode": "ISO-3",
         "locations": [
          null
         ],
         "marker": {
          "color": "#238443",
          "size": 10
         },
         "name": "High GDP_Low L.E",
         "showlegend": true,
         "type": "scattergeo"
        },
        {
         "locationmode": "ISO-3",
         "locations": [
          null
         ],
         "marker": {
          "color": "#006837",
          "size": 10
         },
         "name": "High GDP_Medium L.E",
         "showlegend": true,
         "type": "scattergeo"
        },
        {
         "locationmode": "ISO-3",
         "locations": [
          null
         ],
         "marker": {
          "color": "#004529",
          "size": 10
         },
         "name": "High GDP_High L.E",
         "showlegend": true,
         "type": "scattergeo"
        }
       ],
       "layout": {
        "geo": {
         "bgcolor": "#a8d5f2",
         "coastlinecolor": "black",
         "countrycolor": "black",
         "lakecolor": "#FFFFFF",
         "projection": {
          "type": "natural earth"
         },
         "showcoastlines": true,
         "showcountries": true
        },
        "legend": {
         "title": {
          "text": "Categories"
         },
         "traceorder": "normal"
        },
        "margin": {
         "b": 0,
         "l": 0,
         "r": 0,
         "t": 50
        },
        "template": {
         "data": {
          "bar": [
           {
            "error_x": {
             "color": "#2a3f5f"
            },
            "error_y": {
             "color": "#2a3f5f"
            },
            "marker": {
             "line": {
              "color": "#E5ECF6",
              "width": 0.5
             },
             "pattern": {
              "fillmode": "overlay",
              "size": 10,
              "solidity": 0.2
             }
            },
            "type": "bar"
           }
          ],
          "barpolar": [
           {
            "marker": {
             "line": {
              "color": "#E5ECF6",
              "width": 0.5
             },
             "pattern": {
              "fillmode": "overlay",
              "size": 10,
              "solidity": 0.2
             }
            },
            "type": "barpolar"
           }
          ],
          "carpet": [
           {
            "aaxis": {
             "endlinecolor": "#2a3f5f",
             "gridcolor": "white",
             "linecolor": "white",
             "minorgridcolor": "white",
             "startlinecolor": "#2a3f5f"
            },
            "baxis": {
             "endlinecolor": "#2a3f5f",
             "gridcolor": "white",
             "linecolor": "white",
             "minorgridcolor": "white",
             "startlinecolor": "#2a3f5f"
            },
            "type": "carpet"
           }
          ],
          "choropleth": [
           {
            "colorbar": {
             "outlinewidth": 0,
             "ticks": ""
            },
            "type": "choropleth"
           }
          ],
          "contour": [
           {
            "colorbar": {
             "outlinewidth": 0,
             "ticks": ""
            },
            "colorscale": [
             [
              0,
              "#0d0887"
             ],
             [
              0.1111111111111111,
              "#46039f"
             ],
             [
              0.2222222222222222,
              "#7201a8"
             ],
             [
              0.3333333333333333,
              "#9c179e"
             ],
             [
              0.4444444444444444,
              "#bd3786"
             ],
             [
              0.5555555555555556,
              "#d8576b"
             ],
             [
              0.6666666666666666,
              "#ed7953"
             ],
             [
              0.7777777777777778,
              "#fb9f3a"
             ],
             [
              0.8888888888888888,
              "#fdca26"
             ],
             [
              1,
              "#f0f921"
             ]
            ],
            "type": "contour"
           }
          ],
          "contourcarpet": [
           {
            "colorbar": {
             "outlinewidth": 0,
             "ticks": ""
            },
            "type": "contourcarpet"
           }
          ],
          "heatmap": [
           {
            "colorbar": {
             "outlinewidth": 0,
             "ticks": ""
            },
            "colorscale": [
             [
              0,
              "#0d0887"
             ],
             [
              0.1111111111111111,
              "#46039f"
             ],
             [
              0.2222222222222222,
              "#7201a8"
             ],
             [
              0.3333333333333333,
              "#9c179e"
             ],
             [
              0.4444444444444444,
              "#bd3786"
             ],
             [
              0.5555555555555556,
              "#d8576b"
             ],
             [
              0.6666666666666666,
              "#ed7953"
             ],
             [
              0.7777777777777778,
              "#fb9f3a"
             ],
             [
              0.8888888888888888,
              "#fdca26"
             ],
             [
              1,
              "#f0f921"
             ]
            ],
            "type": "heatmap"
           }
          ],
          "heatmapgl": [
           {
            "colorbar": {
             "outlinewidth": 0,
             "ticks": ""
            },
            "colorscale": [
             [
              0,
              "#0d0887"
             ],
             [
              0.1111111111111111,
              "#46039f"
             ],
             [
              0.2222222222222222,
              "#7201a8"
             ],
             [
              0.3333333333333333,
              "#9c179e"
             ],
             [
              0.4444444444444444,
              "#bd3786"
             ],
             [
              0.5555555555555556,
              "#d8576b"
             ],
             [
              0.6666666666666666,
              "#ed7953"
             ],
             [
              0.7777777777777778,
              "#fb9f3a"
             ],
             [
              0.8888888888888888,
              "#fdca26"
             ],
             [
              1,
              "#f0f921"
             ]
            ],
            "type": "heatmapgl"
           }
          ],
          "histogram": [
           {
            "marker": {
             "pattern": {
              "fillmode": "overlay",
              "size": 10,
              "solidity": 0.2
             }
            },
            "type": "histogram"
           }
          ],
          "histogram2d": [
           {
            "colorbar": {
             "outlinewidth": 0,
             "ticks": ""
            },
            "colorscale": [
             [
              0,
              "#0d0887"
             ],
             [
              0.1111111111111111,
              "#46039f"
             ],
             [
              0.2222222222222222,
              "#7201a8"
             ],
             [
              0.3333333333333333,
              "#9c179e"
             ],
             [
              0.4444444444444444,
              "#bd3786"
             ],
             [
              0.5555555555555556,
              "#d8576b"
             ],
             [
              0.6666666666666666,
              "#ed7953"
             ],
             [
              0.7777777777777778,
              "#fb9f3a"
             ],
             [
              0.8888888888888888,
              "#fdca26"
             ],
             [
              1,
              "#f0f921"
             ]
            ],
            "type": "histogram2d"
           }
          ],
          "histogram2dcontour": [
           {
            "colorbar": {
             "outlinewidth": 0,
             "ticks": ""
            },
            "colorscale": [
             [
              0,
              "#0d0887"
             ],
             [
              0.1111111111111111,
              "#46039f"
             ],
             [
              0.2222222222222222,
              "#7201a8"
             ],
             [
              0.3333333333333333,
              "#9c179e"
             ],
             [
              0.4444444444444444,
              "#bd3786"
             ],
             [
              0.5555555555555556,
              "#d8576b"
             ],
             [
              0.6666666666666666,
              "#ed7953"
             ],
             [
              0.7777777777777778,
              "#fb9f3a"
             ],
             [
              0.8888888888888888,
              "#fdca26"
             ],
             [
              1,
              "#f0f921"
             ]
            ],
            "type": "histogram2dcontour"
           }
          ],
          "mesh3d": [
           {
            "colorbar": {
             "outlinewidth": 0,
             "ticks": ""
            },
            "type": "mesh3d"
           }
          ],
          "parcoords": [
           {
            "line": {
             "colorbar": {
              "outlinewidth": 0,
              "ticks": ""
             }
            },
            "type": "parcoords"
           }
          ],
          "pie": [
           {
            "automargin": true,
            "type": "pie"
           }
          ],
          "scatter": [
           {
            "fillpattern": {
             "fillmode": "overlay",
             "size": 10,
             "solidity": 0.2
            },
            "type": "scatter"
           }
          ],
          "scatter3d": [
           {
            "line": {
             "colorbar": {
              "outlinewidth": 0,
              "ticks": ""
             }
            },
            "marker": {
             "colorbar": {
              "outlinewidth": 0,
              "ticks": ""
             }
            },
            "type": "scatter3d"
           }
          ],
          "scattercarpet": [
           {
            "marker": {
             "colorbar": {
              "outlinewidth": 0,
              "ticks": ""
             }
            },
            "type": "scattercarpet"
           }
          ],
          "scattergeo": [
           {
            "marker": {
             "colorbar": {
              "outlinewidth": 0,
              "ticks": ""
             }
            },
            "type": "scattergeo"
           }
          ],
          "scattergl": [
           {
            "marker": {
             "colorbar": {
              "outlinewidth": 0,
              "ticks": ""
             }
            },
            "type": "scattergl"
           }
          ],
          "scattermapbox": [
           {
            "marker": {
             "colorbar": {
              "outlinewidth": 0,
              "ticks": ""
             }
            },
            "type": "scattermapbox"
           }
          ],
          "scatterpolar": [
           {
            "marker": {
             "colorbar": {
              "outlinewidth": 0,
              "ticks": ""
             }
            },
            "type": "scatterpolar"
           }
          ],
          "scatterpolargl": [
           {
            "marker": {
             "colorbar": {
              "outlinewidth": 0,
              "ticks": ""
             }
            },
            "type": "scatterpolargl"
           }
          ],
          "scatterternary": [
           {
            "marker": {
             "colorbar": {
              "outlinewidth": 0,
              "ticks": ""
             }
            },
            "type": "scatterternary"
           }
          ],
          "surface": [
           {
            "colorbar": {
             "outlinewidth": 0,
             "ticks": ""
            },
            "colorscale": [
             [
              0,
              "#0d0887"
             ],
             [
              0.1111111111111111,
              "#46039f"
             ],
             [
              0.2222222222222222,
              "#7201a8"
             ],
             [
              0.3333333333333333,
              "#9c179e"
             ],
             [
              0.4444444444444444,
              "#bd3786"
             ],
             [
              0.5555555555555556,
              "#d8576b"
             ],
             [
              0.6666666666666666,
              "#ed7953"
             ],
             [
              0.7777777777777778,
              "#fb9f3a"
             ],
             [
              0.8888888888888888,
              "#fdca26"
             ],
             [
              1,
              "#f0f921"
             ]
            ],
            "type": "surface"
           }
          ],
          "table": [
           {
            "cells": {
             "fill": {
              "color": "#EBF0F8"
             },
             "line": {
              "color": "white"
             }
            },
            "header": {
             "fill": {
              "color": "#C8D4E3"
             },
             "line": {
              "color": "white"
             }
            },
            "type": "table"
           }
          ]
         },
         "layout": {
          "annotationdefaults": {
           "arrowcolor": "#2a3f5f",
           "arrowhead": 0,
           "arrowwidth": 1
          },
          "autotypenumbers": "strict",
          "coloraxis": {
           "colorbar": {
            "outlinewidth": 0,
            "ticks": ""
           }
          },
          "colorscale": {
           "diverging": [
            [
             0,
             "#8e0152"
            ],
            [
             0.1,
             "#c51b7d"
            ],
            [
             0.2,
             "#de77ae"
            ],
            [
             0.3,
             "#f1b6da"
            ],
            [
             0.4,
             "#fde0ef"
            ],
            [
             0.5,
             "#f7f7f7"
            ],
            [
             0.6,
             "#e6f5d0"
            ],
            [
             0.7,
             "#b8e186"
            ],
            [
             0.8,
             "#7fbc41"
            ],
            [
             0.9,
             "#4d9221"
            ],
            [
             1,
             "#276419"
            ]
           ],
           "sequential": [
            [
             0,
             "#0d0887"
            ],
            [
             0.1111111111111111,
             "#46039f"
            ],
            [
             0.2222222222222222,
             "#7201a8"
            ],
            [
             0.3333333333333333,
             "#9c179e"
            ],
            [
             0.4444444444444444,
             "#bd3786"
            ],
            [
             0.5555555555555556,
             "#d8576b"
            ],
            [
             0.6666666666666666,
             "#ed7953"
            ],
            [
             0.7777777777777778,
             "#fb9f3a"
            ],
            [
             0.8888888888888888,
             "#fdca26"
            ],
            [
             1,
             "#f0f921"
            ]
           ],
           "sequentialminus": [
            [
             0,
             "#0d0887"
            ],
            [
             0.1111111111111111,
             "#46039f"
            ],
            [
             0.2222222222222222,
             "#7201a8"
            ],
            [
             0.3333333333333333,
             "#9c179e"
            ],
            [
             0.4444444444444444,
             "#bd3786"
            ],
            [
             0.5555555555555556,
             "#d8576b"
            ],
            [
             0.6666666666666666,
             "#ed7953"
            ],
            [
             0.7777777777777778,
             "#fb9f3a"
            ],
            [
             0.8888888888888888,
             "#fdca26"
            ],
            [
             1,
             "#f0f921"
            ]
           ]
          },
          "colorway": [
           "#636efa",
           "#EF553B",
           "#00cc96",
           "#ab63fa",
           "#FFA15A",
           "#19d3f3",
           "#FF6692",
           "#B6E880",
           "#FF97FF",
           "#FECB52"
          ],
          "font": {
           "color": "#2a3f5f"
          },
          "geo": {
           "bgcolor": "white",
           "lakecolor": "white",
           "landcolor": "#E5ECF6",
           "showlakes": true,
           "showland": true,
           "subunitcolor": "white"
          },
          "hoverlabel": {
           "align": "left"
          },
          "hovermode": "closest",
          "mapbox": {
           "style": "light"
          },
          "paper_bgcolor": "white",
          "plot_bgcolor": "#E5ECF6",
          "polar": {
           "angularaxis": {
            "gridcolor": "white",
            "linecolor": "white",
            "ticks": ""
           },
           "bgcolor": "#E5ECF6",
           "radialaxis": {
            "gridcolor": "white",
            "linecolor": "white",
            "ticks": ""
           }
          },
          "scene": {
           "xaxis": {
            "backgroundcolor": "#E5ECF6",
            "gridcolor": "white",
            "gridwidth": 2,
            "linecolor": "white",
            "showbackground": true,
            "ticks": "",
            "zerolinecolor": "white"
           },
           "yaxis": {
            "backgroundcolor": "#E5ECF6",
            "gridcolor": "white",
            "gridwidth": 2,
            "linecolor": "white",
            "showbackground": true,
            "ticks": "",
            "zerolinecolor": "white"
           },
           "zaxis": {
            "backgroundcolor": "#E5ECF6",
            "gridcolor": "white",
            "gridwidth": 2,
            "linecolor": "white",
            "showbackground": true,
            "ticks": "",
            "zerolinecolor": "white"
           }
          },
          "shapedefaults": {
           "line": {
            "color": "#2a3f5f"
           }
          },
          "ternary": {
           "aaxis": {
            "gridcolor": "white",
            "linecolor": "white",
            "ticks": ""
           },
           "baxis": {
            "gridcolor": "white",
            "linecolor": "white",
            "ticks": ""
           },
           "bgcolor": "#E5ECF6",
           "caxis": {
            "gridcolor": "white",
            "linecolor": "white",
            "ticks": ""
           }
          },
          "title": {
           "x": 0.05
          },
          "xaxis": {
           "automargin": true,
           "gridcolor": "white",
           "linecolor": "white",
           "ticks": "",
           "title": {
            "standoff": 15
           },
           "zerolinecolor": "white",
           "zerolinewidth": 2
          },
          "yaxis": {
           "automargin": true,
           "gridcolor": "white",
           "linecolor": "white",
           "ticks": "",
           "title": {
            "standoff": 15
           },
           "zerolinecolor": "white",
           "zerolinewidth": 2
          }
         }
        },
        "title": {
         "text": "GDP vs Life Expectancy Bivariate Choropleth"
        }
       }
      }
     },
     "metadata": {},
     "output_type": "display_data"
    }
   ],
   "source": [
    "import pandas as pd\n",
    "import geopandas as gpd\n",
    "import plotly.graph_objects as go\n",
    "\n",
    "# Load the CSV file\n",
    "data = pd.read_csv('datasets/Normalized_Dataset.csv')\n",
    "\n",
    "# Convert the 'GDP' and 'Life expectancy' columns to numeric\n",
    "data['GDP'] = pd.to_numeric(data['GDP'], errors='coerce')\n",
    "data['Life expectancy'] = pd.to_numeric(data['Life expectancy'], errors='coerce')\n",
    "\n",
    "# Load the dataset with country borders\n",
    "border = gpd.read_file(gpd.datasets.get_path('naturalearth_lowres'))\n",
    "border = border[border['name'] != 'Antarctica']\n",
    "\n",
    "# Merge the non-spatial data with the spatial GeoDataFrame based on the country name\n",
    "merged_data = border.merge(data, left_on='name', right_on='Country')\n",
    "\n",
    "# Ensure the GeoDataFrame has a CRS set\n",
    "if merged_data.crs is None:\n",
    "    merged_data = merged_data.set_crs('EPSG:4326')  # Assuming WGS84\n",
    "\n",
    "# Add the 'Bi_Class' column to your data for bivariate choropleth\n",
    "merged_data['Bi_Class'] = pd.qcut(merged_data['GDP'], 3, labels=['low', 'medium', 'high']).astype(str) + \\\n",
    "                          pd.qcut(merged_data['Life expectancy'], 3, labels=['_low', '_medium', '_high']).astype(str)\n",
    "\n",
    "# Define custom colors for each category with ordered keys\n",
    "ordered_categories = ['low_low', 'low_medium', 'low_high',\n",
    "                      'medium_low', 'medium_medium', 'medium_high',\n",
    "                      'high_low', 'high_medium', 'high_high']\n",
    "category_colors = {\n",
    "    'low_low': '#ffffe5',   # low GDP, low life expectancy\n",
    "    'low_medium': '#f7fcb9',  # low GDP, medium life expectancy\n",
    "    'low_high': '#d9f0a3',   # low GDP, high life expectancy\n",
    "    'medium_low': '#addd8e',  # medium GDP, low life expectancy\n",
    "    'medium_medium': '#78c679',  # medium GDP, medium life expectancy\n",
    "    'medium_high': '#41ab5d',  # medium GDP, high life expectancy\n",
    "    'high_low': '#238443',   # high GDP, low life expectancy\n",
    "    'high_medium': '#006837',  # high GDP, medium life expectancy\n",
    "    'high_high': '#004529'   # high GDP, high life expectancy\n",
    "}\n",
    "merged_data['color'] = merged_data['Bi_Class'].map(category_colors)\n",
    "\n",
    "# Prepare the data for Plotly\n",
    "merged_data['iso_a3'] = merged_data['iso_a3'].apply(lambda x: x if x != -99 else None)\n",
    "\n",
    "# Create the Plotly figure\n",
    "fig = go.Figure()\n",
    "\n",
    "# Add choropleth traces in the order of the categories\n",
    "for category in ordered_categories:\n",
    "    subset = merged_data[merged_data['Bi_Class'] == category]\n",
    "    fig.add_trace(go.Choropleth(\n",
    "        locations=subset['iso_a3'],\n",
    "        z=subset['GDP'],  # Here, use GDP for the color intensity\n",
    "        text=subset.apply(lambda row: f\"{row['name']}<br>Bi-Class: {row['Bi_Class']}<br>GDP: {row['GDP']}<br>Life Expectancy: {row['Life expectancy']}\", axis=1),\n",
    "        hoverinfo='text',\n",
    "        geo='geo',\n",
    "        colorscale=[[0, category_colors[category]], [1, category_colors[category]]],\n",
    "        showscale=False,\n",
    "        name=category.replace('_low', '_Low GDP & L.E').replace('_medium', '_Medium GDP & L.E').replace('_high', '_High GDP & L.E').replace('low', 'Low GDP').replace('medium', 'Medium GDP').replace('high', 'High GDP')  # Update the category name\n",
    "    ))\n",
    "\n",
    "# Add custom legend using scattergeo\n",
    "for category in ordered_categories:\n",
    "    fig.add_trace(go.Scattergeo(\n",
    "        locationmode='ISO-3',\n",
    "        locations=[None],  # No actual points, just for the legend\n",
    "        marker=dict(\n",
    "            size=10,\n",
    "            color=category_colors[category],\n",
    "        ),\n",
    "        showlegend=True,\n",
    "        name=category.replace('_low', '_Low L.E').replace('_medium', '_Medium L.E').replace('_high', '_High L.E').replace('low', 'Low GDP').replace('medium', 'Medium GDP').replace('high', 'High GDP')  # Update the category name\n",
    "    ))\n",
    "\n",
    "# Update the layout for better appearance\n",
    "fig.update_geos(\n",
    "    showcountries=True,\n",
    "    countrycolor=\"black\",\n",
    "    showcoastlines=True,\n",
    "    coastlinecolor=\"black\",\n",
    "    projection_type=\"natural earth\"\n",
    ")\n",
    "\n",
    "fig.update_layout(\n",
    "    title_text='GDP vs Life Expectancy Bivariate Choropleth',\n",
    "    margin={\"r\":0, \"t\":50, \"l\":0, \"b\":0},\n",
    "    legend=dict(\n",
    "        title=\"Categories\",\n",
    "        traceorder='normal'  # Ensure the legend follows the trace order\n",
    "    ),\n",
    "    geo=dict(\n",
    "        lakecolor='#FFFFFF',\n",
    "        bgcolor='#a8d5f2'  # Set the water color to #a8d5f2\n",
    "    )\n",
    ")\n",
    "\n",
    "# Show the figure\n",
    "fig.show()"
   ]
  }
 ],
 "metadata": {
  "kernelspec": {
   "display_name": "jupyterbook",
   "language": "python",
   "name": "python3"
  },
  "language_info": {
   "codemirror_mode": {
    "name": "ipython",
    "version": 3
   },
   "file_extension": ".py",
   "mimetype": "text/x-python",
   "name": "python",
   "nbconvert_exporter": "python",
   "pygments_lexer": "ipython3",
   "version": "3.10.14"
  }
 },
 "nbformat": 4,
 "nbformat_minor": 2
}
