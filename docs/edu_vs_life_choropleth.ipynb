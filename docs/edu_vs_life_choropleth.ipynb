{
 "cells": [
  {
   "cell_type": "code",
   "execution_count": 1,
   "metadata": {},
   "outputs": [
    {
     "name": "stderr",
     "output_type": "stream",
     "text": [
      "/tmp/ipykernel_89979/3606791772.py:13: FutureWarning: The geopandas.dataset module is deprecated and will be removed in GeoPandas 1.0. You can get the original 'naturalearth_lowres' data from https://www.naturalearthdata.com/downloads/110m-cultural-vectors/.\n",
      "  border = gpd.read_file(gpd.datasets.get_path('naturalearth_lowres'))\n"
     ]
    },
    {
     "data": {
      "application/vnd.plotly.v1+json": {
       "config": {
        "plotlyServerURL": "https://plot.ly"
       },
       "data": [
        {
         "colorscale": [
          [
           0,
           "#ffffe5"
          ],
          [
           1,
           "#ffffe5"
          ]
         ],
         "geo": "geo",
         "hoverinfo": "text",
         "locations": [
          "TZA",
          "TZA",
          "UZB",
          "UZB",
          "SDN",
          "SDN",
          "ZAF",
          "ZAF",
          "LSO",
          "LSO",
          "BLZ",
          "ZWE",
          "ZWE",
          "NAM",
          "NAM",
          "SEN",
          "SEN",
          "MLI",
          "MLI",
          "MRT",
          "MRT",
          "BEN",
          "BEN",
          "CMR",
          "CMR",
          "TGO",
          "TGO",
          "GHA",
          "GHA",
          "GIN",
          "GIN",
          "BFA",
          "BFA",
          "MOZ",
          "MOZ",
          "AGO",
          "AGO",
          "MDG",
          "MDG",
          "BGD",
          "BGD",
          "BTN",
          "BTN",
          "NPL",
          "NPL",
          "PAK",
          "PAK",
          "TJK",
          "UGA",
          "UGA",
          "RWA",
          "RWA"
         ],
         "name": "Low Education_Low Education & L.E",
         "showscale": false,
         "text": [
          "Tanzania<br>Bi-Class: low_low<br>GDP: 0.0429554444600016<br>Life Expectancy: 0.4838709677419355",
          "Tanzania<br>Bi-Class: low_low<br>GDP: 0.019033279807185<br>Life Expectancy: 0.4838709677419355",
          "Uzbekistan<br>Bi-Class: low_low<br>GDP: 0.082561008118408<br>Life Expectancy: 0.6280834914611007",
          "Uzbekistan<br>Bi-Class: low_low<br>GDP: 0.0491431924345567<br>Life Expectancy: 0.6280834914611007",
          "Sudan<br>Bi-Class: low_low<br>GDP: 0.136286422174565<br>Life Expectancy: 0.5275142314990511",
          "Sudan<br>Bi-Class: low_low<br>GDP: 0.1516640780324839<br>Life Expectancy: 0.5275142314990511",
          "South Africa<br>Bi-Class: low_low<br>GDP: 0.1225852045505339<br>Life Expectancy: 0.5047438330170777",
          "South Africa<br>Bi-Class: low_low<br>GDP: 0.1750268776321636<br>Life Expectancy: 0.5047438330170777",
          "Lesotho<br>Bi-Class: low_low<br>GDP: 0.0713882706626454<br>Life Expectancy: 0.3301707779886149",
          "Lesotho<br>Bi-Class: low_low<br>GDP: 0.1010163371329613<br>Life Expectancy: 0.3301707779886149",
          "Belize<br>Bi-Class: low_low<br>GDP: 0.1477110359519486<br>Life Expectancy: 0.6584440227703985",
          "Zimbabwe<br>Bi-Class: low_low<br>GDP: 0.073675371654576<br>Life Expectancy: 0.5825426944971537",
          "Zimbabwe<br>Bi-Class: low_low<br>GDP: 0.0523326775260862<br>Life Expectancy: 0.5825426944971537",
          "Namibia<br>Bi-Class: low_low<br>GDP: 0.1238787806882098<br>Life Expectancy: 0.5597722960151803",
          "Namibia<br>Bi-Class: low_low<br>GDP: 0.1652874497097364<br>Life Expectancy: 0.5597722960151803",
          "Senegal<br>Bi-Class: low_low<br>GDP: 0.1075314864980735<br>Life Expectancy: 0.5768500948766604",
          "Senegal<br>Bi-Class: low_low<br>GDP: 0.0627146773216105<br>Life Expectancy: 0.5768500948766604",
          "Mali<br>Bi-Class: low_low<br>GDP: 0.0697728293540529<br>Life Expectancy: 0.4155597722960151",
          "Mali<br>Bi-Class: low_low<br>GDP: 0.0287389899847963<br>Life Expectancy: 0.4155597722960151",
          "Mauritania<br>Bi-Class: low_low<br>GDP: 0.0690706712080675<br>Life Expectancy: 0.50853889943074",
          "Mauritania<br>Bi-Class: low_low<br>GDP: 0.0263880904646068<br>Life Expectancy: 0.50853889943074",
          "Benin<br>Bi-Class: low_low<br>GDP: 0.1808579787911265<br>Life Expectancy: 0.4497153700189753",
          "Benin<br>Bi-Class: low_low<br>GDP: 0.0687993767438197<br>Life Expectancy: 0.4497153700189753",
          "Cameroon<br>Bi-Class: low_low<br>GDP: 0.1432800427699559<br>Life Expectancy: 0.398481973434535",
          "Cameroon<br>Bi-Class: low_low<br>GDP: 0.109915189597274<br>Life Expectancy: 0.398481973434535",
          "Togo<br>Bi-Class: low_low<br>GDP: 0.129631783716724<br>Life Expectancy: 0.4478178368121441",
          "Togo<br>Bi-Class: low_low<br>GDP: 0.0508784564499512<br>Life Expectancy: 0.4478178368121441",
          "Ghana<br>Bi-Class: low_low<br>GDP: 0.1353462026436556<br>Life Expectancy: 0.4952561669829223",
          "Ghana<br>Bi-Class: low_low<br>GDP: 0.0850480907610208<br>Life Expectancy: 0.4952561669829223",
          "Guinea<br>Bi-Class: low_low<br>GDP: 0.1195664478039127<br>Life Expectancy: 0.430740037950664",
          "Guinea<br>Bi-Class: low_low<br>GDP: 0.0512519680485061<br>Life Expectancy: 0.430740037950664",
          "Burkina Faso<br>Bi-Class: low_low<br>GDP: 0.0499831019701665<br>Life Expectancy: 0.4478178368121441",
          "Burkina Faso<br>Bi-Class: low_low<br>GDP: 0.0237877162782199<br>Life Expectancy: 0.4478178368121441",
          "Mozambique<br>Bi-Class: low_low<br>GDP: 0.0557201583218933<br>Life Expectancy: 0.4041745730550286",
          "Mozambique<br>Bi-Class: low_low<br>GDP: 0.0366653926630026<br>Life Expectancy: 0.4041745730550286",
          "Angola<br>Bi-Class: low_low<br>GDP: 0.0824890333227074<br>Life Expectancy: 0.3055028462998103",
          "Angola<br>Bi-Class: low_low<br>GDP: 0.0661709057502096<br>Life Expectancy: 0.3055028462998103",
          "Madagascar<br>Bi-Class: low_low<br>GDP: 0.0344864587638545<br>Life Expectancy: 0.554079696394687",
          "Madagascar<br>Bi-Class: low_low<br>GDP: 0.0330576885365878<br>Life Expectancy: 0.554079696394687",
          "Bangladesh<br>Bi-Class: low_low<br>GDP: 0.1295062592947477<br>Life Expectancy: 0.6736242884250474",
          "Bangladesh<br>Bi-Class: low_low<br>GDP: 0.0936506983391888<br>Life Expectancy: 0.6736242884250474",
          "Bhutan<br>Bi-Class: low_low<br>GDP: 0.0918238719495647<br>Life Expectancy: 0.6356736242884251",
          "Bhutan<br>Bi-Class: low_low<br>GDP: 0.0757253096659088<br>Life Expectancy: 0.6356736242884251",
          "Nepal<br>Bi-Class: low_low<br>GDP: 0.148035880042473<br>Life Expectancy: 0.6242884250474383",
          "Nepal<br>Bi-Class: low_low<br>GDP: 0.118562591299908<br>Life Expectancy: 0.6242884250474383",
          "Pakistan<br>Bi-Class: low_low<br>GDP: 0.0727439076254759<br>Life Expectancy: 0.5711574952561671",
          "Pakistan<br>Bi-Class: low_low<br>GDP: 0.0721819872424909<br>Life Expectancy: 0.5711574952561671",
          "Tajikistan<br>Bi-Class: low_low<br>GDP: 0.1318299742033341<br>Life Expectancy: 0.6337760910815939",
          "Uganda<br>Bi-Class: low_low<br>GDP: 0.0370618766177895<br>Life Expectancy: 0.4933586337760911",
          "Uganda<br>Bi-Class: low_low<br>GDP: 0.0274265729686776<br>Life Expectancy: 0.4933586337760911",
          "Rwanda<br>Bi-Class: low_low<br>GDP: 0.0651992814715873<br>Life Expectancy: 0.5654648956356736",
          "Rwanda<br>Bi-Class: low_low<br>GDP: 0.0511335520537411<br>Life Expectancy: 0.5654648956356736"
         ],
         "type": "choropleth",
         "z": [
          0.0429554444600016,
          0.019033279807185,
          0.082561008118408,
          0.0491431924345567,
          0.136286422174565,
          0.1516640780324839,
          0.1225852045505339,
          0.1750268776321636,
          0.0713882706626454,
          0.1010163371329613,
          0.1477110359519486,
          0.073675371654576,
          0.0523326775260862,
          0.1238787806882098,
          0.1652874497097364,
          0.1075314864980735,
          0.0627146773216105,
          0.0697728293540529,
          0.0287389899847963,
          0.0690706712080675,
          0.0263880904646068,
          0.1808579787911265,
          0.0687993767438197,
          0.1432800427699559,
          0.109915189597274,
          0.129631783716724,
          0.0508784564499512,
          0.1353462026436556,
          0.0850480907610208,
          0.1195664478039127,
          0.0512519680485061,
          0.0499831019701665,
          0.0237877162782199,
          0.0557201583218933,
          0.0366653926630026,
          0.0824890333227074,
          0.0661709057502096,
          0.0344864587638545,
          0.0330576885365878,
          0.1295062592947477,
          0.0936506983391888,
          0.0918238719495647,
          0.0757253096659088,
          0.148035880042473,
          0.118562591299908,
          0.0727439076254759,
          0.0721819872424909,
          0.1318299742033341,
          0.0370618766177895,
          0.0274265729686776,
          0.0651992814715873,
          0.0511335520537411
         ]
        },
        {
         "colorscale": [
          [
           0,
           "#f7fcb9"
          ],
          [
           1,
           "#f7fcb9"
          ]
         ],
         "geo": "geo",
         "hoverinfo": "text",
         "locations": [
          "NIC",
          "NIC",
          "HND",
          "GTM",
          "GTM",
          "JAM",
          "LKA",
          "LKA",
          "AZE",
          "AZE",
          "MAR"
         ],
         "name": "Low Education_Medium Education & L.E",
         "showscale": false,
         "text": [
          "Nicaragua<br>Bi-Class: low_medium<br>GDP: 0.1198048480606435<br>Life Expectancy: 0.730550284629981",
          "Nicaragua<br>Bi-Class: low_medium<br>GDP: 0.1485372211793673<br>Life Expectancy: 0.730550284629981",
          "Honduras<br>Bi-Class: low_medium<br>GDP: 0.1333498851852569<br>Life Expectancy: 0.7267552182163186",
          "Guatemala<br>Bi-Class: low_medium<br>GDP: 0.1571664420155096<br>Life Expectancy: 0.6755218216318786",
          "Guatemala<br>Bi-Class: low_medium<br>GDP: 0.1656974057890446<br>Life Expectancy: 0.6755218216318786",
          "Jamaica<br>Bi-Class: low_medium<br>GDP: 0.1300870225263603<br>Life Expectancy: 0.7571157495256167",
          "Sri Lanka<br>Bi-Class: low_medium<br>GDP: 0.1156152261742494<br>Life Expectancy: 0.7324478178368123",
          "Sri Lanka<br>Bi-Class: low_medium<br>GDP: 0.1785008810691607<br>Life Expectancy: 0.7324478178368123",
          "Azerbaijan<br>Bi-Class: low_medium<br>GDP: 0.1669446274157914<br>Life Expectancy: 0.6907020872865275",
          "Azerbaijan<br>Bi-Class: low_medium<br>GDP: 0.1859035278165752<br>Life Expectancy: 0.6907020872865275",
          "Morocco<br>Bi-Class: low_medium<br>GDP: 0.1815655746475066<br>Life Expectancy: 0.7210626185958253"
         ],
         "type": "choropleth",
         "z": [
          0.1198048480606435,
          0.1485372211793673,
          0.1333498851852569,
          0.1571664420155096,
          0.1656974057890446,
          0.1300870225263603,
          0.1156152261742494,
          0.1785008810691607,
          0.1669446274157914,
          0.1859035278165752,
          0.1815655746475066
         ]
        },
        {
         "colorscale": [
          [
           0,
           "#d9f0a3"
          ],
          [
           1,
           "#d9f0a3"
          ]
         ],
         "geo": "geo",
         "hoverinfo": "text",
         "locations": [
          "QAT"
         ],
         "name": "Low Education_High Education & L.E",
         "showscale": false,
         "text": [
          "Qatar<br>Bi-Class: low_high<br>GDP: 0.0560207848993126<br>Life Expectancy: 0.7950664136622392"
         ],
         "type": "choropleth",
         "z": [
          0.0560207848993126
         ]
        },
        {
         "colorscale": [
          [
           0,
           "#addd8e"
          ],
          [
           1,
           "#addd8e"
          ]
         ],
         "geo": "geo",
         "hoverinfo": "text",
         "locations": [
          "IDN",
          "IDN",
          "BLZ",
          "MNG",
          "IND",
          "IND",
          "TJK",
          "PHL",
          "PHL"
         ],
         "name": "Medium Education_Low Education & L.E",
         "showscale": false,
         "text": [
          "Indonesia<br>Bi-Class: medium_low<br>GDP: 0.2329072067970666<br>Life Expectancy: 0.6223908918406071",
          "Indonesia<br>Bi-Class: medium_low<br>GDP: 0.2690226509057842<br>Life Expectancy: 0.6223908918406071",
          "Belize<br>Bi-Class: medium_low<br>GDP: 0.2446500448436246<br>Life Expectancy: 0.6584440227703985",
          "Mongolia<br>Bi-Class: medium_low<br>GDP: 0.4118306068297132<br>Life Expectancy: 0.6166982922201139",
          "India<br>Bi-Class: medium_low<br>GDP: 0.2088198519891678<br>Life Expectancy: 0.6072106261859582",
          "India<br>Bi-Class: medium_low<br>GDP: 0.1915242447484484<br>Life Expectancy: 0.6072106261859582",
          "Tajikistan<br>Bi-Class: medium_low<br>GDP: 0.2425588748021702<br>Life Expectancy: 0.6337760910815939",
          "Philippines<br>Bi-Class: medium_low<br>GDP: 0.2466504130022307<br>Life Expectancy: 0.6110056925996206",
          "Philippines<br>Bi-Class: medium_low<br>GDP: 0.3109408727949748<br>Life Expectancy: 0.6110056925996206"
         ],
         "type": "choropleth",
         "z": [
          0.2329072067970666,
          0.2690226509057842,
          0.2446500448436246,
          0.4118306068297132,
          0.2088198519891678,
          0.1915242447484484,
          0.2425588748021702,
          0.2466504130022307,
          0.3109408727949748
         ]
        },
        {
         "colorscale": [
          [
           0,
           "#78c679"
          ],
          [
           1,
           "#78c679"
          ]
         ],
         "geo": "geo",
         "hoverinfo": "text",
         "locations": [
          "KAZ",
          "BRA",
          "BRA",
          "COL",
          "COL",
          "HND",
          "SLV",
          "SLV",
          "JAM",
          "LBN",
          "LBN",
          "TUN",
          "TUN",
          "DZA",
          "DZA",
          "THA",
          "VNM",
          "VNM",
          "IRN",
          "ARM",
          "ARM",
          "HUN",
          "MDA",
          "MDA",
          "ROU",
          "GEO",
          "GEO",
          "MYS",
          "MYS",
          "SAU",
          "SAU",
          "MAR",
          "MKD",
          "MKD",
          "SRB",
          "MNE"
         ],
         "name": "Medium Education_Medium Education & L.E",
         "showscale": false,
         "text": [
          "Kazakhstan<br>Bi-Class: medium_medium<br>GDP: 0.3918080114683665<br>Life Expectancy: 0.6774193548387097",
          "Brazil<br>Bi-Class: medium_medium<br>GDP: 0.3107357529020065<br>Life Expectancy: 0.7343453510436433",
          "Brazil<br>Bi-Class: medium_medium<br>GDP: 0.420762763300007<br>Life Expectancy: 0.7343453510436433",
          "Colombia<br>Bi-Class: medium_medium<br>GDP: 0.3923261228193478<br>Life Expectancy: 0.730550284629981",
          "Colombia<br>Bi-Class: medium_medium<br>GDP: 0.4448456418477551<br>Life Expectancy: 0.730550284629981",
          "Honduras<br>Bi-Class: medium_medium<br>GDP: 0.1860058355793891<br>Life Expectancy: 0.7267552182163186",
          "El Salvador<br>Bi-Class: medium_medium<br>GDP: 0.2134505903996519<br>Life Expectancy: 0.7058823529411764",
          "El Salvador<br>Bi-Class: medium_medium<br>GDP: 0.2493533333438075<br>Life Expectancy: 0.7058823529411764",
          "Jamaica<br>Bi-Class: medium_medium<br>GDP: 0.2975554679337696<br>Life Expectancy: 0.7571157495256167",
          "Lebanon<br>Bi-Class: medium_medium<br>GDP: 0.3541907505560825<br>Life Expectancy: 0.7324478178368123",
          "Lebanon<br>Bi-Class: medium_medium<br>GDP: 0.4399546026049078<br>Life Expectancy: 0.7324478178368123",
          "Tunisia<br>Bi-Class: medium_medium<br>GDP: 0.2110905137580795<br>Life Expectancy: 0.7400379506641366",
          "Tunisia<br>Bi-Class: medium_medium<br>GDP: 0.3335496116969914<br>Life Expectancy: 0.7400379506641366",
          "Algeria<br>Bi-Class: medium_medium<br>GDP: 0.2306877855976987<br>Life Expectancy: 0.7457305502846299",
          "Algeria<br>Bi-Class: medium_medium<br>GDP: 0.3574825985756035<br>Life Expectancy: 0.7457305502846299",
          "Thailand<br>Bi-Class: medium_medium<br>GDP: 0.3494089383655075<br>Life Expectancy: 0.7324478178368123",
          "Vietnam<br>Bi-Class: medium_medium<br>GDP: 0.2358499380477806<br>Life Expectancy: 0.7533206831119545",
          "Vietnam<br>Bi-Class: medium_medium<br>GDP: 0.2070845131067459<br>Life Expectancy: 0.7533206831119545",
          "Iran<br>Bi-Class: medium_medium<br>GDP: 0.4572299090601541<br>Life Expectancy: 0.7438330170777989",
          "Armenia<br>Bi-Class: medium_medium<br>GDP: 0.3197012921856789<br>Life Expectancy: 0.730550284629981",
          "Armenia<br>Bi-Class: medium_medium<br>GDP: 0.3648859230666322<br>Life Expectancy: 0.730550284629981",
          "Hungary<br>Bi-Class: medium_medium<br>GDP: 0.411615178929214<br>Life Expectancy: 0.7495256166982922",
          "Moldova<br>Bi-Class: medium_medium<br>GDP: 0.2973117954621778<br>Life Expectancy: 0.6793168880455407",
          "Moldova<br>Bi-Class: medium_medium<br>GDP: 0.3843336972741011<br>Life Expectancy: 0.6793168880455407",
          "Romania<br>Bi-Class: medium_medium<br>GDP: 0.3770183218381488<br>Life Expectancy: 0.7343453510436433",
          "Georgia<br>Bi-Class: medium_medium<br>GDP: 0.2834671010911287<br>Life Expectancy: 0.7229601518026567",
          "Georgia<br>Bi-Class: medium_medium<br>GDP: 0.367680401842069<br>Life Expectancy: 0.7229601518026567",
          "Malaysia<br>Bi-Class: medium_medium<br>GDP: 0.2677141959315504<br>Life Expectancy: 0.7343453510436433",
          "Malaysia<br>Bi-Class: medium_medium<br>GDP: 0.3646126505367192<br>Life Expectancy: 0.7343453510436433",
          "Saudi Arabia<br>Bi-Class: medium_medium<br>GDP: 0.3012130137984307<br>Life Expectancy: 0.7248576850094877",
          "Saudi Arabia<br>Bi-Class: medium_medium<br>GDP: 0.4423712787190218<br>Life Expectancy: 0.7248576850094877",
          "Morocco<br>Bi-Class: medium_medium<br>GDP: 0.1889131192629226<br>Life Expectancy: 0.7210626185958253",
          "North Macedonia<br>Bi-Class: medium_medium<br>GDP: 0.2825091183729312<br>Life Expectancy: 0.7476280834914613",
          "North Macedonia<br>Bi-Class: medium_medium<br>GDP: 0.3544459289076399<br>Life Expectancy: 0.7476280834914613",
          "Serbia<br>Bi-Class: medium_medium<br>GDP: 0.4025466541391135<br>Life Expectancy: 0.7457305502846299",
          "Montenegro<br>Bi-Class: medium_medium<br>GDP: 0.425611561778051<br>Life Expectancy: 0.7552182163187855"
         ],
         "type": "choropleth",
         "z": [
          0.3918080114683665,
          0.3107357529020065,
          0.420762763300007,
          0.3923261228193478,
          0.4448456418477551,
          0.1860058355793891,
          0.2134505903996519,
          0.2493533333438075,
          0.2975554679337696,
          0.3541907505560825,
          0.4399546026049078,
          0.2110905137580795,
          0.3335496116969914,
          0.2306877855976987,
          0.3574825985756035,
          0.3494089383655075,
          0.2358499380477806,
          0.2070845131067459,
          0.4572299090601541,
          0.3197012921856789,
          0.3648859230666322,
          0.411615178929214,
          0.2973117954621778,
          0.3843336972741011,
          0.3770183218381488,
          0.2834671010911287,
          0.367680401842069,
          0.2677141959315504,
          0.3646126505367192,
          0.3012130137984307,
          0.4423712787190218,
          0.1889131192629226,
          0.2825091183729312,
          0.3544459289076399,
          0.4025466541391135,
          0.425611561778051
         ]
        },
        {
         "colorscale": [
          [
           0,
           "#41ab5d"
          ],
          [
           1,
           "#41ab5d"
          ]
         ],
         "geo": "geo",
         "hoverinfo": "text",
         "locations": [
          "CAN",
          "MEX",
          "MEX",
          "CRI",
          "CRI",
          "FRA",
          "ISR",
          "QAT",
          "OMN",
          "OMN",
          "SWE",
          "HRV",
          "CHE",
          "CHE",
          "ITA",
          "GBR",
          "CZE",
          "CYP",
          "CYP"
         ],
         "name": "Medium Education_High Education & L.E",
         "showscale": false,
         "text": [
          "Canada<br>Bi-Class: medium_high<br>GDP: 0.4627433376017213<br>Life Expectancy: 0.870967741935484",
          "Mexico<br>Bi-Class: medium_high<br>GDP: 0.2520873353227697<br>Life Expectancy: 0.7666034155597723",
          "Mexico<br>Bi-Class: medium_high<br>GDP: 0.2470655703697421<br>Life Expectancy: 0.7666034155597723",
          "Costa Rica<br>Bi-Class: medium_high<br>GDP: 0.3491823513375904<br>Life Expectancy: 0.8216318785578747",
          "Costa Rica<br>Bi-Class: medium_high<br>GDP: 0.4430241191959502<br>Life Expectancy: 0.8216318785578747",
          "France<br>Bi-Class: medium_high<br>GDP: 0.4404468020837478<br>Life Expectancy: 0.8747628083491463",
          "Israel<br>Bi-Class: medium_high<br>GDP: 0.438477090002583<br>Life Expectancy: 0.8766603415559773",
          "Qatar<br>Bi-Class: medium_high<br>GDP: 0.3577619235136077<br>Life Expectancy: 0.7950664136622392",
          "Oman<br>Bi-Class: medium_high<br>GDP: 0.2381148153537512<br>Life Expectancy: 0.7647058823529411",
          "Oman<br>Bi-Class: medium_high<br>GDP: 0.3511110835723031<br>Life Expectancy: 0.7647058823529411",
          "Sweden<br>Bi-Class: medium_high<br>GDP: 0.4265505676750455<br>Life Expectancy: 0.8747628083491463",
          "Croatia<br>Bi-Class: medium_high<br>GDP: 0.4634416341852533<br>Life Expectancy: 0.7912713472485768",
          "Switzerland<br>Bi-Class: medium_high<br>GDP: 0.4601124945054611<br>Life Expectancy: 0.8937381404174574",
          "Switzerland<br>Bi-Class: medium_high<br>GDP: 0.4664075032877332<br>Life Expectancy: 0.8937381404174574",
          "Italy<br>Bi-Class: medium_high<br>GDP: 0.4204370996125536<br>Life Expectancy: 0.8804554079696396",
          "United Kingdom<br>Bi-Class: medium_high<br>GDP: 0.4055847738631829<br>Life Expectancy: 0.8519924098671727",
          "Czechia<br>Bi-Class: medium_high<br>GDP: 0.4557399764120583<br>Life Expectancy: 0.8064516129032258",
          "Cyprus<br>Bi-Class: medium_high<br>GDP: 0.3427311778173799<br>Life Expectancy: 0.9240986717267552",
          "Cyprus<br>Bi-Class: medium_high<br>GDP: 0.4426339910577338<br>Life Expectancy: 0.9240986717267552"
         ],
         "type": "choropleth",
         "z": [
          0.4627433376017213,
          0.2520873353227697,
          0.2470655703697421,
          0.3491823513375904,
          0.4430241191959502,
          0.4404468020837478,
          0.438477090002583,
          0.3577619235136077,
          0.2381148153537512,
          0.3511110835723031,
          0.4265505676750455,
          0.4634416341852533,
          0.4601124945054611,
          0.4664075032877332,
          0.4204370996125536,
          0.4055847738631829,
          0.4557399764120583,
          0.3427311778173799,
          0.4426339910577338
         ]
        },
        {
         "colorscale": [
          [
           0,
           "#238443"
          ],
          [
           1,
           "#238443"
          ]
         ],
         "geo": "geo",
         "hoverinfo": "text",
         "locations": [
          "MNG",
          "UKR",
          "UKR"
         ],
         "name": "High Education_Low Education & L.E",
         "showscale": false,
         "text": [
          "Mongolia<br>Bi-Class: high_low<br>GDP: 0.5865965068709913<br>Life Expectancy: 0.6166982922201139",
          "Ukraine<br>Bi-Class: high_low<br>GDP: 0.6134921475102856<br>Life Expectancy: 0.6641366223908918",
          "Ukraine<br>Bi-Class: high_low<br>GDP: 0.7351982565321327<br>Life Expectancy: 0.6641366223908918"
         ],
         "type": "choropleth",
         "z": [
          0.5865965068709913,
          0.6134921475102856,
          0.7351982565321327
         ]
        },
        {
         "colorscale": [
          [
           0,
           "#006837"
          ],
          [
           1,
           "#006837"
          ]
         ],
         "geo": "geo",
         "hoverinfo": "text",
         "locations": [
          "KAZ",
          "ARG",
          "ARG",
          "RUS",
          "RUS",
          "THA",
          "IRN",
          "BLR",
          "BLR",
          "HUN",
          "ROU",
          "LTU",
          "LTU",
          "BGR",
          "BGR",
          "SRB",
          "MNE"
         ],
         "name": "High Education_Medium Education & L.E",
         "showscale": false,
         "text": [
          "Kazakhstan<br>Bi-Class: high_medium<br>GDP: 0.4894832233015419<br>Life Expectancy: 0.6774193548387097",
          "Argentina<br>Bi-Class: high_medium<br>GDP: 0.4962838918660644<br>Life Expectancy: 0.7590132827324478",
          "Argentina<br>Bi-Class: high_medium<br>GDP: 0.8103767305359393<br>Life Expectancy: 0.7590132827324478",
          "Russia<br>Bi-Class: high_medium<br>GDP: 0.6074763060512239<br>Life Expectancy: 0.7343453510436433",
          "Russia<br>Bi-Class: high_medium<br>GDP: 0.7493302511497655<br>Life Expectancy: 0.7343453510436433",
          "Thailand<br>Bi-Class: high_medium<br>GDP: 0.4826567059107956<br>Life Expectancy: 0.7324478178368123",
          "Iran<br>Bi-Class: high_medium<br>GDP: 0.4761515335621458<br>Life Expectancy: 0.7438330170777989",
          "Belarus<br>Bi-Class: high_medium<br>GDP: 0.7232588728374019<br>Life Expectancy: 0.683111954459203",
          "Belarus<br>Bi-Class: high_medium<br>GDP: 0.9545658333771116<br>Life Expectancy: 0.683111954459203",
          "Hungary<br>Bi-Class: high_medium<br>GDP: 0.5350695197236356<br>Life Expectancy: 0.7495256166982922",
          "Romania<br>Bi-Class: high_medium<br>GDP: 0.4734983722110487<br>Life Expectancy: 0.7343453510436433",
          "Lithuania<br>Bi-Class: high_medium<br>GDP: 0.491195834130662<br>Life Expectancy: 0.7077798861480076",
          "Lithuania<br>Bi-Class: high_medium<br>GDP: 0.7284616741428683<br>Life Expectancy: 0.7077798861480076",
          "Bulgaria<br>Bi-Class: high_medium<br>GDP: 0.4765585264833256<br>Life Expectancy: 0.7248576850094877",
          "Bulgaria<br>Bi-Class: high_medium<br>GDP: 0.6058077327955598<br>Life Expectancy: 0.7248576850094877",
          "Serbia<br>Bi-Class: high_medium<br>GDP: 0.5357553332154793<br>Life Expectancy: 0.7457305502846299",
          "Montenegro<br>Bi-Class: high_medium<br>GDP: 0.5160626256180665<br>Life Expectancy: 0.7552182163187855"
         ],
         "type": "choropleth",
         "z": [
          0.4894832233015419,
          0.4962838918660644,
          0.8103767305359393,
          0.6074763060512239,
          0.7493302511497655,
          0.4826567059107956,
          0.4761515335621458,
          0.7232588728374019,
          0.9545658333771116,
          0.5350695197236356,
          0.4734983722110487,
          0.491195834130662,
          0.7284616741428683,
          0.4765585264833256,
          0.6058077327955598,
          0.5357553332154793,
          0.5160626256180665
         ]
        },
        {
         "colorscale": [
          [
           0,
           "#004529"
          ],
          [
           1,
           "#004529"
          ]
         ],
         "geo": "geo",
         "hoverinfo": "text",
         "locations": [
          "CAN",
          "USA",
          "USA",
          "CHL",
          "CHL",
          "NOR",
          "NOR",
          "FRA",
          "ISR",
          "SWE",
          "POL",
          "POL",
          "AUT",
          "AUT",
          "EST",
          "EST",
          "DEU",
          "DEU",
          "GRC",
          "GRC",
          "ALB",
          "ALB",
          "HRV",
          "BEL",
          "BEL",
          "ESP",
          "ESP",
          "IRL",
          "IRL",
          "NZL",
          "NZL",
          "ITA",
          "DNK",
          "DNK",
          "GBR",
          "ISL",
          "ISL",
          "SVN",
          "SVN",
          "FIN",
          "FIN",
          "CZE",
          "JPN",
          "JPN"
         ],
         "name": "High Education_High Education & L.E",
         "showscale": false,
         "text": [
          "Canada<br>Bi-Class: high_high<br>GDP: 0.6270047790332433<br>Life Expectancy: 0.870967741935484",
          "United States of America<br>Bi-Class: high_high<br>GDP: 0.6193525177365021<br>Life Expectancy: 0.8159392789373814",
          "United States of America<br>Bi-Class: high_high<br>GDP: 0.8510270359759226<br>Life Expectancy: 0.8159392789373814",
          "Chile<br>Bi-Class: high_high<br>GDP: 0.6244225443394661<br>Life Expectancy: 0.9240986717267552",
          "Chile<br>Bi-Class: high_high<br>GDP: 0.6946253084330641<br>Life Expectancy: 0.9240986717267552",
          "Norway<br>Bi-Class: high_high<br>GDP: 0.5021427489902586<br>Life Expectancy: 0.8633776091081593",
          "Norway<br>Bi-Class: high_high<br>GDP: 0.7562554669245414<br>Life Expectancy: 0.8633776091081593",
          "France<br>Bi-Class: high_high<br>GDP: 0.5485440084664348<br>Life Expectancy: 0.8747628083491463",
          "Israel<br>Bi-Class: high_high<br>GDP: 0.5883732038753703<br>Life Expectancy: 0.8766603415559773",
          "Sweden<br>Bi-Class: high_high<br>GDP: 0.6644571433479993<br>Life Expectancy: 0.8747628083491463",
          "Poland<br>Bi-Class: high_high<br>GDP: 0.4757679621993611<br>Life Expectancy: 0.7817836812144212",
          "Poland<br>Bi-Class: high_high<br>GDP: 0.7394368966194748<br>Life Expectancy: 0.7817836812144212",
          "Austria<br>Bi-Class: high_high<br>GDP: 0.6074597880208088<br>Life Expectancy: 0.857685009487666",
          "Austria<br>Bi-Class: high_high<br>GDP: 0.7314520681073017<br>Life Expectancy: 0.857685009487666",
          "Estonia<br>Bi-Class: high_high<br>GDP: 0.499986200332234<br>Life Expectancy: 0.7836812144212522",
          "Estonia<br>Bi-Class: high_high<br>GDP: 0.7535068540541716<br>Life Expectancy: 0.7836812144212522",
          "Germany<br>Bi-Class: high_high<br>GDP: 0.519627683121583<br>Life Expectancy: 0.8481973434535104",
          "Germany<br>Bi-Class: high_high<br>GDP: 0.4839606215789605<br>Life Expectancy: 0.8481973434535104",
          "Greece<br>Bi-Class: high_high<br>GDP: 0.9367322237984044<br>Life Expectancy: 0.8481973434535104",
          "Greece<br>Bi-Class: high_high<br>GDP: 0.967814302505253<br>Life Expectancy: 0.8481973434535104",
          "Albania<br>Bi-Class: high_high<br>GDP: 0.4688057384709432<br>Life Expectancy: 0.7874762808349145",
          "Albania<br>Bi-Class: high_high<br>GDP: 0.611354449581629<br>Life Expectancy: 0.7874762808349145",
          "Croatia<br>Bi-Class: high_high<br>GDP: 0.6301365849908928<br>Life Expectancy: 0.7912713472485768",
          "Belgium<br>Bi-Class: high_high<br>GDP: 0.5151456857922376<br>Life Expectancy: 0.8500948766603416",
          "Belgium<br>Bi-Class: high_high<br>GDP: 0.6719256257948854<br>Life Expectancy: 0.8500948766603416",
          "Spain<br>Bi-Class: high_high<br>GDP: 0.6372533973093085<br>Life Expectancy: 0.8823529411764706",
          "Spain<br>Bi-Class: high_high<br>GDP: 0.7723400566567045<br>Life Expectancy: 0.8823529411764706",
          "Ireland<br>Bi-Class: high_high<br>GDP: 0.5774090774802645<br>Life Expectancy: 0.8557874762808351",
          "Ireland<br>Bi-Class: high_high<br>GDP: 0.605903499544421<br>Life Expectancy: 0.8557874762808351",
          "New Zealand<br>Bi-Class: high_high<br>GDP: 0.5459246397271811<br>Life Expectancy: 0.859582542694497",
          "New Zealand<br>Bi-Class: high_high<br>GDP: 0.78491626716529<br>Life Expectancy: 0.859582542694497",
          "Italy<br>Bi-Class: high_high<br>GDP: 0.5880644680167977<br>Life Expectancy: 0.8804554079696396",
          "Denmark<br>Bi-Class: high_high<br>GDP: 0.5603292448925908<br>Life Expectancy: 0.9430740037950665",
          "Denmark<br>Bi-Class: high_high<br>GDP: 0.7709111839798221<br>Life Expectancy: 0.9430740037950665",
          "United Kingdom<br>Bi-Class: high_high<br>GDP: 0.5381419994728072<br>Life Expectancy: 0.8519924098671727",
          "Iceland<br>Bi-Class: high_high<br>GDP: 0.4741821051876103<br>Life Expectancy: 0.8804554079696396",
          "Iceland<br>Bi-Class: high_high<br>GDP: 0.8297117786427046<br>Life Expectancy: 0.8804554079696396",
          "Slovenia<br>Bi-Class: high_high<br>GDP: 0.5978375309362736<br>Life Expectancy: 0.9810246679316889",
          "Slovenia<br>Bi-Class: high_high<br>GDP: 0.8597863835860291<br>Life Expectancy: 0.9810246679316889",
          "Finland<br>Bi-Class: high_high<br>GDP: 0.6822669846157655<br>Life Expectancy: 0.8500948766603416",
          "Finland<br>Bi-Class: high_high<br>GDP: 0.8267231499639681<br>Life Expectancy: 0.8500948766603416",
          "Czechia<br>Bi-Class: high_high<br>GDP: 0.6423998986103416<br>Life Expectancy: 0.8064516129032258",
          "Japan<br>Bi-Class: high_high<br>GDP: 0.540356046007698<br>Life Expectancy: 0.8994307400379506",
          "Japan<br>Bi-Class: high_high<br>GDP: 0.4949406355453061<br>Life Expectancy: 0.8994307400379506"
         ],
         "type": "choropleth",
         "z": [
          0.6270047790332433,
          0.6193525177365021,
          0.8510270359759226,
          0.6244225443394661,
          0.6946253084330641,
          0.5021427489902586,
          0.7562554669245414,
          0.5485440084664348,
          0.5883732038753703,
          0.6644571433479993,
          0.4757679621993611,
          0.7394368966194748,
          0.6074597880208088,
          0.7314520681073017,
          0.499986200332234,
          0.7535068540541716,
          0.519627683121583,
          0.4839606215789605,
          0.9367322237984044,
          0.967814302505253,
          0.4688057384709432,
          0.611354449581629,
          0.6301365849908928,
          0.5151456857922376,
          0.6719256257948854,
          0.6372533973093085,
          0.7723400566567045,
          0.5774090774802645,
          0.605903499544421,
          0.5459246397271811,
          0.78491626716529,
          0.5880644680167977,
          0.5603292448925908,
          0.7709111839798221,
          0.5381419994728072,
          0.4741821051876103,
          0.8297117786427046,
          0.5978375309362736,
          0.8597863835860291,
          0.6822669846157655,
          0.8267231499639681,
          0.6423998986103416,
          0.540356046007698,
          0.4949406355453061
         ]
        },
        {
         "locationmode": "ISO-3",
         "locations": [
          null
         ],
         "marker": {
          "color": "#ffffe5",
          "size": 10
         },
         "name": "Low Education_Low L.E",
         "showlegend": true,
         "type": "scattergeo"
        },
        {
         "locationmode": "ISO-3",
         "locations": [
          null
         ],
         "marker": {
          "color": "#f7fcb9",
          "size": 10
         },
         "name": "Low Education_Medium L.E",
         "showlegend": true,
         "type": "scattergeo"
        },
        {
         "locationmode": "ISO-3",
         "locations": [
          null
         ],
         "marker": {
          "color": "#d9f0a3",
          "size": 10
         },
         "name": "Low Education_High L.E",
         "showlegend": true,
         "type": "scattergeo"
        },
        {
         "locationmode": "ISO-3",
         "locations": [
          null
         ],
         "marker": {
          "color": "#addd8e",
          "size": 10
         },
         "name": "Medium Education_Low L.E",
         "showlegend": true,
         "type": "scattergeo"
        },
        {
         "locationmode": "ISO-3",
         "locations": [
          null
         ],
         "marker": {
          "color": "#78c679",
          "size": 10
         },
         "name": "Medium Education_Medium L.E",
         "showlegend": true,
         "type": "scattergeo"
        },
        {
         "locationmode": "ISO-3",
         "locations": [
          null
         ],
         "marker": {
          "color": "#41ab5d",
          "size": 10
         },
         "name": "Medium Education_High L.E",
         "showlegend": true,
         "type": "scattergeo"
        },
        {
         "locationmode": "ISO-3",
         "locations": [
          null
         ],
         "marker": {
          "color": "#238443",
          "size": 10
         },
         "name": "High Education_Low L.E",
         "showlegend": true,
         "type": "scattergeo"
        },
        {
         "locationmode": "ISO-3",
         "locations": [
          null
         ],
         "marker": {
          "color": "#006837",
          "size": 10
         },
         "name": "High Education_Medium L.E",
         "showlegend": true,
         "type": "scattergeo"
        },
        {
         "locationmode": "ISO-3",
         "locations": [
          null
         ],
         "marker": {
          "color": "#004529",
          "size": 10
         },
         "name": "High Education_High L.E",
         "showlegend": true,
         "type": "scattergeo"
        }
       ],
       "layout": {
        "geo": {
         "bgcolor": "#a8d5f2",
         "coastlinecolor": "black",
         "countrycolor": "black",
         "lakecolor": "#FFFFFF",
         "projection": {
          "type": "natural earth"
         },
         "showcoastlines": true,
         "showcountries": true
        },
        "legend": {
         "title": {
          "text": "Categories"
         },
         "traceorder": "normal"
        },
        "margin": {
         "b": 0,
         "l": 0,
         "r": 0,
         "t": 50
        },
        "template": {
         "data": {
          "bar": [
           {
            "error_x": {
             "color": "#2a3f5f"
            },
            "error_y": {
             "color": "#2a3f5f"
            },
            "marker": {
             "line": {
              "color": "#E5ECF6",
              "width": 0.5
             },
             "pattern": {
              "fillmode": "overlay",
              "size": 10,
              "solidity": 0.2
             }
            },
            "type": "bar"
           }
          ],
          "barpolar": [
           {
            "marker": {
             "line": {
              "color": "#E5ECF6",
              "width": 0.5
             },
             "pattern": {
              "fillmode": "overlay",
              "size": 10,
              "solidity": 0.2
             }
            },
            "type": "barpolar"
           }
          ],
          "carpet": [
           {
            "aaxis": {
             "endlinecolor": "#2a3f5f",
             "gridcolor": "white",
             "linecolor": "white",
             "minorgridcolor": "white",
             "startlinecolor": "#2a3f5f"
            },
            "baxis": {
             "endlinecolor": "#2a3f5f",
             "gridcolor": "white",
             "linecolor": "white",
             "minorgridcolor": "white",
             "startlinecolor": "#2a3f5f"
            },
            "type": "carpet"
           }
          ],
          "choropleth": [
           {
            "colorbar": {
             "outlinewidth": 0,
             "ticks": ""
            },
            "type": "choropleth"
           }
          ],
          "contour": [
           {
            "colorbar": {
             "outlinewidth": 0,
             "ticks": ""
            },
            "colorscale": [
             [
              0,
              "#0d0887"
             ],
             [
              0.1111111111111111,
              "#46039f"
             ],
             [
              0.2222222222222222,
              "#7201a8"
             ],
             [
              0.3333333333333333,
              "#9c179e"
             ],
             [
              0.4444444444444444,
              "#bd3786"
             ],
             [
              0.5555555555555556,
              "#d8576b"
             ],
             [
              0.6666666666666666,
              "#ed7953"
             ],
             [
              0.7777777777777778,
              "#fb9f3a"
             ],
             [
              0.8888888888888888,
              "#fdca26"
             ],
             [
              1,
              "#f0f921"
             ]
            ],
            "type": "contour"
           }
          ],
          "contourcarpet": [
           {
            "colorbar": {
             "outlinewidth": 0,
             "ticks": ""
            },
            "type": "contourcarpet"
           }
          ],
          "heatmap": [
           {
            "colorbar": {
             "outlinewidth": 0,
             "ticks": ""
            },
            "colorscale": [
             [
              0,
              "#0d0887"
             ],
             [
              0.1111111111111111,
              "#46039f"
             ],
             [
              0.2222222222222222,
              "#7201a8"
             ],
             [
              0.3333333333333333,
              "#9c179e"
             ],
             [
              0.4444444444444444,
              "#bd3786"
             ],
             [
              0.5555555555555556,
              "#d8576b"
             ],
             [
              0.6666666666666666,
              "#ed7953"
             ],
             [
              0.7777777777777778,
              "#fb9f3a"
             ],
             [
              0.8888888888888888,
              "#fdca26"
             ],
             [
              1,
              "#f0f921"
             ]
            ],
            "type": "heatmap"
           }
          ],
          "heatmapgl": [
           {
            "colorbar": {
             "outlinewidth": 0,
             "ticks": ""
            },
            "colorscale": [
             [
              0,
              "#0d0887"
             ],
             [
              0.1111111111111111,
              "#46039f"
             ],
             [
              0.2222222222222222,
              "#7201a8"
             ],
             [
              0.3333333333333333,
              "#9c179e"
             ],
             [
              0.4444444444444444,
              "#bd3786"
             ],
             [
              0.5555555555555556,
              "#d8576b"
             ],
             [
              0.6666666666666666,
              "#ed7953"
             ],
             [
              0.7777777777777778,
              "#fb9f3a"
             ],
             [
              0.8888888888888888,
              "#fdca26"
             ],
             [
              1,
              "#f0f921"
             ]
            ],
            "type": "heatmapgl"
           }
          ],
          "histogram": [
           {
            "marker": {
             "pattern": {
              "fillmode": "overlay",
              "size": 10,
              "solidity": 0.2
             }
            },
            "type": "histogram"
           }
          ],
          "histogram2d": [
           {
            "colorbar": {
             "outlinewidth": 0,
             "ticks": ""
            },
            "colorscale": [
             [
              0,
              "#0d0887"
             ],
             [
              0.1111111111111111,
              "#46039f"
             ],
             [
              0.2222222222222222,
              "#7201a8"
             ],
             [
              0.3333333333333333,
              "#9c179e"
             ],
             [
              0.4444444444444444,
              "#bd3786"
             ],
             [
              0.5555555555555556,
              "#d8576b"
             ],
             [
              0.6666666666666666,
              "#ed7953"
             ],
             [
              0.7777777777777778,
              "#fb9f3a"
             ],
             [
              0.8888888888888888,
              "#fdca26"
             ],
             [
              1,
              "#f0f921"
             ]
            ],
            "type": "histogram2d"
           }
          ],
          "histogram2dcontour": [
           {
            "colorbar": {
             "outlinewidth": 0,
             "ticks": ""
            },
            "colorscale": [
             [
              0,
              "#0d0887"
             ],
             [
              0.1111111111111111,
              "#46039f"
             ],
             [
              0.2222222222222222,
              "#7201a8"
             ],
             [
              0.3333333333333333,
              "#9c179e"
             ],
             [
              0.4444444444444444,
              "#bd3786"
             ],
             [
              0.5555555555555556,
              "#d8576b"
             ],
             [
              0.6666666666666666,
              "#ed7953"
             ],
             [
              0.7777777777777778,
              "#fb9f3a"
             ],
             [
              0.8888888888888888,
              "#fdca26"
             ],
             [
              1,
              "#f0f921"
             ]
            ],
            "type": "histogram2dcontour"
           }
          ],
          "mesh3d": [
           {
            "colorbar": {
             "outlinewidth": 0,
             "ticks": ""
            },
            "type": "mesh3d"
           }
          ],
          "parcoords": [
           {
            "line": {
             "colorbar": {
              "outlinewidth": 0,
              "ticks": ""
             }
            },
            "type": "parcoords"
           }
          ],
          "pie": [
           {
            "automargin": true,
            "type": "pie"
           }
          ],
          "scatter": [
           {
            "fillpattern": {
             "fillmode": "overlay",
             "size": 10,
             "solidity": 0.2
            },
            "type": "scatter"
           }
          ],
          "scatter3d": [
           {
            "line": {
             "colorbar": {
              "outlinewidth": 0,
              "ticks": ""
             }
            },
            "marker": {
             "colorbar": {
              "outlinewidth": 0,
              "ticks": ""
             }
            },
            "type": "scatter3d"
           }
          ],
          "scattercarpet": [
           {
            "marker": {
             "colorbar": {
              "outlinewidth": 0,
              "ticks": ""
             }
            },
            "type": "scattercarpet"
           }
          ],
          "scattergeo": [
           {
            "marker": {
             "colorbar": {
              "outlinewidth": 0,
              "ticks": ""
             }
            },
            "type": "scattergeo"
           }
          ],
          "scattergl": [
           {
            "marker": {
             "colorbar": {
              "outlinewidth": 0,
              "ticks": ""
             }
            },
            "type": "scattergl"
           }
          ],
          "scattermapbox": [
           {
            "marker": {
             "colorbar": {
              "outlinewidth": 0,
              "ticks": ""
             }
            },
            "type": "scattermapbox"
           }
          ],
          "scatterpolar": [
           {
            "marker": {
             "colorbar": {
              "outlinewidth": 0,
              "ticks": ""
             }
            },
            "type": "scatterpolar"
           }
          ],
          "scatterpolargl": [
           {
            "marker": {
             "colorbar": {
              "outlinewidth": 0,
              "ticks": ""
             }
            },
            "type": "scatterpolargl"
           }
          ],
          "scatterternary": [
           {
            "marker": {
             "colorbar": {
              "outlinewidth": 0,
              "ticks": ""
             }
            },
            "type": "scatterternary"
           }
          ],
          "surface": [
           {
            "colorbar": {
             "outlinewidth": 0,
             "ticks": ""
            },
            "colorscale": [
             [
              0,
              "#0d0887"
             ],
             [
              0.1111111111111111,
              "#46039f"
             ],
             [
              0.2222222222222222,
              "#7201a8"
             ],
             [
              0.3333333333333333,
              "#9c179e"
             ],
             [
              0.4444444444444444,
              "#bd3786"
             ],
             [
              0.5555555555555556,
              "#d8576b"
             ],
             [
              0.6666666666666666,
              "#ed7953"
             ],
             [
              0.7777777777777778,
              "#fb9f3a"
             ],
             [
              0.8888888888888888,
              "#fdca26"
             ],
             [
              1,
              "#f0f921"
             ]
            ],
            "type": "surface"
           }
          ],
          "table": [
           {
            "cells": {
             "fill": {
              "color": "#EBF0F8"
             },
             "line": {
              "color": "white"
             }
            },
            "header": {
             "fill": {
              "color": "#C8D4E3"
             },
             "line": {
              "color": "white"
             }
            },
            "type": "table"
           }
          ]
         },
         "layout": {
          "annotationdefaults": {
           "arrowcolor": "#2a3f5f",
           "arrowhead": 0,
           "arrowwidth": 1
          },
          "autotypenumbers": "strict",
          "coloraxis": {
           "colorbar": {
            "outlinewidth": 0,
            "ticks": ""
           }
          },
          "colorscale": {
           "diverging": [
            [
             0,
             "#8e0152"
            ],
            [
             0.1,
             "#c51b7d"
            ],
            [
             0.2,
             "#de77ae"
            ],
            [
             0.3,
             "#f1b6da"
            ],
            [
             0.4,
             "#fde0ef"
            ],
            [
             0.5,
             "#f7f7f7"
            ],
            [
             0.6,
             "#e6f5d0"
            ],
            [
             0.7,
             "#b8e186"
            ],
            [
             0.8,
             "#7fbc41"
            ],
            [
             0.9,
             "#4d9221"
            ],
            [
             1,
             "#276419"
            ]
           ],
           "sequential": [
            [
             0,
             "#0d0887"
            ],
            [
             0.1111111111111111,
             "#46039f"
            ],
            [
             0.2222222222222222,
             "#7201a8"
            ],
            [
             0.3333333333333333,
             "#9c179e"
            ],
            [
             0.4444444444444444,
             "#bd3786"
            ],
            [
             0.5555555555555556,
             "#d8576b"
            ],
            [
             0.6666666666666666,
             "#ed7953"
            ],
            [
             0.7777777777777778,
             "#fb9f3a"
            ],
            [
             0.8888888888888888,
             "#fdca26"
            ],
            [
             1,
             "#f0f921"
            ]
           ],
           "sequentialminus": [
            [
             0,
             "#0d0887"
            ],
            [
             0.1111111111111111,
             "#46039f"
            ],
            [
             0.2222222222222222,
             "#7201a8"
            ],
            [
             0.3333333333333333,
             "#9c179e"
            ],
            [
             0.4444444444444444,
             "#bd3786"
            ],
            [
             0.5555555555555556,
             "#d8576b"
            ],
            [
             0.6666666666666666,
             "#ed7953"
            ],
            [
             0.7777777777777778,
             "#fb9f3a"
            ],
            [
             0.8888888888888888,
             "#fdca26"
            ],
            [
             1,
             "#f0f921"
            ]
           ]
          },
          "colorway": [
           "#636efa",
           "#EF553B",
           "#00cc96",
           "#ab63fa",
           "#FFA15A",
           "#19d3f3",
           "#FF6692",
           "#B6E880",
           "#FF97FF",
           "#FECB52"
          ],
          "font": {
           "color": "#2a3f5f"
          },
          "geo": {
           "bgcolor": "white",
           "lakecolor": "white",
           "landcolor": "#E5ECF6",
           "showlakes": true,
           "showland": true,
           "subunitcolor": "white"
          },
          "hoverlabel": {
           "align": "left"
          },
          "hovermode": "closest",
          "mapbox": {
           "style": "light"
          },
          "paper_bgcolor": "white",
          "plot_bgcolor": "#E5ECF6",
          "polar": {
           "angularaxis": {
            "gridcolor": "white",
            "linecolor": "white",
            "ticks": ""
           },
           "bgcolor": "#E5ECF6",
           "radialaxis": {
            "gridcolor": "white",
            "linecolor": "white",
            "ticks": ""
           }
          },
          "scene": {
           "xaxis": {
            "backgroundcolor": "#E5ECF6",
            "gridcolor": "white",
            "gridwidth": 2,
            "linecolor": "white",
            "showbackground": true,
            "ticks": "",
            "zerolinecolor": "white"
           },
           "yaxis": {
            "backgroundcolor": "#E5ECF6",
            "gridcolor": "white",
            "gridwidth": 2,
            "linecolor": "white",
            "showbackground": true,
            "ticks": "",
            "zerolinecolor": "white"
           },
           "zaxis": {
            "backgroundcolor": "#E5ECF6",
            "gridcolor": "white",
            "gridwidth": 2,
            "linecolor": "white",
            "showbackground": true,
            "ticks": "",
            "zerolinecolor": "white"
           }
          },
          "shapedefaults": {
           "line": {
            "color": "#2a3f5f"
           }
          },
          "ternary": {
           "aaxis": {
            "gridcolor": "white",
            "linecolor": "white",
            "ticks": ""
           },
           "baxis": {
            "gridcolor": "white",
            "linecolor": "white",
            "ticks": ""
           },
           "bgcolor": "#E5ECF6",
           "caxis": {
            "gridcolor": "white",
            "linecolor": "white",
            "ticks": ""
           }
          },
          "title": {
           "x": 0.05
          },
          "xaxis": {
           "automargin": true,
           "gridcolor": "white",
           "linecolor": "white",
           "ticks": "",
           "title": {
            "standoff": 15
           },
           "zerolinecolor": "white",
           "zerolinewidth": 2
          },
          "yaxis": {
           "automargin": true,
           "gridcolor": "white",
           "linecolor": "white",
           "ticks": "",
           "title": {
            "standoff": 15
           },
           "zerolinecolor": "white",
           "zerolinewidth": 2
          }
         }
        },
        "title": {
         "text": "Education vs Life Expectancy Bivariate Choropleth"
        }
       }
      }
     },
     "metadata": {},
     "output_type": "display_data"
    }
   ],
   "source": [
    "import pandas as pd\n",
    "import geopandas as gpd\n",
    "import plotly.graph_objects as go\n",
    "\n",
    "# Load the CSV file\n",
    "data = pd.read_csv('datasets/Normalized_Dataset_EDU.csv')\n",
    "\n",
    "# Convert the 'GDP' and 'Life expectancy' columns to numeric\n",
    "data['Value'] = pd.to_numeric(data['Value'], errors='coerce')\n",
    "data['Life expectancy'] = pd.to_numeric(data['Life expectancy'], errors='coerce')\n",
    "\n",
    "# Load the dataset with country borders\n",
    "border = gpd.read_file(gpd.datasets.get_path('naturalearth_lowres'))\n",
    "border = border[border['name'] != 'Antarctica']\n",
    "\n",
    "# Merge the non-spatial data with the spatial GeoDataFrame based on the country name\n",
    "merged_data = border.merge(data, left_on='name', right_on='Country')\n",
    "\n",
    "# Ensure the GeoDataFrame has a CRS set\n",
    "if merged_data.crs is None:\n",
    "    merged_data = merged_data.set_crs('EPSG:4326')  # Assuming WGS84\n",
    "\n",
    "# Add the 'Bi_Class' column to your data for bivariate choropleth\n",
    "merged_data['Bi_Class'] = pd.qcut(merged_data['Value'], 3, labels=['low', 'medium', 'high']).astype(str) + \\\n",
    "                          pd.qcut(merged_data['Life expectancy'], 3, labels=['_low', '_medium', '_high']).astype(str)\n",
    "\n",
    "# Define custom colors for each category with ordered keys\n",
    "ordered_categories = ['low_low', 'low_medium', 'low_high',\n",
    "                      'medium_low', 'medium_medium', 'medium_high',\n",
    "                      'high_low', 'high_medium', 'high_high']\n",
    "category_colors = {\n",
    "    'low_low': '#ffffe5',  # low GDP, low life expectancy\n",
    "    'low_medium': '#f7fcb9',  # low GDP, medium life expectancy\n",
    "    'low_high': '#d9f0a3',  # low GDP, high life expectancy\n",
    "    'medium_low': '#addd8e',  # medium GDP, low life expectancy\n",
    "    'medium_medium': '#78c679',  # medium GDP, medium life expectancy\n",
    "    'medium_high': '#41ab5d',  # medium GDP, high life expectancy\n",
    "    'high_low': '#238443',  # high GDP, low life expectancy\n",
    "    'high_medium': '#006837',  # high GDP, medium life expectancy\n",
    "    'high_high': '#004529'  # high GDP, high life expectancy\n",
    "}\n",
    "merged_data['color'] = merged_data['Bi_Class'].map(category_colors)\n",
    "\n",
    "# Prepare the data for Plotly\n",
    "merged_data['iso_a3'] = merged_data['iso_a3'].apply(lambda x: x if x != -99 else None)\n",
    "\n",
    "# Create the Plotly figure\n",
    "fig = go.Figure()\n",
    "\n",
    "# Add choropleth traces in the order of the categories\n",
    "for category in ordered_categories:\n",
    "    subset = merged_data[merged_data['Bi_Class'] == category]\n",
    "    fig.add_trace(go.Choropleth(\n",
    "        locations=subset['iso_a3'],\n",
    "        z=subset['Value'],  # Here, use GDP for the color intensity\n",
    "        text=subset.apply(lambda row: f\"{row['name']}<br>Bi-Class: {row['Bi_Class']}<br>GDP: {row['Value']}<br>Life Expectancy: {row['Life expectancy']}\", axis=1),\n",
    "        hoverinfo='text',\n",
    "        geo='geo',\n",
    "        colorscale=[[0, category_colors[category]], [1, category_colors[category]]],\n",
    "        showscale=False,\n",
    "        name=category.replace('_low', '_Low Education & L.E').replace('_medium', '_Medium Education & L.E').replace('_high', '_High Education & L.E').replace('low', 'Low Education').replace('medium', 'Medium Education').replace('high', 'High Education')  # Update the category name\n",
    "    ))\n",
    "\n",
    "# Add custom legend using scattergeo\n",
    "for category in ordered_categories:\n",
    "    fig.add_trace(go.Scattergeo(\n",
    "        locationmode='ISO-3',\n",
    "        locations=[None],  # No actual points, just for the legend\n",
    "        marker=dict(\n",
    "            size=10,\n",
    "            color=category_colors[category],\n",
    "        ),\n",
    "        showlegend=True,\n",
    "        name=category.replace('_low', '_Low L.E').replace('_medium', '_Medium L.E').replace('_high', '_High L.E').replace('low', 'Low Education').replace('medium', 'Medium Education').replace('high', 'High Education')  # Update the category name\n",
    "    ))\n",
    "\n",
    "# Update the layout for better appearance\n",
    "fig.update_geos(\n",
    "    showcountries=True,\n",
    "    countrycolor=\"black\",\n",
    "    showcoastlines=True,\n",
    "    coastlinecolor=\"black\",\n",
    "    projection_type=\"natural earth\"\n",
    ")\n",
    "\n",
    "fig.update_layout(\n",
    "    title_text='Education vs Life Expectancy Bivariate Choropleth',\n",
    "    margin={\"r\":0, \"t\":50, \"l\":0, \"b\":0},\n",
    "    legend=dict(\n",
    "        title=\"Categories\",\n",
    "        traceorder='normal'  # Ensure the legend follows the trace order\n",
    "    ),\n",
    "    geo=dict(\n",
    "        lakecolor='#FFFFFF',\n",
    "        bgcolor='#a8d5f2'  # Set the water color to #a8d5f2\n",
    "    )\n",
    ")\n",
    "\n",
    "# Show the figure\n",
    "fig.show()"
   ]
  }
 ],
 "metadata": {
  "kernelspec": {
   "display_name": "jupyterbook",
   "language": "python",
   "name": "python3"
  },
  "language_info": {
   "codemirror_mode": {
    "name": "ipython",
    "version": 3
   },
   "file_extension": ".py",
   "mimetype": "text/x-python",
   "name": "python",
   "nbconvert_exporter": "python",
   "pygments_lexer": "ipython3",
   "version": "3.10.14"
  }
 },
 "nbformat": 4,
 "nbformat_minor": 2
}
